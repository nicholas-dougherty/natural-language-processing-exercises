{
 "cells": [
  {
   "cell_type": "markdown",
   "id": "90d5869e-9d49-4f18-8579-be5705e1f44c",
   "metadata": {},
   "source": [
    "# Exploratory Data Analysis (EDA)\n",
    "#### Natural Language Processing Explored\n",
    "\n",
    "###### Exercises\n",
    "\n",
    "1. Spam Data\n",
    "\n",
    "    - a. Load the spam data set.\n",
    "    - b. Create and explore bigrams for the spam data. Visualize them with a word cloud. How do they compare with the ham bigrams?\n",
    "    - c. Is there any overlap in the bigrams for the spam data and the ham data?\n",
    "    - d. Create and explore with trigrams (i.e. a n-gram with an n of 3) for both the spam and ham data.         \n",
    "    \n",
    "        \n",
    "2. Explore the blog articles using the techniques discussed in the exploration lesson.\n",
    "\n",
    "3. Explore the news articles using the techniques discussed in the exploration lesson. Use the category variable when exploring."
   ]
  },
  {
   "cell_type": "code",
   "execution_count": 1,
   "id": "96de03c4-5fd2-4bca-b47d-c2d4547a04be",
   "metadata": {},
   "outputs": [],
   "source": [
    "import re\n",
    "import unicodedata\n",
    "import pandas as pd\n",
    "import nltk\n",
    "\n",
    "from env import user, password, host, get_db_url"
   ]
  },
  {
   "cell_type": "markdown",
   "id": "2a8d9de1-963c-4dae-95ef-16a01c3a8e5d",
   "metadata": {},
   "source": [
    "***\n",
    "1. Spam Data\n",
    "\n",
    "- a. Load the spam data set.\n",
    "- b. Create and explore bigrams for the spam data. Visualize them with a word cloud. How do they compare with the ham bigrams?\n",
    "- c. Is there any overlap in the bigrams for the spam data and the ham data?\n",
    "- d. Create and explore with trigrams (i.e. a n-gram with an n of 3) for both the spam and ham data. "
   ]
  },
  {
   "cell_type": "code",
   "execution_count": 2,
   "id": "925b6188-15dd-478d-baf2-95a24fab40bd",
   "metadata": {},
   "outputs": [
    {
     "data": {
      "text/html": [
       "<div><div id=311652b3-1fe4-4da1-8845-6e074620fb4d style=\"display:none; background-color:#9D6CFF; color:white; width:200px; height:30px; padding-left:5px; border-radius:4px; flex-direction:row; justify-content:space-around; align-items:center;\" onmouseover=\"this.style.backgroundColor='#BA9BF8'\" onmouseout=\"this.style.backgroundColor='#9D6CFF'\" onclick=\"window.commands?.execute('create-mitosheet-from-dataframe-output');\">See Full Dataframe in Mito</div> <script> if (window.commands.hasCommand('create-mitosheet-from-dataframe-output')) document.getElementById('311652b3-1fe4-4da1-8845-6e074620fb4d').style.display = 'flex' </script> <table border=\"1\" class=\"dataframe\">\n",
       "  <thead>\n",
       "    <tr style=\"text-align: right;\">\n",
       "      <th></th>\n",
       "      <th>label</th>\n",
       "      <th>text</th>\n",
       "    </tr>\n",
       "    <tr>\n",
       "      <th>id</th>\n",
       "      <th></th>\n",
       "      <th></th>\n",
       "    </tr>\n",
       "  </thead>\n",
       "  <tbody>\n",
       "    <tr>\n",
       "      <th>0</th>\n",
       "      <td>ham</td>\n",
       "      <td>Go until jurong point, crazy.. Available only in bugis n great world la e buffet... Cine there got amore wat...</td>\n",
       "    </tr>\n",
       "    <tr>\n",
       "      <th>1</th>\n",
       "      <td>ham</td>\n",
       "      <td>Ok lar... Joking wif u oni...</td>\n",
       "    </tr>\n",
       "    <tr>\n",
       "      <th>2</th>\n",
       "      <td>spam</td>\n",
       "      <td>Free entry in 2 a wkly comp to win FA Cup final tkts 21st May 2005. Text FA to 87121 to receive entry question(std txt rate)T&amp;C's apply 08452810075over18's</td>\n",
       "    </tr>\n",
       "    <tr>\n",
       "      <th>3</th>\n",
       "      <td>ham</td>\n",
       "      <td>U dun say so early hor... U c already then say...</td>\n",
       "    </tr>\n",
       "    <tr>\n",
       "      <th>4</th>\n",
       "      <td>ham</td>\n",
       "      <td>Nah I don't think he goes to usf, he lives around here though</td>\n",
       "    </tr>\n",
       "  </tbody>\n",
       "</table></div>"
      ],
      "text/plain": [
       "   label                                               text\n",
       "id                                                         \n",
       "0    ham  Go until jurong point, crazy.. Available only ...\n",
       "1    ham                      Ok lar... Joking wif u oni...\n",
       "2   spam  Free entry in 2 a wkly comp to win FA Cup fina...\n",
       "3    ham  U dun say so early hor... U c already then say...\n",
       "4    ham  Nah I don't think he goes to usf, he lives aro..."
      ]
     },
     "execution_count": 2,
     "metadata": {},
     "output_type": "execute_result"
    }
   ],
   "source": [
    "# 1.a): Load the spam data set from Codeup's MYSQL server.\n",
    "# use UDF to access the database. \n",
    "\n",
    "def get_db_url(database, host=host, user=user, password=password):\n",
    "    return f'mysql+pymysql://{user}:{password}@{host}/{database}'\n",
    "\n",
    "# establish connection using a string that matched the desired database\n",
    "url = get_db_url('spam_db')\n",
    "# specify the query used in acquisition \n",
    "sql = \"SELECT * FROM spam\"\n",
    "\n",
    "# create the dataframe using both variables\n",
    "df = pd.read_sql(sql, url, index_col='id')\n",
    "\n",
    "# check the first 5 rows. \n",
    "df.head()"
   ]
  },
  {
   "cell_type": "code",
   "execution_count": null,
   "id": "330603c6-2cb8-44ba-9c2f-9520e3357e4c",
   "metadata": {},
   "outputs": [],
   "source": [
    "# 1.b): Create and explore bigrams for the spam data. \n",
    "#       Visualize them with a word cloud. \n",
    "#       How do they compare with the ham bigrams?"
   ]
  },
  {
   "cell_type": "code",
   "execution_count": null,
   "id": "42682905-dab5-44e8-af08-ccddb32e891c",
   "metadata": {},
   "outputs": [],
   "source": []
  },
  {
   "cell_type": "code",
   "execution_count": null,
   "id": "103d6862-4d80-433d-a182-852cc6ad8440",
   "metadata": {},
   "outputs": [],
   "source": [
    "# 1.c): Is there any overlap in the bigrams \n",
    "#       for the spam data nd the ham data?"
   ]
  },
  {
   "cell_type": "code",
   "execution_count": null,
   "id": "db6bddd8-9092-4c6e-a533-002842c038ad",
   "metadata": {},
   "outputs": [],
   "source": []
  },
  {
   "cell_type": "code",
   "execution_count": null,
   "id": "bc7c48e5-d0b1-4640-8700-1a106ea0f512",
   "metadata": {},
   "outputs": [],
   "source": [
    "# 1.d): Create and explore with trigrams \n",
    "#       (i.e. a n-gram with an n of 3) \n",
    "#.      for both the spam and ham data. "
   ]
  },
  {
   "cell_type": "code",
   "execution_count": null,
   "id": "29faeb29-3f0c-4655-b172-d5730a79e2ea",
   "metadata": {},
   "outputs": [],
   "source": []
  },
  {
   "cell_type": "markdown",
   "id": "4cf8cb1e-7516-4c32-8f56-fffcdbc31965",
   "metadata": {},
   "source": [
    "***\n",
    "***\n",
    "2. Explore the blog articles using the techniques discussed in the exploration lesson."
   ]
  },
  {
   "cell_type": "code",
   "execution_count": null,
   "id": "96b846c4-1401-4a85-b8ea-2d40231fa6b3",
   "metadata": {},
   "outputs": [],
   "source": []
  },
  {
   "cell_type": "markdown",
   "id": "4621f6d1-f961-4817-94a7-6384d3f2c6e4",
   "metadata": {},
   "source": [
    "***\n",
    "***\n",
    "3. Explore the news articles using the techniques discussed in the exploration lesson. Use the category variable when exploring."
   ]
  },
  {
   "cell_type": "code",
   "execution_count": null,
   "id": "31ed1f54-64b6-4c44-b277-c05df014836e",
   "metadata": {},
   "outputs": [],
   "source": []
  }
 ],
 "metadata": {
  "kernelspec": {
   "display_name": "Python 3 (ipykernel)",
   "language": "python",
   "name": "python3"
  },
  "language_info": {
   "codemirror_mode": {
    "name": "ipython",
    "version": 3
   },
   "file_extension": ".py",
   "mimetype": "text/x-python",
   "name": "python",
   "nbconvert_exporter": "python",
   "pygments_lexer": "ipython3",
   "version": "3.9.7"
  }
 },
 "nbformat": 4,
 "nbformat_minor": 5
}
