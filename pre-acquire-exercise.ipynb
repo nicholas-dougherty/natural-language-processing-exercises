{
 "cells": [
  {
   "cell_type": "markdown",
   "id": "9ba2ff3c-1373-4217-bb91-bfed930cfbee",
   "metadata": {},
   "source": [
    "Playful Scraping.\n",
    "\n",
    "1. Inspect the page at https://web-scraping-demo.zgulde.net/people. What classes and html structure can you use to extract the information you want?\n",
    "2. Write python code to turn the page contents into a soup object.\n",
    "3. Write the code necessary to loop through all of the people and extract their\n",
    "information.\n",
    "4. The result should be a pandas DataFrame."
   ]
  },
  {
   "cell_type": "code",
   "execution_count": 1,
   "id": "428d0249-8078-4512-8657-7866b0c98479",
   "metadata": {},
   "outputs": [],
   "source": [
    "from requests import get\n",
    "from bs4 import BeautifulSoup\n",
    "import pandas as pd\n",
    "import numpy as np"
   ]
  },
  {
   "cell_type": "code",
   "execution_count": 2,
   "id": "fe312cb6-f6f0-47b0-a774-5449d0bffd57",
   "metadata": {},
   "outputs": [
    {
     "data": {
      "text/plain": [
       "<Response [200]>"
      ]
     },
     "execution_count": 2,
     "metadata": {},
     "output_type": "execute_result"
    }
   ],
   "source": [
    "url = 'https://web-scraping-demo.zgulde.net/people'\n",
    "response = get(url)\n",
    "response"
   ]
  },
  {
   "cell_type": "code",
   "execution_count": 3,
   "id": "16326bbd-8745-4b5e-9931-71fc8d1a0aba",
   "metadata": {},
   "outputs": [
    {
     "name": "stdout",
     "output_type": "stream",
     "text": [
      "<!DOCTYPE html>\n",
      "<html lang=\"en\">\n",
      "<head>\n",
      "    <meta charset=\"UTF-8\">\n",
      "    <meta http-equiv=\"X-UA-Compatible\" content=\"IE=edge\">\n",
      "    <meta name=\"viewport\" content=\"width=device-width, initial-scale=1.0\">\n",
      "    <title>Example People Page</title>\n",
      "    <link href=\"https://unpkg.com/tailwindcss@^2/dist/tailwind.min.css\" rel=\"stylesheet\" />\n",
      "    <link rel=\"stylesheet\" href=\"https://cdn.jsdelivr.net/npm/bootstr\n"
     ]
    }
   ],
   "source": [
    "print(response.text[:400])"
   ]
  },
  {
   "cell_type": "code",
   "execution_count": 4,
   "id": "d4d4e606-47f1-4fe0-a15d-9fdccc2c3293",
   "metadata": {},
   "outputs": [],
   "source": [
    "# Make a soup variable holding the response content\n",
    "soup = BeautifulSoup(response.text, 'html.parser')"
   ]
  },
  {
   "cell_type": "code",
   "execution_count": 6,
   "id": "1c252f60-6b52-4380-8f3f-2064a2c365e4",
   "metadata": {},
   "outputs": [],
   "source": [
    "people = soup.select('div.person')"
   ]
  },
  {
   "cell_type": "code",
   "execution_count": 7,
   "id": "05e43239-539f-4597-b620-b1b75ce0b963",
   "metadata": {},
   "outputs": [
    {
     "data": {
      "text/plain": [
       "<div class=\"person border rounded px-3 py-5 grid grid-cols-2 gap-x-3 bg-purple-50 hover:shadow-lg transition duration-500\">\n",
       "<h2 class=\"text-2xl text-purple-800 name col-span-full border-b\">Roberto Ross</h2>\n",
       "<p class=\"quote col-span-full px-5 py-5 text-center text-gray-500\">\n",
       "            \"Face-to-face zero administration Internet solution\"\n",
       "        </p>\n",
       "<div class=\"grid grid-cols-9\">\n",
       "<i class=\"bi bi-envelope-fill text-purple-800\"></i>\n",
       "<p class=\"email col-span-8\">vjohnson@yahoo.com</p>\n",
       "<i class=\"bi bi-telephone-fill text-purple-800\"></i>\n",
       "<p class=\"phone col-span-8\">554-451-2482</p>\n",
       "</div>\n",
       "<div class=\"address grid grid-cols-9\">\n",
       "<i class=\"bi bi-geo-fill text-purple-800\"></i>\n",
       "<p class=\"col-span-8\">\n",
       "                2345 Dustin Springs <br/>\n",
       "                Jacobfurt, KS 98704\n",
       "            </p>\n",
       "</div>\n",
       "</div>"
      ]
     },
     "execution_count": 7,
     "metadata": {},
     "output_type": "execute_result"
    }
   ],
   "source": [
    "people[0]"
   ]
  },
  {
   "cell_type": "code",
   "execution_count": 8,
   "id": "b2515631-2018-4ea0-aa64-f6bdcf7e2937",
   "metadata": {},
   "outputs": [
    {
     "data": {
      "text/plain": [
       "<div class=\"person border rounded px-3 py-5 grid grid-cols-2 gap-x-3 bg-purple-50 hover:shadow-lg transition duration-500\">\n",
       "<h2 class=\"text-2xl text-purple-800 name col-span-full border-b\">Courtney Perez DVM</h2>\n",
       "<p class=\"quote col-span-full px-5 py-5 text-center text-gray-500\">\n",
       "            \"Robust web-enabled groupware\"\n",
       "        </p>\n",
       "<div class=\"grid grid-cols-9\">\n",
       "<i class=\"bi bi-envelope-fill text-purple-800\"></i>\n",
       "<p class=\"email col-span-8\">jennifer86@hotmail.com</p>\n",
       "<i class=\"bi bi-telephone-fill text-purple-800\"></i>\n",
       "<p class=\"phone col-span-8\">(623)681-9891</p>\n",
       "</div>\n",
       "<div class=\"address grid grid-cols-9\">\n",
       "<i class=\"bi bi-geo-fill text-purple-800\"></i>\n",
       "<p class=\"col-span-8\">\n",
       "                409 Deborah View Apt. 413 <br/>\n",
       "                Arthurfurt, IA 68689\n",
       "            </p>\n",
       "</div>\n",
       "</div>"
      ]
     },
     "execution_count": 8,
     "metadata": {},
     "output_type": "execute_result"
    }
   ],
   "source": [
    "people[1]"
   ]
  },
  {
   "cell_type": "code",
   "execution_count": 15,
   "id": "9a92321c-e108-4d33-92ca-fdc4ecbfacc4",
   "metadata": {},
   "outputs": [
    {
     "data": {
      "text/plain": [
       "'Roberto Ross'"
      ]
     },
     "execution_count": 15,
     "metadata": {},
     "output_type": "execute_result"
    }
   ],
   "source": [
    "output = {}\n",
    "people[0].find('h2').text"
   ]
  },
  {
   "cell_type": "code",
   "execution_count": 18,
   "id": "f49fbfd8-c5af-44f7-89d4-0f4d782d79c0",
   "metadata": {},
   "outputs": [
    {
     "data": {
      "text/plain": [
       "'\\n            \"Face-to-face zero administration Internet solution\"\\n        '"
      ]
     },
     "execution_count": 18,
     "metadata": {},
     "output_type": "execute_result"
    }
   ],
   "source": [
    "people[0].find('p').text"
   ]
  },
  {
   "cell_type": "code",
   "execution_count": 20,
   "id": "28af9255-81da-4f44-98ba-caa83cd2e73c",
   "metadata": {},
   "outputs": [
    {
     "data": {
      "text/plain": [
       "'\\n\\nvjohnson@yahoo.com\\n\\n554-451-2482\\n'"
      ]
     },
     "execution_count": 20,
     "metadata": {},
     "output_type": "execute_result"
    }
   ],
   "source": [
    "people[0].find('div').text"
   ]
  },
  {
   "cell_type": "code",
   "execution_count": 24,
   "id": "cff71edb-c204-4dba-bbe7-b12219da5701",
   "metadata": {},
   "outputs": [],
   "source": [
    "person = people[0]"
   ]
  },
  {
   "cell_type": "code",
   "execution_count": 31,
   "id": "3c57ffc6-78c6-45eb-8156-ec06c638c294",
   "metadata": {},
   "outputs": [],
   "source": [
    "def parse_person(person):\n",
    "    output = {}\n",
    "    output['name'] = person.find('h2').text\n",
    "    output['quote'] = person.select('.quote')[0].text.strip()\n",
    "    output['email_address'] = person.select_one('.email').text\n",
    "    output['phone'] = person.select_one('.phone').text\n",
    "    person.select_one('.address').text.strip()\n",
    "    return output"
   ]
  },
  {
   "cell_type": "code",
   "execution_count": 32,
   "id": "5387d207-f3fb-48cc-8e31-085091af36b4",
   "metadata": {},
   "outputs": [
    {
     "data": {
      "text/html": [
       "<div><div id=1603af5d-a8f3-44cd-9f2a-55568468b953 style=\"display:none; background-color:#9D6CFF; color:white; width:200px; height:30px; padding-left:5px; border-radius:4px; flex-direction:row; justify-content:space-around; align-items:center;\" onmouseover=\"this.style.backgroundColor='#BA9BF8'\" onmouseout=\"this.style.backgroundColor='#9D6CFF'\" onclick=\"window.commands?.execute('create-mitosheet-from-dataframe-output');\">See Full Dataframe in Mito</div> <script> if (window.commands.hasCommand('create-mitosheet-from-dataframe-output')) document.getElementById('1603af5d-a8f3-44cd-9f2a-55568468b953').style.display = 'flex' </script> <table border=\"1\" class=\"dataframe\">\n",
       "  <thead>\n",
       "    <tr style=\"text-align: right;\">\n",
       "      <th></th>\n",
       "      <th>name</th>\n",
       "      <th>quote</th>\n",
       "      <th>email_address</th>\n",
       "      <th>phone</th>\n",
       "    </tr>\n",
       "  </thead>\n",
       "  <tbody>\n",
       "    <tr>\n",
       "      <th>0</th>\n",
       "      <td>Roberto Ross</td>\n",
       "      <td>\"Face-to-face zero administration Internet solution\"</td>\n",
       "      <td>vjohnson@yahoo.com</td>\n",
       "      <td>554-451-2482</td>\n",
       "    </tr>\n",
       "    <tr>\n",
       "      <th>1</th>\n",
       "      <td>Courtney Perez DVM</td>\n",
       "      <td>\"Robust web-enabled groupware\"</td>\n",
       "      <td>jennifer86@hotmail.com</td>\n",
       "      <td>(623)681-9891</td>\n",
       "    </tr>\n",
       "    <tr>\n",
       "      <th>2</th>\n",
       "      <td>Judith Cole</td>\n",
       "      <td>\"Right-sized composite moratorium\"</td>\n",
       "      <td>wagnercolleen@yahoo.com</td>\n",
       "      <td>041-291-8649x17019</td>\n",
       "    </tr>\n",
       "    <tr>\n",
       "      <th>3</th>\n",
       "      <td>Dr. Lori Jefferson</td>\n",
       "      <td>\"Horizontal system-worthy parallelism\"</td>\n",
       "      <td>alvinarnold@lamb.com</td>\n",
       "      <td>2452637666</td>\n",
       "    </tr>\n",
       "    <tr>\n",
       "      <th>4</th>\n",
       "      <td>Walter Rubio</td>\n",
       "      <td>\"Business-focused transitional functionalities\"</td>\n",
       "      <td>tiffany19@gentry-yoder.com</td>\n",
       "      <td>(117)132-2569x2596</td>\n",
       "    </tr>\n",
       "    <tr>\n",
       "      <th>5</th>\n",
       "      <td>Andrew Davis</td>\n",
       "      <td>\"Exclusive systematic support\"</td>\n",
       "      <td>randolphbrandon@smith.com</td>\n",
       "      <td>(092)565-9090x243</td>\n",
       "    </tr>\n",
       "    <tr>\n",
       "      <th>6</th>\n",
       "      <td>Jenna Byrd</td>\n",
       "      <td>\"Total fresh-thinking infrastructure\"</td>\n",
       "      <td>tranolivia@yahoo.com</td>\n",
       "      <td>883.355.2252x0264</td>\n",
       "    </tr>\n",
       "    <tr>\n",
       "      <th>7</th>\n",
       "      <td>Diane Lin</td>\n",
       "      <td>\"Total hybrid architecture\"</td>\n",
       "      <td>jonesclarence@jackson.com</td>\n",
       "      <td>+1-215-371-0859x41415</td>\n",
       "    </tr>\n",
       "    <tr>\n",
       "      <th>8</th>\n",
       "      <td>Michael Morris</td>\n",
       "      <td>\"Managed dynamic capability\"</td>\n",
       "      <td>fishertoni@king.com</td>\n",
       "      <td>770.445.7234x0996</td>\n",
       "    </tr>\n",
       "    <tr>\n",
       "      <th>9</th>\n",
       "      <td>Peter Williams</td>\n",
       "      <td>\"Business-focused 24hour hardware\"</td>\n",
       "      <td>jeffreygreene@yahoo.com</td>\n",
       "      <td>969-249-8803x2493</td>\n",
       "    </tr>\n",
       "  </tbody>\n",
       "</table></div>"
      ],
      "text/plain": [
       "                 name                                              quote  \\\n",
       "0        Roberto Ross  \"Face-to-face zero administration Internet sol...   \n",
       "1  Courtney Perez DVM                     \"Robust web-enabled groupware\"   \n",
       "2         Judith Cole                 \"Right-sized composite moratorium\"   \n",
       "3  Dr. Lori Jefferson             \"Horizontal system-worthy parallelism\"   \n",
       "4        Walter Rubio    \"Business-focused transitional functionalities\"   \n",
       "5        Andrew Davis                     \"Exclusive systematic support\"   \n",
       "6          Jenna Byrd              \"Total fresh-thinking infrastructure\"   \n",
       "7           Diane Lin                        \"Total hybrid architecture\"   \n",
       "8      Michael Morris                       \"Managed dynamic capability\"   \n",
       "9      Peter Williams                 \"Business-focused 24hour hardware\"   \n",
       "\n",
       "                email_address                  phone  \n",
       "0          vjohnson@yahoo.com           554-451-2482  \n",
       "1      jennifer86@hotmail.com          (623)681-9891  \n",
       "2     wagnercolleen@yahoo.com     041-291-8649x17019  \n",
       "3        alvinarnold@lamb.com             2452637666  \n",
       "4  tiffany19@gentry-yoder.com     (117)132-2569x2596  \n",
       "5   randolphbrandon@smith.com      (092)565-9090x243  \n",
       "6        tranolivia@yahoo.com      883.355.2252x0264  \n",
       "7   jonesclarence@jackson.com  +1-215-371-0859x41415  \n",
       "8         fishertoni@king.com      770.445.7234x0996  \n",
       "9     jeffreygreene@yahoo.com      969-249-8803x2493  "
      ]
     },
     "execution_count": 32,
     "metadata": {},
     "output_type": "execute_result"
    }
   ],
   "source": [
    "pd.DataFrame([parse_person(person) for person in people])"
   ]
  },
  {
   "cell_type": "code",
   "execution_count": 33,
   "id": "a8b4a54d-3691-4142-bb32-fdb19dba847d",
   "metadata": {},
   "outputs": [],
   "source": [
    "# find vs select\n",
    "# .find is a beautiful soup method\n",
    "# .select allows you to use a CSS selector"
   ]
  },
  {
   "cell_type": "code",
   "execution_count": null,
   "id": "6ed69127-b7dd-4dba-8e5f-52f758ea4618",
   "metadata": {},
   "outputs": [],
   "source": []
  },
  {
   "cell_type": "code",
   "execution_count": null,
   "id": "14d04027-4c60-4d9d-858a-8c573279a927",
   "metadata": {},
   "outputs": [],
   "source": [
    "def parse_news_article(article):\n",
    "    output = {}\n",
    "    output['headline'] = article.find('h2').text\n",
    "    output['date'], output['byline'], output['description'] = [p.text for p in article.find_all('p')]\n",
    "    return output"
   ]
  },
  {
   "cell_type": "code",
   "execution_count": null,
   "id": "b90a076a-e8ae-41f7-b545-d5a2f321af40",
   "metadata": {},
   "outputs": [],
   "source": [
    "pd.DataFrame([parse_news_article(article) for article in articles])"
   ]
  }
 ],
 "metadata": {
  "kernelspec": {
   "display_name": "Python 3 (ipykernel)",
   "language": "python",
   "name": "python3"
  },
  "language_info": {
   "codemirror_mode": {
    "name": "ipython",
    "version": 3
   },
   "file_extension": ".py",
   "mimetype": "text/x-python",
   "name": "python",
   "nbconvert_exporter": "python",
   "pygments_lexer": "ipython3",
   "version": "3.9.7"
  }
 },
 "nbformat": 4,
 "nbformat_minor": 5
}
