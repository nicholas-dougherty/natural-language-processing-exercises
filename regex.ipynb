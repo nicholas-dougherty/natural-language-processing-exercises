{
 "cells": [
  {
   "cell_type": "markdown",
   "id": "30c7f58c-0ea2-4f36-960c-7302d6cb7f53",
   "metadata": {},
   "source": [
    "# Regular Expressions\n",
    "                     Regexes\n",
    "A sort of meta-language with a few applicable uses. Generally speaking, it can be used to describe patterns in text. It falls within the scope of lexical analysis. \n",
    "- Find and/or extract text that matches a pattern\n",
    "- Replace or substitute text that matches a pattern.\n",
    "\n",
    "Regular expressions fit under the python standard library ```re``` module. _findall_ will be used most rigorously in this notebook. \n",
    "_findall_ receives a string that is a regular expression, the pattern, and another string that is the string you wish to search; it returns a list of all the times the given regex matches the string. \n",
    "***\n",
    "#### Raw Strings\n",
    "##### Any string in python prefixed with an r is a raw string. This means that backslashes will be included in the string verbatim, and don't carry special meaning. It is very common to use raw strings when creating a regular expression.\n",
    "***"
   ]
  },
  {
   "cell_type": "code",
   "execution_count": 1,
   "id": "8355cfb9-087f-4dee-9949-ab9d68e7af8d",
   "metadata": {},
   "outputs": [],
   "source": [
    "import re\n",
    "import pandas as pd\n",
    "import numpy as np"
   ]
  },
  {
   "cell_type": "markdown",
   "id": "a6641d36-c056-4c23-ab12-8e91cda4ca87",
   "metadata": {},
   "source": [
    "***\n",
    "### ((Reg(ex))ercises)\n",
    "***\n",
    "1. Write a function named is_vowel. It should accept a string as input and use a regular expression to determine if the passed string is a vowel. While not explicity mentioned in the lesson, you can treat the result of re.search as a boolean value that indicates whether or not the regular expression matches the given string.\n",
    "\n",
    "2. Write a function named is_valid_username that accepts a string as input. A valid username starts with a lowercase letter, and only consists of lowercase letters, numbers, or the _ character. It should also be no longer than 32 characters. The function should return either True or False depending on whether the passed string is a valid username.\n",
    "\n",
    "```\n",
    ">>> is_valid_username('aaaaaaaaaaaaaaaaaaaaaaaaaaaaaaaaa')\n",
    "False\n",
    ">>> is_valid_username('codeup')\n",
    "True\n",
    ">>> is_valid_username('Codeup')\n",
    "False\n",
    ">>> is_valid_username('codeup123')\n",
    "True\n",
    ">>> is_valid_username('1codeup')\n",
    "False\n",
    "```\n",
    "\n",
    "3. Write a regular expression to capture phone numbers. It should match all of the following:\n",
    "```\n",
    "(210) 867 5309\n",
    "+1 210.867.5309\n",
    "867-5309\n",
    "210-867-5309\n",
    "```\n",
    "\n",
    "\n",
    "4. Use regular expressions to convert the dates below to the standardized year-month-day format.\n",
    "\n",
    "```\n",
    "02/04/19\n",
    "02/05/19\n",
    "02/06/19\n",
    "02/07/19\n",
    "02/08/19\n",
    "02/09/19\n",
    "02/10/19\n",
    "```\n",
    "\n",
    "5. Write a regex to extract the various parts of these logfile lines:\n",
    "\n",
    "```\n",
    "GET /api/v1/sales?page=86 [16/Apr/2019:193452+0000] HTTP/1.1 {200} 510348 \"python-requests/2.21.0\" 97.105.19.58\n",
    "POST /users_accounts/file-upload [16/Apr/2019:193452+0000] HTTP/1.1 {201} 42 \"User-Agent: Mozilla/5.0 (X11; Fedora; Fedora; Linux x86_64) AppleWebKit/537.36 (KHTML, like Gecko) Chrome/73.0.3683.86 Safari/537.36\" 97.105.19.58\n",
    "GET /api/v1/items?page=3 [16/Apr/2019:193453+0000] HTTP/1.1 {429} 3561 \"python-requests/2.21.0\" 97.105.19.58\n",
    "```\n",
    "\n",
    "*** \n",
    "\n",
    "Bonus\n",
    "\n",
    "You can find a list of words on your mac at /usr/share/dict/words. Use this file to answer the following questions:\n",
    "\n",
    "- How many words have at least 3 vowels?\n",
    "- How many words have at least 3 vowels in a row?\n",
    "- How many words have at least 4 consonants in a row?\n",
    "- How many words start and end with the same letter?\n",
    "- How many words start and end with a vowel?\n",
    "- How many words contain the same letter 3 times in a row?\n",
    "- What other interesting patterns in words can you find?\n"
   ]
  },
  {
   "cell_type": "markdown",
   "id": "1cb8d82f-f690-442a-b179-1e67857aac02",
   "metadata": {},
   "source": [
    "***\n",
    "***\n",
    "1.\n",
    "__Write a function named is_vowel__.       \n",
    "- It should accept a string as input and use a regular expression to determine if the passed string is a vowel. \n",
    "- While not explicity mentioned in the lesson, you can treat the result of re.search as a boolean value that indicates whether or not the regular expression matches the given string."
   ]
  },
  {
   "cell_type": "code",
   "execution_count": null,
   "id": "1d4430d3-afe6-47ae-95d1-164504ce3632",
   "metadata": {},
   "outputs": [],
   "source": [
    "def is_vowel():\n",
    "    "
   ]
  },
  {
   "cell_type": "code",
   "execution_count": null,
   "id": "e377c5be-2f58-4525-b6b4-cf54985fb297",
   "metadata": {},
   "outputs": [],
   "source": []
  },
  {
   "cell_type": "markdown",
   "id": "1b330fbb-49c0-4a98-ba61-266f741bfc35",
   "metadata": {},
   "source": [
    "***\n",
    "***\n",
    "2. __Write a function named is_valid_username__\n",
    "- Accept a string as input. \n",
    "- A valid username starts with a lowercase letter, and only consists of lowercase letters, numbers, or the _ character.\n",
    "- It should also be no longer than 32 characters.\n",
    "- The function should return either True or False depending on whether the passed string is a valid username."
   ]
  },
  {
   "cell_type": "code",
   "execution_count": null,
   "id": "e7a9b051-c6f0-4c4a-8b7e-039d53dac6e6",
   "metadata": {},
   "outputs": [],
   "source": [
    "def is_valid_username():"
   ]
  },
  {
   "cell_type": "code",
   "execution_count": null,
   "id": "8f0ab89c-5f05-443e-8d45-cf0dcb81ac7c",
   "metadata": {},
   "outputs": [],
   "source": []
  },
  {
   "cell_type": "markdown",
   "id": "14196cb8-6f62-4e3f-8b6f-2b9f9998ec08",
   "metadata": {},
   "source": [
    "***\n",
    "***\n",
    "3. Write a regular expression to capture phone numbers.\n",
    "- It should match all of the following:\n",
    "    - (210) 867 5309\n",
    "    - +1 210.867.5309\n",
    "    - 867-5309\n",
    "    - 210-867-5309\n"
   ]
  },
  {
   "cell_type": "code",
   "execution_count": null,
   "id": "dc9aa9ce-b34d-4ba9-b901-7cf7fb6148d5",
   "metadata": {},
   "outputs": [],
   "source": []
  },
  {
   "cell_type": "code",
   "execution_count": null,
   "id": "c4a2ae08-441d-4027-9809-9370d4e5d873",
   "metadata": {},
   "outputs": [],
   "source": []
  },
  {
   "cell_type": "markdown",
   "id": "04eeb2ae-b865-46ef-95fd-36c8c587cd8d",
   "metadata": {},
   "source": [
    "***\n",
    "***\n",
    "4. Use regular expressions to convert the dates below to the standardized year-month-day format.\n",
    "        - 02/04/19\n",
    "        - 02/05/19\n",
    "        - 02/06/19\n",
    "        - 02/07/19\n",
    "        - 02/08/19\n",
    "        - 02/09/19\n",
    "        - 02/10/19"
   ]
  },
  {
   "cell_type": "code",
   "execution_count": null,
   "id": "3ec71237-47fd-4ae1-9209-650c5f0d263e",
   "metadata": {},
   "outputs": [],
   "source": []
  },
  {
   "cell_type": "code",
   "execution_count": null,
   "id": "b35e8bba-a853-4e3b-8354-c35794053b4f",
   "metadata": {},
   "outputs": [],
   "source": []
  },
  {
   "cell_type": "markdown",
   "id": "f747555c-dd33-4e5f-846c-53636d2b49e2",
   "metadata": {},
   "source": [
    "***\n",
    "***\n",
    "5. Write a regex to extract the various parts of these logfile lines:\n",
    "            \n",
    "                        \n",
    "```\n",
    "GET /api/v1/sales?page=86 [16/Apr/2019:193452+0000] HTTP/1.1 {200} 510348 \"python-requests/2.21.0\" 97.105.19.58\n",
    "POST /users_accounts/file-upload [16/Apr/2019:193452+0000] HTTP/1.1 {201} 42 \"User-Agent: Mozilla/5.0 (X11; Fedora; Fedora; Linux x86_64) AppleWebKit/537.36 (KHTML, like Gecko) Chrome/73.0.3683.86 Safari/537.36\" 97.105.19.58\n",
    "GET /api/v1/items?page=3 [16/Apr/2019:193453+0000] HTTP/1.1 {429} 3561 \"python-requests/2.21.0\" 97.105.19.58\n",
    "```\n"
   ]
  },
  {
   "cell_type": "code",
   "execution_count": null,
   "id": "43fdf1a8-c474-4eb5-8a3f-0006e86f3754",
   "metadata": {},
   "outputs": [],
   "source": []
  },
  {
   "cell_type": "code",
   "execution_count": null,
   "id": "fdad380e-b929-45d3-9a9d-1bdb919e5883",
   "metadata": {},
   "outputs": [],
   "source": []
  },
  {
   "cell_type": "markdown",
   "id": "32ad7fed-d386-475d-999f-167ea20788a3",
   "metadata": {},
   "source": [
    "***\n",
    "***\n",
    "### BONUSES \n",
    "                                                            and extra materials\n",
    "                                                            \n",
    "                                                            "
   ]
  },
  {
   "cell_type": "code",
   "execution_count": 2,
   "id": "a722b837-7c84-4dd6-ae62-a0efb46b9f80",
   "metadata": {},
   "outputs": [],
   "source": [
    "# This function is taken from the DS textbook via Codeup\n",
    "def show_all_matches(regexes, subject, re_length=6):\n",
    "    print('Sentence:')\n",
    "    print()\n",
    "    print('    {}'.format(subject))\n",
    "    print()\n",
    "    print(' regexp{} | matches'.format(' ' * (re_length - 6)))\n",
    "    print(' ------{} | -------'.format(' ' * (re_length - 6)))\n",
    "    for regexp in regexes:\n",
    "        fmt = ' {:<%d} | {!r}' % re_length\n",
    "        matches = re.findall(regexp, subject)\n",
    "        if len(matches) > 8:\n",
    "            matches = matches[:8] + ['...']\n",
    "        print(fmt.format(regexp, matches))"
   ]
  },
  {
   "cell_type": "code",
   "execution_count": 3,
   "id": "6879aae8-6b8d-4b78-934d-2ba66fa977be",
   "metadata": {},
   "outputs": [
    {
     "name": "stdout",
     "output_type": "stream",
     "text": [
      "Sentence:\n",
      "\n",
      "    Mary had a little lamb. 1 little lamb. Not 10, not 12, not 22, just one.\n",
      "\n",
      " regexp | matches\n",
      " ------ | -------\n",
      " a      | ['a', 'a', 'a', 'a', 'a']\n",
      " m      | ['m', 'm']\n",
      " M      | ['M']\n",
      " Mary   | ['Mary']\n",
      " little | ['little', 'little']\n",
      " 1      | ['1', '1', '1']\n",
      " 10     | ['10']\n",
      " 22     | ['22']\n"
     ]
    }
   ],
   "source": [
    "sentence = 'Mary had a little lamb. 1 little lamb. Not 10, not 12, not 22, just one.'\n",
    "\n",
    "show_all_matches([\n",
    "    r'a',\n",
    "    r'm',\n",
    "    r'M',\n",
    "    r'Mary',\n",
    "    r'little',\n",
    "    r'1',\n",
    "    r'10',\n",
    "    r'22'\n",
    "], sentence)\n"
   ]
  },
  {
   "cell_type": "code",
   "execution_count": null,
   "id": "25937f46-cea3-48c7-ba22-2f380691dabd",
   "metadata": {},
   "outputs": [],
   "source": []
  }
 ],
 "metadata": {
  "kernelspec": {
   "display_name": "Python 3 (ipykernel)",
   "language": "python",
   "name": "python3"
  },
  "language_info": {
   "codemirror_mode": {
    "name": "ipython",
    "version": 3
   },
   "file_extension": ".py",
   "mimetype": "text/x-python",
   "name": "python",
   "nbconvert_exporter": "python",
   "pygments_lexer": "ipython3",
   "version": "3.9.7"
  }
 },
 "nbformat": 4,
 "nbformat_minor": 5
}
