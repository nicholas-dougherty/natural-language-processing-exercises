{
 "cells": [
  {
   "cell_type": "markdown",
   "id": "30c7f58c-0ea2-4f36-960c-7302d6cb7f53",
   "metadata": {},
   "source": [
    "# Regular Expressions\n",
    "                     Regexes\n",
    "A sort of meta-language with a few applicable uses. Generally speaking, it can be used to describe patterns in text. It falls within the scope of lexical analysis. \n",
    "- Find and/or extract text that matches a pattern\n",
    "- Replace or substitute text that matches a pattern.\n",
    "\n",
    "Regular expressions fit under the python standard library ```re``` module. _findall_ will be used most rigorously in this notebook. \n",
    "_findall_ receives a string that is a regular expression, the pattern, and another string that is the string you wish to search; it returns a list of all the times the given regex matches the string. \n",
    "***\n",
    "#### Raw Strings\n",
    "##### Any string in python prefixed with an r is a raw string. This means that backslashes will be included in the string verbatim, and don't carry special meaning. It is very common to use raw strings when creating a regular expression.\n",
    "***"
   ]
  },
  {
   "cell_type": "code",
   "execution_count": 1,
   "id": "8355cfb9-087f-4dee-9949-ab9d68e7af8d",
   "metadata": {},
   "outputs": [],
   "source": [
    "import re\n",
    "import pandas as pd\n",
    "import numpy as np"
   ]
  },
  {
   "cell_type": "markdown",
   "id": "a6641d36-c056-4c23-ab12-8e91cda4ca87",
   "metadata": {},
   "source": [
    "***\n",
    "### ((Reg(ex))ercises)\n",
    "***\n",
    "1. Write a function named is_vowel. It should accept a string as input and use a regular expression to determine if the passed string is a vowel. While not explicity mentioned in the lesson, you can treat the result of re.search as a boolean value that indicates whether or not the regular expression matches the given string.\n",
    "\n",
    "2. Write a function named is_valid_username that accepts a string as input. A valid username starts with a lowercase letter, and only consists of lowercase letters, numbers, or the _ character. It should also be no longer than 32 characters. The function should return either True or False depending on whether the passed string is a valid username.\n",
    "\n",
    "```\n",
    ">>> is_valid_username('aaaaaaaaaaaaaaaaaaaaaaaaaaaaaaaaa')\n",
    "False\n",
    ">>> is_valid_username('codeup')\n",
    "True\n",
    ">>> is_valid_username('Codeup')\n",
    "False\n",
    ">>> is_valid_username('codeup123')\n",
    "True\n",
    ">>> is_valid_username('1codeup')\n",
    "False\n",
    "```\n",
    "\n",
    "3. Write a regular expression to capture phone numbers. It should match all of the following:\n",
    "```\n",
    "(210) 867 5309\n",
    "+1 210.867.5309\n",
    "867-5309\n",
    "210-867-5309\n",
    "```\n",
    "\n",
    "\n",
    "4. Use regular expressions to convert the dates below to the standardized year-month-day format.\n",
    "\n",
    "```\n",
    "02/04/19\n",
    "02/05/19\n",
    "02/06/19\n",
    "02/07/19\n",
    "02/08/19\n",
    "02/09/19\n",
    "02/10/19\n",
    "```\n",
    "\n",
    "5. Write a regex to extract the various parts of these logfile lines:\n",
    "\n",
    "```\n",
    "GET /api/v1/sales?page=86 [16/Apr/2019:193452+0000] HTTP/1.1 {200} 510348 \"python-requests/2.21.0\" 97.105.19.58\n",
    "POST /users_accounts/file-upload [16/Apr/2019:193452+0000] HTTP/1.1 {201} 42 \"User-Agent: Mozilla/5.0 (X11; Fedora; Fedora; Linux x86_64) AppleWebKit/537.36 (KHTML, like Gecko) Chrome/73.0.3683.86 Safari/537.36\" 97.105.19.58\n",
    "GET /api/v1/items?page=3 [16/Apr/2019:193453+0000] HTTP/1.1 {429} 3561 \"python-requests/2.21.0\" 97.105.19.58\n",
    "```\n",
    "\n",
    "*** \n",
    "\n",
    "Bonus\n",
    "\n",
    "You can find a list of words on your mac at /usr/share/dict/words. Use this file to answer the following questions:\n",
    "\n",
    "- How many words have at least 3 vowels?\n",
    "- How many words have at least 3 vowels in a row?\n",
    "- How many words have at least 4 consonants in a row?\n",
    "- How many words start and end with the same letter?\n",
    "- How many words start and end with a vowel?\n",
    "- How many words contain the same letter 3 times in a row?\n",
    "- What other interesting patterns in words can you find?\n"
   ]
  },
  {
   "cell_type": "markdown",
   "id": "1cb8d82f-f690-442a-b179-1e67857aac02",
   "metadata": {},
   "source": [
    "***\n",
    "***\n",
    "1.\n",
    "__Write a function named is_vowel__.       \n",
    "- It should accept a string as input and use a regular expression to determine if the passed string is a vowel. \n",
    "- While not explicity mentioned in the lesson, you can treat the result of re.search as a boolean value that indicates whether or not the regular expression matches the given string."
   ]
  },
  {
   "cell_type": "code",
   "execution_count": 9,
   "id": "1d4430d3-afe6-47ae-95d1-164504ce3632",
   "metadata": {},
   "outputs": [],
   "source": [
    "def is_vowel(string):\n",
    "    '''\n",
    "    this function receives a string, and then indicates whether or not it is a vowel\n",
    "    '''\n",
    "    regexp = r'[aeiouAEIOU]'\n",
    "    return bool(re.search(regexp, string))\n",
    "    \n",
    "#assert is_vowel('k') this returns an assertion error, as it should.\n",
    "assert is_vowel('i') # this is accepted. \n",
    "\n",
    "# an alternative approach \n",
    "def check_for_vowels(string):\n",
    "    '''\n",
    "    this function receives a string, and then indicates whether or not it has a vowel\n",
    "    '''\n",
    "    regexp = r'[aeiouAEIOU]'\n",
    "    return re.search(regexp, string)"
   ]
  },
  {
   "cell_type": "code",
   "execution_count": 13,
   "id": "335fa162-a9fc-49f6-b818-f5b28466f5f4",
   "metadata": {},
   "outputs": [
    {
     "name": "stdout",
     "output_type": "stream",
     "text": [
      "<re.Match object; span=(1, 2), match='o'>\n",
      "None\n",
      "None\n"
     ]
    }
   ],
   "source": [
    "print(f'{check_vowel(\"dog\")}')\n",
    "print(f'{check_vowel(\"try\")}') # ignore how y is sometimes a vowel\n",
    "print(f'{check_vowel(\"bnb\")}')"
   ]
  },
  {
   "cell_type": "code",
   "execution_count": 8,
   "id": "e377c5be-2f58-4525-b6b4-cf54985fb297",
   "metadata": {},
   "outputs": [
    {
     "data": {
      "text/plain": [
       "<re.Match object; span=(0, 5), match='eagle'>"
      ]
     },
     "execution_count": 8,
     "metadata": {},
     "output_type": "execute_result"
    }
   ],
   "source": [
    "def startswith_vowel(string):\n",
    "    '''\n",
    "    this function receives a string and uses regular expression\n",
    "    to indicate whether or not that word begins with a vowel.\n",
    "    '''\n",
    "    regexp = r'^[aeiouAEIOU]\\w+'\n",
    "    return re.search(regexp, string)"
   ]
  },
  {
   "cell_type": "code",
   "execution_count": 16,
   "id": "cec8117c-fef9-4e53-a66c-b9b211130dff",
   "metadata": {},
   "outputs": [
    {
     "name": "stdout",
     "output_type": "stream",
     "text": [
      "<re.Match object; span=(0, 5), match='eagle'>\n",
      "None\n",
      "None\n",
      "<re.Match object; span=(0, 6), match='Europe'>\n"
     ]
    }
   ],
   "source": [
    "print(f'{startswith_vowel(\"eagle\")}')\n",
    "print(f'{startswith_vowel(\"beagle\")}') # ignore how y is sometimes a vowel\n",
    "print(f'{startswith_vowel(\"seagull\")}')\n",
    "print(f'{startswith_vowel(\"Europe\")}')"
   ]
  },
  {
   "cell_type": "code",
   "execution_count": 21,
   "id": "ebcb41e9-37e0-49f4-b979-462e16130cf3",
   "metadata": {},
   "outputs": [],
   "source": [
    "def endswith_vowel(string):\n",
    "    '''\n",
    "    this function receives a string and uses regular expression\n",
    "    to indicate whether or not that word end with a vowel.\n",
    "    '''\n",
    "    regexp = r'\\w+[aeiouAEIOU]$'\n",
    "    return re.search(regexp, string)"
   ]
  },
  {
   "cell_type": "code",
   "execution_count": 22,
   "id": "3039d47e-3acd-4547-b5d9-98d7f6249987",
   "metadata": {},
   "outputs": [
    {
     "name": "stdout",
     "output_type": "stream",
     "text": [
      "<re.Match object; span=(0, 5), match='eagle'>\n",
      "<re.Match object; span=(0, 6), match='beagle'>\n",
      "None\n",
      "<re.Match object; span=(0, 6), match='Europe'>\n"
     ]
    }
   ],
   "source": [
    "print(f'{endswith_vowel(\"eagle\")}')\n",
    "print(f'{endswith_vowel(\"beagle\")}') # ignore how y is sometimes a vowel\n",
    "print(f'{endswith_vowel(\"seagull\")}')\n",
    "print(f'{endswith_vowel(\"Europe\")}')"
   ]
  },
  {
   "cell_type": "markdown",
   "id": "1b330fbb-49c0-4a98-ba61-266f741bfc35",
   "metadata": {},
   "source": [
    "***\n",
    "***\n",
    "2. __Write a function named is_valid_username__\n",
    "- Accept a string as input. \n",
    "- A valid username starts with a lowercase letter, and only consists of lowercase letters, numbers, or the _ character.\n",
    "- It should also be no longer than 32 characters.\n",
    "- The function should return either True or False depending on whether the passed string is a valid username."
   ]
  },
  {
   "cell_type": "code",
   "execution_count": 31,
   "id": "e7a9b051-c6f0-4c4a-8b7e-039d53dac6e6",
   "metadata": {},
   "outputs": [],
   "source": [
    "def is_valid_username(string):\n",
    "    '''\n",
    "    This function indicates whether a string passes username requirements.\n",
    "    A boolean test will determine whether the username is all lowercase\n",
    "    and only has numbers or the _ character. It also ensures it is less than 32 chars.\n",
    "    Returns true or false depending on if it meets this criteria.\n",
    "    '''\n",
    "    # ^ (starts with) lowercase a-z /w( (letters, numbers, or underscores) anywhere up to {} 31 characters.\n",
    "    regexp = r'^[a-z]\\w{,31}$'\n",
    "    # conduct regex search and return a boolean indicator of its outcome\n",
    "    return bool(re.search(regexp, string))"
   ]
  },
  {
   "cell_type": "code",
   "execution_count": 38,
   "id": "8f0ab89c-5f05-443e-8d45-cf0dcb81ac7c",
   "metadata": {},
   "outputs": [
    {
     "name": "stdout",
     "output_type": "stream",
     "text": [
      " 1: False\n",
      " 2: True\n",
      " 3: False\n",
      " 4: True\n",
      " 5: False\n",
      " 6: False\n"
     ]
    }
   ],
   "source": [
    "# the answers should be False, True, False, True, False\n",
    "\n",
    "print(f\" 1: {is_valid_username('aaaaaaaaaaaaaaaaaaaaaaaaaaaaaaaaa')}\")\n",
    "print(f\" 2: {is_valid_username('codeup')}\")\n",
    "print(f\" 3: {is_valid_username('Codeup')}\")\n",
    "print(f\" 4: {is_valid_username('codeup123')}\")\n",
    "print(f\" 5: {is_valid_username('1codeup')}\") \n",
    "print(f\" 6: {is_valid_username('aylma0%?')}\")\n",
    "assert is_valid_username('dolphins_rule69') # this passes, so the underscore is working as well."
   ]
  },
  {
   "cell_type": "code",
   "execution_count": 74,
   "id": "45556d0e-1dbc-40de-949f-dad33191cfb0",
   "metadata": {},
   "outputs": [],
   "source": [
    "def check_username(string):\n",
    "    '''\n",
    "    This function indicates whether a string passes username requirements.\n",
    "    A boolean test will determine whether the username is all lowercase\n",
    "    and only has numbers or the _ character. It also ensures it is less than 32 chars.\n",
    "    Returns true or false depending on if it meets this criteria.\n",
    "    '''\n",
    "    # ^ (starts with) lowercase a-z /w( (letters, numbers, or underscores) anywhere up to {} 31 characters.\n",
    "    regexp = r'^[a-z]\\w{,31}$'\n",
    "    # conduct regex search and return a boolean indicator of its outcome\n",
    "    test = bool(re.search(regexp, string))\n",
    "    if test == True:\n",
    "        return print(f'Excellent. Username \"{string}\" is granted.')\n",
    "    else:\n",
    "        return print(f'The username \"{string}\" does not meet the requirements. \\n Try again.')"
   ]
  },
  {
   "cell_type": "code",
   "execution_count": 68,
   "id": "aebdae86-1a9f-4e25-8850-b1cb19dd3b0c",
   "metadata": {},
   "outputs": [
    {
     "name": "stdout",
     "output_type": "stream",
     "text": [
      "Excellent. Username \"hollabackgirl\" is granted.\n",
      "None\n"
     ]
    }
   ],
   "source": [
    "print(check_username('hollabackgirl')) # not sure how to get rid of none here. "
   ]
  },
  {
   "cell_type": "code",
   "execution_count": 71,
   "id": "a3e324e9-ff7b-4f76-b2ff-1c1952705fb5",
   "metadata": {},
   "outputs": [
    {
     "name": "stdout",
     "output_type": "stream",
     "text": [
      "The username \"420blazeit\" does not meet the requirements. \n",
      " Try again.\n"
     ]
    }
   ],
   "source": [
    "check_username('420blazeit')"
   ]
  },
  {
   "cell_type": "markdown",
   "id": "14196cb8-6f62-4e3f-8b6f-2b9f9998ec08",
   "metadata": {},
   "source": [
    "***\n",
    "***\n",
    "3. Write a regular expression to capture phone numbers.\n",
    "- It should match all of the following:\n",
    "    - (210) 867 5309\n",
    "    - +1 210.867.5309\n",
    "    - 867-5309\n",
    "    - 210-867-5309\n"
   ]
  },
  {
   "cell_type": "code",
   "execution_count": 93,
   "id": "dc9aa9ce-b34d-4ba9-b901-7cf7fb6148d5",
   "metadata": {},
   "outputs": [
    {
     "name": "stdout",
     "output_type": "stream",
     "text": [
      "<re.Match object; span=(0, 21), match='867530986753098675309'>\n"
     ]
    }
   ],
   "source": [
    "# set variables for phone numbers I will be matching\n",
    "phonenum = '(210) 867 5309'\n",
    "phonenum1 = '+1 210.867.5309'\n",
    "phonenum2 = '867-5309'\n",
    "phonenum3 = '210-867-5309'\n",
    "\n",
    "# r'.*\\d{,3} (read below) The first dot accounts for instances of international code and parentheses, as well as spaces\n",
    "# . (anything) * (zero or more) \\d (numbers (digits makes it easier to remember)) {,3} up to three times\n",
    "# .*\\d{3}\n",
    "# anything (space or not) * (>=0) digit for three spaces\n",
    "# .*\\d{4}\n",
    "# same as before but with four spaces to close out the phone number. \n",
    "\n",
    "regexp = r'.*\\d{,3}.*\\d{3}.*\\d{4}'\n",
    "print(f'{re.search(regexp, ohno)}')"
   ]
  },
  {
   "cell_type": "code",
   "execution_count": 78,
   "id": "c4a2ae08-441d-4027-9809-9370d4e5d873",
   "metadata": {},
   "outputs": [
    {
     "name": "stdout",
     "output_type": "stream",
     "text": [
      "<re.Match object; span=(0, 14), match='(210) 867 5309'>\n",
      "<re.Match object; span=(0, 15), match='+1 210.867.5309'>\n",
      "<re.Match object; span=(0, 8), match='867-5309'>\n",
      "<re.Match object; span=(0, 12), match='210-867-5309'>\n"
     ]
    }
   ],
   "source": [
    "print(f'{re.search(regexp, phonenum)}')\n",
    "print(f'{re.search(regexp, phonenum1)}')\n",
    "print(f'{re.search(regexp, phonenum2)}')\n",
    "print(f'{re.search(regexp, phonenum3)}')"
   ]
  },
  {
   "cell_type": "code",
   "execution_count": 91,
   "id": "a2fc738a-878a-4a93-a86c-2b7f966c1a03",
   "metadata": {},
   "outputs": [],
   "source": [
    "def check_phonenumber(string):\n",
    "    '''\n",
    "    This function indicates whether a string passes is a valid phonenumber.\n",
    "    Handles instances where the area-code is not included, accounts for hyphens, periods, \n",
    "    international codes and white-space. Uses a boolean test on the search and returns whether\n",
    "    a valid phone-number was detected from the string. \n",
    "    '''\n",
    "    regexp = r'.*\\d{,3}.*\\d{3}.*\\d{4}'\n",
    "    # conduct regex search and return a boolean indicator of its outcome\n",
    "    test = bool(re.search(regexp, string))\n",
    "    if test == True:\n",
    "        return print(f'Phone number \"{string}\" accepted.')\n",
    "    else:\n",
    "        return print(f'\"{string}\" Does not register as a valid phone number')"
   ]
  },
  {
   "cell_type": "code",
   "execution_count": 92,
   "id": "e546a945-0b5f-4e0a-9323-8e5eca52b0f9",
   "metadata": {},
   "outputs": [
    {
     "name": "stdout",
     "output_type": "stream",
     "text": [
      "Phone number \"(210) 867 5309\" accepted.\n",
      "None\n",
      "Phone number \"((6665))-2388\" accepted.\n",
      "None\n",
      "Phone number \"867530986753098675309\" accepted.\n",
      "None\n",
      "\"dolphin\" Does not register as a valid phone number\n",
      "None\n"
     ]
    }
   ],
   "source": [
    "okiedokie = '((6665))-2388'\n",
    "print(check_phonenumber(phonenum))\n",
    "print(check_phonenumber(okiedokie))\n",
    "ohno = '867530986753098675309'\n",
    "print(check_phonenumber(ohno))\n",
    "dolphin = 'dolphin'\n",
    "print(check_phonenumber(dolphin))"
   ]
  },
  {
   "cell_type": "markdown",
   "id": "04eeb2ae-b865-46ef-95fd-36c8c587cd8d",
   "metadata": {},
   "source": [
    "***\n",
    "***\n",
    "4. Use regular expressions to convert the dates below to the standardized year-month-day format.\n",
    "        - 02/04/19\n",
    "        - 02/05/19\n",
    "        - 02/06/19\n",
    "        - 02/07/19\n",
    "        - 02/08/19\n",
    "        - 02/09/19\n",
    "        - 02/10/19\n",
    "        \n",
    "The key to success here will be capture groups and substitution"
   ]
  },
  {
   "cell_type": "code",
   "execution_count": 94,
   "id": "3ec71237-47fd-4ae1-9209-650c5f0d263e",
   "metadata": {},
   "outputs": [],
   "source": [
    "date_list = [\n",
    "    '02/04/19',\n",
    "    '02/05/19',\n",
    "    '02/06/19',\n",
    "    '02/07/19',\n",
    "    '02/08/19',\n",
    "    '02/09/19',\n",
    "    '02/10/19'\n",
    "]"
   ]
  },
  {
   "cell_type": "code",
   "execution_count": 97,
   "id": "b35e8bba-a853-4e3b-8354-c35794053b4f",
   "metadata": {},
   "outputs": [
    {
     "data": {
      "text/plain": [
       "'2019-02-05'"
      ]
     },
     "execution_count": 97,
     "metadata": {},
     "output_type": "execute_result"
    }
   ],
   "source": [
    "date_regex = r'(\\d+)/(\\d+)/(\\d+)'\n",
    "\n",
    "# testing\n",
    "re.sub(date_regex, r'20\\3-\\1-\\2',date_list[1])"
   ]
  },
  {
   "cell_type": "code",
   "execution_count": 98,
   "id": "8991a5c1-48d5-4612-943c-88ddc339dceb",
   "metadata": {},
   "outputs": [
    {
     "data": {
      "text/plain": [
       "['2019-02-04',\n",
       " '2019-02-05',\n",
       " '2019-02-06',\n",
       " '2019-02-07',\n",
       " '2019-02-08',\n",
       " '2019-02-09',\n",
       " '2019-02-10']"
      ]
     },
     "execution_count": 98,
     "metadata": {},
     "output_type": "execute_result"
    }
   ],
   "source": [
    "# apply to all\n",
    "[re.sub(date_regex, r'20\\3-\\1-\\2',date) for date in date_list]"
   ]
  },
  {
   "cell_type": "code",
   "execution_count": 104,
   "id": "9c726afe-0b6f-4764-ac8c-63898f53c737",
   "metadata": {},
   "outputs": [],
   "source": [
    "def convert_mdy_to_ymd(date_list):\n",
    "    '''\n",
    "    Receives a list of days formatted as mm/dd/yy\n",
    "    and uses substitution and regex to return the list\n",
    "    reformatted as yyyy-mm-dd\n",
    "    '''\n",
    "    regex = r'(\\d+)/(\\d+)/(\\d+)'\n",
    "    return [re.sub(date_reg, r'20\\3-\\1-\\2',date) for date in date_list]"
   ]
  },
  {
   "cell_type": "code",
   "execution_count": 105,
   "id": "9dec38ae-1a30-43a1-abd0-6dc632af29fd",
   "metadata": {},
   "outputs": [
    {
     "data": {
      "text/plain": [
       "['2019-02-04',\n",
       " '2019-02-05',\n",
       " '2019-02-06',\n",
       " '2019-02-07',\n",
       " '2019-02-08',\n",
       " '2019-02-09',\n",
       " '2019-02-10']"
      ]
     },
     "execution_count": 105,
     "metadata": {},
     "output_type": "execute_result"
    }
   ],
   "source": [
    "convert_mdy_to_ymd(date_list)"
   ]
  },
  {
   "cell_type": "markdown",
   "id": "f747555c-dd33-4e5f-846c-53636d2b49e2",
   "metadata": {},
   "source": [
    "***\n",
    "***\n",
    "5. Write a regex to extract the various parts of these logfile lines:\n",
    "            \n",
    "                        \n",
    "```\n",
    "GET /api/v1/sales?page=86 [16/Apr/2019:193452+0000] HTTP/1.1 {200} 510348 \"python-requests/2.21.0\" 97.105.19.58\n",
    "POST /users_accounts/file-upload [16/Apr/2019:193452+0000] HTTP/1.1 {201} 42 \"User-Agent: Mozilla/5.0 (X11; Fedora; Fedora; Linux x86_64) AppleWebKit/537.36 (KHTML, like Gecko) Chrome/73.0.3683.86 Safari/537.36\" 97.105.19.58\n",
    "GET /api/v1/items?page=3 [16/Apr/2019:193453+0000] HTTP/1.1 {429} 3561 \"python-requests/2.21.0\" 97.105.19.58\n",
    "```\n"
   ]
  },
  {
   "cell_type": "code",
   "execution_count": 109,
   "id": "b1fc0014-f9f3-400d-83da-85deac6570c2",
   "metadata": {},
   "outputs": [],
   "source": [
    "lines = \"\"\"\n",
    "GET /api/v1/sales?page=86 [16/Apr/2019:193452+0000] HTTP/1.1 {200} 510348 \"python-requests/2.21.0\" 97.105.19.58\n",
    "POST /users_accounts/file-upload [16/Apr/2019:193452+0000] HTTP/1.1 {201} 42 \"User-Agent: Mozilla/5.0 (X11; Fedora; Fedora; Linux x86_64) AppleWebKit/537.36 (KHTML, like Gecko) Chrome/73.0.3683.86 Safari/537.36\" 97.105.19.58\n",
    "GET /api/v1/items?page=3 [16/Apr/2019:193453+0000] HTTP/1.1 {429} 3561 \"python-requests/2.21.0\" 97.105.19.58\n",
    "\"\"\""
   ]
  },
  {
   "cell_type": "code",
   "execution_count": 107,
   "id": "43fdf1a8-c474-4eb5-8a3f-0006e86f3754",
   "metadata": {},
   "outputs": [],
   "source": [
    "regexp = r'''\n",
    "^\n",
    "(?P<method>GET|POST)\n",
    "\\s\n",
    "(?P<path>/[/\\w\\-\\?=]+)\n",
    "\\s\n",
    "\\[(?P<timestamp>.+)\\]\n",
    "\\s\n",
    "(?P<http_version>HTTP/\\d+\\.\\d+)\n",
    "\\s\n",
    "\\{(?P<status_code>\\d+)\\}\n",
    "\\s\n",
    "(?P<bytes>\\d+)\n",
    "\\s\n",
    "\"(?P<user_agent>.+)\"\n",
    "\\s\n",
    "(?P<ip>\\d+\\.\\d+\\.\\d+\\.\\d+)\n",
    "$\n",
    "'''"
   ]
  },
  {
   "cell_type": "code",
   "execution_count": 118,
   "id": "5f7e8089-aebe-460a-8d60-2cca265b965e",
   "metadata": {},
   "outputs": [],
   "source": [
    "# experimenting with comments \n",
    "regexp2 = r'''\n",
    "^\n",
    "(?P<method>GET|POST) (?# ?P<> -chevrons- are used to designate the name of the capture-group. GET OR POST)\n",
    "\\s (?# Indicates the whitespace for the lines)\n",
    "(?P<path>/[/\\w\\-\\?=]+) (?# The path can contain one or more of any of the bracketed symbols, hence the plus)\n",
    "\\s\n",
    "\\[(?P<timestamp>.+)\\] (?# The timestamp is anything, and any number of it all, contained within brackets)\n",
    "\\s\n",
    "(?P<http_version>HTTP/\\d+\\.\\d+) (?# version is HTTP/ \\d+ -one or more numbers- \\. -anything for the dot- and \\d+)\n",
    "\\s\n",
    "\\{(?P<status_code>\\d+)\\} (?# status code is any number of digits contained in curly brackets)\n",
    "\\s\n",
    "(?P<bytes>\\d+) (?# collect all digits after the white space for bytes)\n",
    "\\s\n",
    "\"(?P<user_agent>.+)\" (?# All of anything contained in quotation marks for user agent)\n",
    "\\s\n",
    "(?P<ip>\\d+\\.\\d+\\.\\d+\\.\\d+) (?# any number of digits between the period dividers)\n",
    "$ (?# end of regex)\n",
    "'''"
   ]
  },
  {
   "cell_type": "code",
   "execution_count": 119,
   "id": "fdad380e-b929-45d3-9a9d-1bdb919e5883",
   "metadata": {},
   "outputs": [
    {
     "data": {
      "text/plain": [
       "[{'method': 'GET',\n",
       "  'path': '/api/v1/sales?page=86',\n",
       "  'timestamp': '16/Apr/2019:193452+0000',\n",
       "  'http_version': 'HTTP/1.1',\n",
       "  'status_code': '200',\n",
       "  'bytes': '510348',\n",
       "  'user_agent': 'python-requests/2.21.0',\n",
       "  'ip': '97.105.19.58'},\n",
       " {'method': 'POST',\n",
       "  'path': '/users_accounts/file-upload',\n",
       "  'timestamp': '16/Apr/2019:193452+0000',\n",
       "  'http_version': 'HTTP/1.1',\n",
       "  'status_code': '201',\n",
       "  'bytes': '42',\n",
       "  'user_agent': 'User-Agent: Mozilla/5.0 (X11; Fedora; Fedora; Linux x86_64) AppleWebKit/537.36 (KHTML, like Gecko) Chrome/73.0.3683.86 Safari/537.36',\n",
       "  'ip': '97.105.19.58'},\n",
       " {'method': 'GET',\n",
       "  'path': '/api/v1/items?page=3',\n",
       "  'timestamp': '16/Apr/2019:193453+0000',\n",
       "  'http_version': 'HTTP/1.1',\n",
       "  'status_code': '429',\n",
       "  'bytes': '3561',\n",
       "  'user_agent': 'python-requests/2.21.0',\n",
       "  'ip': '97.105.19.58'}]"
      ]
     },
     "execution_count": 119,
     "metadata": {},
     "output_type": "execute_result"
    }
   ],
   "source": [
    "[re.search(regexp2, line, re.VERBOSE).groupdict() for line in lines.strip().split('\\n')]\n",
    "# comments worked and didn't throw a wrench in the process."
   ]
  },
  {
   "cell_type": "code",
   "execution_count": 111,
   "id": "c1de63e4-0538-459d-9a91-c7937423dead",
   "metadata": {},
   "outputs": [
    {
     "data": {
      "text/html": [
       "<div><div id=4ef3e35d-d311-4271-a97f-e8bc25254c72 style=\"display:none; background-color:#9D6CFF; color:white; width:200px; height:30px; padding-left:5px; border-radius:4px; flex-direction:row; justify-content:space-around; align-items:center;\" onmouseover=\"this.style.backgroundColor='#BA9BF8'\" onmouseout=\"this.style.backgroundColor='#9D6CFF'\" onclick=\"window.commands?.execute('create-mitosheet-from-dataframe-output');\">See Full Dataframe in Mito</div> <script> if (window.commands.hasCommand('create-mitosheet-from-dataframe-output')) document.getElementById('4ef3e35d-d311-4271-a97f-e8bc25254c72').style.display = 'flex' </script> <table border=\"1\" class=\"dataframe\">\n",
       "  <thead>\n",
       "    <tr style=\"text-align: right;\">\n",
       "      <th></th>\n",
       "      <th>line</th>\n",
       "      <th>method</th>\n",
       "      <th>path</th>\n",
       "      <th>timestamp</th>\n",
       "      <th>status</th>\n",
       "      <th>bytes_sent</th>\n",
       "      <th>user_agent</th>\n",
       "      <th>ip</th>\n",
       "    </tr>\n",
       "  </thead>\n",
       "  <tbody>\n",
       "    <tr>\n",
       "      <th>0</th>\n",
       "      <td>GET /api/v1/sales?page=86 [16/Apr/2019:193452+0000] HTTP/1.1 {200} 510348 \"python-requests/2.21.0\" 97.105.19.58</td>\n",
       "      <td>GET</td>\n",
       "      <td>/api/v1/sales?page=86</td>\n",
       "      <td>16/Apr/2019:193452+0000</td>\n",
       "      <td>200</td>\n",
       "      <td>510348</td>\n",
       "      <td>python-requests/2.21.0</td>\n",
       "      <td>97.105.19.58</td>\n",
       "    </tr>\n",
       "    <tr>\n",
       "      <th>1</th>\n",
       "      <td>POST /users_accounts/file-upload [16/Apr/2019:193452+0000] HTTP/1.1 {201} 42 \"User-Agent: Mozilla/5.0 (X11; Fedora; Fedora; Linux x86_64) AppleWebKit/537.36 (KHTML, like Gecko) Chrome/73.0.3683.86 Safari/537.36\" 97.105.19.58</td>\n",
       "      <td>POST</td>\n",
       "      <td>/users_accounts/file-upload</td>\n",
       "      <td>16/Apr/2019:193452+0000</td>\n",
       "      <td>201</td>\n",
       "      <td>42</td>\n",
       "      <td>User-Agent: Mozilla/5.0 (X11; Fedora; Fedora; Linux x86_64) AppleWebKit/537.36 (KHTML, like Gecko) Chrome/73.0.3683.86 Safari/537.36</td>\n",
       "      <td>97.105.19.58</td>\n",
       "    </tr>\n",
       "    <tr>\n",
       "      <th>2</th>\n",
       "      <td>GET /api/v1/items?page=3 [16/Apr/2019:193453+0000] HTTP/1.1 {429} 3561 \"python-requests/2.21.0\" 97.105.19.58</td>\n",
       "      <td>GET</td>\n",
       "      <td>/api/v1/items?page=3</td>\n",
       "      <td>16/Apr/2019:193453+0000</td>\n",
       "      <td>429</td>\n",
       "      <td>3561</td>\n",
       "      <td>python-requests/2.21.0</td>\n",
       "      <td>97.105.19.58</td>\n",
       "    </tr>\n",
       "  </tbody>\n",
       "</table></div>"
      ],
      "text/plain": [
       "                                                line method  \\\n",
       "0  GET /api/v1/sales?page=86 [16/Apr/2019:193452+...    GET   \n",
       "1  POST /users_accounts/file-upload [16/Apr/2019:...   POST   \n",
       "2  GET /api/v1/items?page=3 [16/Apr/2019:193453+0...    GET   \n",
       "\n",
       "                          path                timestamp status bytes_sent  \\\n",
       "0        /api/v1/sales?page=86  16/Apr/2019:193452+0000    200     510348   \n",
       "1  /users_accounts/file-upload  16/Apr/2019:193452+0000    201         42   \n",
       "2         /api/v1/items?page=3  16/Apr/2019:193453+0000    429       3561   \n",
       "\n",
       "                                          user_agent            ip  \n",
       "0                             python-requests/2.21.0  97.105.19.58  \n",
       "1  User-Agent: Mozilla/5.0 (X11; Fedora; Fedora; ...  97.105.19.58  \n",
       "2                             python-requests/2.21.0  97.105.19.58  "
      ]
     },
     "execution_count": 111,
     "metadata": {},
     "output_type": "execute_result"
    }
   ],
   "source": [
    "# method, endpoint, date, protocol, http_status_code, some_number, \"user_agent\", ip_address\n",
    "\n",
    "regex = r'''\n",
    "(?P<method>[A-Z]+)\n",
    "\\s\n",
    "(?P<path>.*)\n",
    "\\s\n",
    "\\[(?P<timestamp>.*)\\]\n",
    "\\s\n",
    "HTTP/1.1\n",
    "\\s\n",
    "{(?P<status>\\d+)}\n",
    "\\s\n",
    "(?P<bytes_sent>\\d+)\n",
    "\\s\n",
    "\"(?P<user_agent>.*)\"\n",
    "\\s+\n",
    "(?P<ip>\\d{1,3}\\.\\d{1,3}\\.\\d{1,3}\\.\\d{1,3})\n",
    "'''\n",
    "\n",
    "regex = re.compile(regex, re.VERBOSE)\n",
    "\n",
    "df = pd.DataFrame()\n",
    "df['line'] = lines.strip().split('\\n')\n",
    "df = pd.concat([df, df.line.str.extract(regex)], axis=1)\n",
    "df"
   ]
  },
  {
   "cell_type": "markdown",
   "id": "32ad7fed-d386-475d-999f-167ea20788a3",
   "metadata": {},
   "source": [
    "***\n",
    "***\n",
    "### BONUSES \n",
    "                                                            and extra materials\n",
    "                                                            \n",
    "                                                            "
   ]
  },
  {
   "cell_type": "code",
   "execution_count": 2,
   "id": "a722b837-7c84-4dd6-ae62-a0efb46b9f80",
   "metadata": {},
   "outputs": [],
   "source": [
    "# This function is taken from the DS textbook via Codeup\n",
    "def show_all_matches(regexes, subject, re_length=6):\n",
    "    print('Sentence:')\n",
    "    print()\n",
    "    print('    {}'.format(subject))\n",
    "    print()\n",
    "    print(' regexp{} | matches'.format(' ' * (re_length - 6)))\n",
    "    print(' ------{} | -------'.format(' ' * (re_length - 6)))\n",
    "    for regexp in regexes:\n",
    "        fmt = ' {:<%d} | {!r}' % re_length\n",
    "        matches = re.findall(regexp, subject)\n",
    "        if len(matches) > 8:\n",
    "            matches = matches[:8] + ['...']\n",
    "        print(fmt.format(regexp, matches))"
   ]
  },
  {
   "cell_type": "code",
   "execution_count": 3,
   "id": "6879aae8-6b8d-4b78-934d-2ba66fa977be",
   "metadata": {},
   "outputs": [
    {
     "name": "stdout",
     "output_type": "stream",
     "text": [
      "Sentence:\n",
      "\n",
      "    Mary had a little lamb. 1 little lamb. Not 10, not 12, not 22, just one.\n",
      "\n",
      " regexp | matches\n",
      " ------ | -------\n",
      " a      | ['a', 'a', 'a', 'a', 'a']\n",
      " m      | ['m', 'm']\n",
      " M      | ['M']\n",
      " Mary   | ['Mary']\n",
      " little | ['little', 'little']\n",
      " 1      | ['1', '1', '1']\n",
      " 10     | ['10']\n",
      " 22     | ['22']\n"
     ]
    }
   ],
   "source": [
    "sentence = 'Mary had a little lamb. 1 little lamb. Not 10, not 12, not 22, just one.'\n",
    "\n",
    "show_all_matches([\n",
    "    r'a',\n",
    "    r'm',\n",
    "    r'M',\n",
    "    r'Mary',\n",
    "    r'little',\n",
    "    r'1',\n",
    "    r'10',\n",
    "    r'22'\n",
    "], sentence)\n"
   ]
  },
  {
   "cell_type": "code",
   "execution_count": null,
   "id": "25937f46-cea3-48c7-ba22-2f380691dabd",
   "metadata": {},
   "outputs": [],
   "source": []
  }
 ],
 "metadata": {
  "kernelspec": {
   "display_name": "Python 3 (ipykernel)",
   "language": "python",
   "name": "python3"
  },
  "language_info": {
   "codemirror_mode": {
    "name": "ipython",
    "version": 3
   },
   "file_extension": ".py",
   "mimetype": "text/x-python",
   "name": "python",
   "nbconvert_exporter": "python",
   "pygments_lexer": "ipython3",
   "version": "3.9.7"
  }
 },
 "nbformat": 4,
 "nbformat_minor": 5
}
