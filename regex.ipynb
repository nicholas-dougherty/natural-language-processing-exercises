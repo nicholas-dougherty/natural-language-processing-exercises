{
 "cells": [
  {
   "cell_type": "markdown",
   "id": "30c7f58c-0ea2-4f36-960c-7302d6cb7f53",
   "metadata": {},
   "source": [
    "# Regular Expressions\n",
    "                     Regexes\n",
    "A sort of meta-language with a few applicable uses. Generally speaking, it can be used to describe patterns in text. It falls within the scope of lexical analysis. \n",
    "- Find and/or extract text that matches a pattern\n",
    "- Replace or substitute text that matches a pattern.\n",
    "\n",
    "Regular expressions fit under the python standard library ```re``` module. _findall_ will be used most rigorously in this notebook. \n",
    "_findall_ receives a string that is a regular expression, the pattern, and another string that is the string you wish to search; it returns a list of all the times the given regex matches the string. \n",
    "***\n",
    "#### Raw Strings\n",
    "##### Any string in python prefixed with an r is a raw string. This means that backslashes will be included in the string verbatim, and don't carry special meaning. It is very common to use raw strings when creating a regular expression.\n",
    "***"
   ]
  },
  {
   "cell_type": "code",
   "execution_count": 1,
   "id": "8355cfb9-087f-4dee-9949-ab9d68e7af8d",
   "metadata": {},
   "outputs": [],
   "source": [
    "import re\n",
    "import pandas as pd\n",
    "import numpy as np"
   ]
  },
  {
   "cell_type": "code",
   "execution_count": null,
   "id": "a722b837-7c84-4dd6-ae62-a0efb46b9f80",
   "metadata": {},
   "outputs": [],
   "source": []
  }
 ],
 "metadata": {
  "kernelspec": {
   "display_name": "Python 3 (ipykernel)",
   "language": "python",
   "name": "python3"
  },
  "language_info": {
   "codemirror_mode": {
    "name": "ipython",
    "version": 3
   },
   "file_extension": ".py",
   "mimetype": "text/x-python",
   "name": "python",
   "nbconvert_exporter": "python",
   "pygments_lexer": "ipython3",
   "version": "3.9.7"
  }
 },
 "nbformat": 4,
 "nbformat_minor": 5
}
