{
 "cells": [
  {
   "cell_type": "markdown",
   "id": "c866cf34-a076-4fe8-9a8a-988926049aa9",
   "metadata": {},
   "source": [
    "## Acquire Data through Web Scraping:\n",
    "\n",
    "#### Steps\n",
    "\n",
    "1. Import the get() function from the requests module, BeautifulSoup from bs4, and pandas.\n",
    "1. Assign the address of the web page to a variable named url.\n",
    "1. Request the server the content of the web page by using get(), and store the server’s response in the variable response.\n",
    "1. Print the response text to ensure you have an html page.\n",
    "1. Take a look at the actual web page contents and inspect the source to understand the structure a bit.\n",
    "1. Use BeautifulSoup to parse the HTML into a variable ('soup').\n",
    "1. Identify the key tags you need to extract the data you are looking for.\n",
    "1. Create a dataframe of the data desired.\n",
    "1. Run some summary stats and inspect the data to ensure you have what you wanted.\n",
    "1. Edit the data structure as needed, especially so that one column has all the text you want included in this analysis.\n",
    "1. Create a corpus of the column with the text you want to analyze.\n",
    "1. Store that corpus for use in a future notebook."
   ]
  },
  {
   "cell_type": "code",
   "execution_count": 1,
   "id": "b05ad3a4-27fc-4c07-a886-290c02f0e9c5",
   "metadata": {},
   "outputs": [],
   "source": [
    "from requests import get\n",
    "from bs4 import BeautifulSoup\n",
    "import pandas as pd\n"
   ]
  },
  {
   "cell_type": "markdown",
   "id": "6a5276f8-538d-4b2c-98d0-ee91863ac691",
   "metadata": {},
   "source": [
    "1. Codeup Blog Articles\n",
    "\n",
    "Visit Codeup's [Blog](https://codeup.com/blog/) and record the urls for at least 5 distinct blog posts. For each post, you should scrape at least the post's title and content.\n",
    "\n",
    "Encapsulate your work in a function named get_blog_articles that will return a list of dictionaries, with each dictionary representing one article. The shape of each dictionary should look like this:\n",
    "\n",
    "```\n",
    "{\n",
    "    'title': 'the title of the article',\n",
    "    'content': 'the full text content of the article'\n",
    "}\n",
    "```\n",
    "\n",
    "Plus any additional properties you think might be helpful. \n",
    "__Bonus:__ Scrape the text of __all__ the articles linked on [codeup's blog page](https://codeup.com/blog/).\n",
    "\n",
    "***\n",
    "\n",
    "2. News Articles\n",
    "\n",
    "We will now be scraping text data from [inshorts] (https://inshorts.com/en/read), a website that provides a brief overview of many different topics.\n",
    "\n",
    "Write a function that scrapes the news articles for the following topics:\n",
    "\n",
    "- Business\n",
    "- Sports\n",
    "- Technology\n",
    "- Entertainment       \n",
    "\n",
    "The end product of this should be a function named get_news_articles that returns a list of dictionaries, where each dictionary has this shape:\n",
    "\n",
    "```\n",
    "{\n",
    "    'title': 'The article title',\n",
    "    'content': 'The article content',\n",
    "    'category': 'business' # for example\n",
    "}\n",
    "```\n",
    "\n",
    "Hints:\n",
    "\n",
    "- Start by inspecting the website in your browser. Figure out which elements will be useful.\n",
    "- Start by creating a function that handles a single article and produces a dictionary like the one above.\n",
    "- Next create a function that will find all the articles on a single page and call the function you created in the last step for every article on the page.\n",
    "- Now create a function that will use the previous two functions to scrape the articles from all the pages that you need, and do any additional processing that needs to be done.\n",
    "***\n",
    "3. Bonus: cache the data\n",
    "\n",
    "Write your code such that the acquired data is saved locally in some form or fashion. Your functions that retrieve the data should prefer to read the local data instead of having to make all the requests everytime the function is called. Include a boolean flag in the functions to allow the data to be acquired \"fresh\" from the actual sources (re-writing your local cache).\n",
    "***\n",
    "***\n",
    "***"
   ]
  },
  {
   "cell_type": "markdown",
   "id": "9d9ada6a-ff66-4032-bb67-9c2513736157",
   "metadata": {},
   "source": [
    "1. Codeup Blog Articles\n",
    "\n",
    "Visit Codeup's [Blog](https://codeup.com/blog/) and record the urls for at least 5 distinct blog posts. For each post, you should scrape at least the post's title and content.\n",
    "\n",
    "Encapsulate your work in a function named get_blog_articles that will return a list of dictionaries, with each dictionary representing one article. The shape of each dictionary should look like this:\n",
    "\n",
    "```\n",
    "{\n",
    "    'title': 'the title of the article',\n",
    "    'content': 'the full text content of the article'\n",
    "}\n",
    "```\n",
    "\n",
    "Plus any additional properties you think might be helpful. \n",
    "__Bonus:__ Scrape the text of __all__ the articles linked on [codeup's blog page](https://codeup.com/blog/)."
   ]
  },
  {
   "cell_type": "code",
   "execution_count": 81,
   "id": "0386cb9d-1d5a-4e41-98a3-6b2777c4ccc9",
   "metadata": {},
   "outputs": [],
   "source": [
    "url = 'https://codeup.com/blog/'\n",
    "headers = {'User-Agent': 'Codeup Data Science'} # Some websites don't accept the pyhon-requests default user-agent\n",
    "response = get(url, headers=headers)"
   ]
  },
  {
   "cell_type": "markdown",
   "id": "0ab2e288-ce49-46e2-a46c-aa8367d4b701",
   "metadata": {},
   "source": [
    "In this instance, a header is necessary to forgo a 403 error. \n",
    "- headers are bits of meta information that can go along with a request\n",
    "- The user-agent header can be used to identify ourself to the web server\n",
    "- we can include headers as part of our request with a keyword argument       \n",
    "\n",
    "Codeup otherwise prevents scraping unless this header, or something similar to it, is present."
   ]
  },
  {
   "cell_type": "code",
   "execution_count": 82,
   "id": "ef3a2654-2ada-4ca9-8286-b300ae58becc",
   "metadata": {},
   "outputs": [
    {
     "data": {
      "text/plain": [
       "<Response [200]>"
      ]
     },
     "execution_count": 82,
     "metadata": {},
     "output_type": "execute_result"
    }
   ],
   "source": [
    "response"
   ]
  },
  {
   "cell_type": "code",
   "execution_count": 9,
   "id": "7fd21f29-3a7b-4349-aebf-9c8236341e4f",
   "metadata": {},
   "outputs": [
    {
     "name": "stdout",
     "output_type": "stream",
     "text": [
      "<!DOCTYPE html>\n",
      "<html lang=\"en-US\">\n",
      "<head>\n",
      "\t<meta charset=\"UTF-8\" />\n",
      "<meta http-equiv=\"X-UA-Compatible\" content=\"IE=edge\">\n",
      "\t<link rel=\"pingback\" href=\"https://codeup.com/xmlrpc.php\" />\n",
      "\n",
      "\t<script type=\"text/javascript\">\n",
      "\t\tdocument.documentElement.className = 'js';\n",
      "\t</script>\n",
      "\t\n",
      "\t<link rel=\"preconnect\" href=\"https://fonts.gstatic.com\" crossorigin /><script id=\"diviarea-loader\">window.DiviPopupData=wi\n"
     ]
    }
   ],
   "source": [
    "# Perform a sanity check to ensure HTML data is observed\n",
    "print(response.text[:400])"
   ]
  },
  {
   "cell_type": "code",
   "execution_count": 83,
   "id": "8882fab7-8447-4def-a39f-f6b6831b3daf",
   "metadata": {},
   "outputs": [
    {
     "name": "stdout",
     "output_type": "stream",
     "text": [
      "<Response [200]>\n",
      "<!DOCTYPE html>\n",
      "<html lang=\"en-US\">\n",
      "<head>\n",
      "\t<meta charset=\"UTF-8\" />\n",
      "<meta http-equiv=\"X-UA-Compatib\n"
     ]
    }
   ],
   "source": [
    "# I'll take this one blog at a time\n",
    "url2 = 'https://codeup.com/workshops/from-bootcamp-to-bootcamp-a-military-appreciation-panel/'\n",
    "headers = {'User-Agent': 'Codeup Data Science'} # Some websites don't accept the pyhon-requests default user-agent\n",
    "response2 = get(url2, headers=headers)\n",
    "print(response)\n",
    "print(response.text[:100])"
   ]
  },
  {
   "cell_type": "code",
   "execution_count": 102,
   "id": "bbb6c4dc-45bd-4ac7-8914-db7618c24f01",
   "metadata": {},
   "outputs": [],
   "source": [
    "# Make some soup (I wish it was Chowder)\n",
    "# make a soup variable holding the response content\n",
    "soup = BeautifulSoup(response.content, 'html.parser')\n",
    "soup2 = BeautifulSoup(response2.content, 'html.parser')\n",
    "soup3 = BeautifulSoup(response.text, 'html.parser')\n",
    "soup4 = BeautifulSoup(response2.text, 'html.parser')\n",
    "soup5 = BeautifulSoup(response.text)\n",
    "soup6 = BeautifulSoup(response2.text)"
   ]
  },
  {
   "cell_type": "code",
   "execution_count": 95,
   "id": "a8da5cb6-978b-4640-97cf-f19dca775090",
   "metadata": {},
   "outputs": [
    {
     "data": {
      "text/plain": [
       "'From Bootcamp to Bootcamp | A Military Appreciation Panel - Codeup'"
      ]
     },
     "execution_count": 95,
     "metadata": {},
     "output_type": "execute_result"
    }
   ],
   "source": [
    "# Check.\n",
    "# so I will need the title and full content of the article. \n",
    "\n",
    "title = soup2.title.string\n",
    "title"
   ]
  },
  {
   "cell_type": "code",
   "execution_count": null,
   "id": "927ee32c-88ac-4d33-b51a-32ca4fb3182b",
   "metadata": {},
   "outputs": [],
   "source": [
    "# //*[@id=\"post-18280\"]/div[2]/div/div/div/div[1]/div/div/div/p[1]/span/text()"
   ]
  },
  {
   "cell_type": "code",
   "execution_count": 96,
   "id": "cc71138d-a6e2-40b2-a4cc-3fda91e674e9",
   "metadata": {},
   "outputs": [
    {
     "data": {
      "text/plain": [
       "'Blog - Codeup'"
      ]
     },
     "execution_count": 96,
     "metadata": {},
     "output_type": "execute_result"
    }
   ],
   "source": [
    "soup.title.string"
   ]
  },
  {
   "cell_type": "code",
   "execution_count": 108,
   "id": "1debfabf-bd3a-429a-ae53-dda6919f43e4",
   "metadata": {},
   "outputs": [
    {
     "name": "stdout",
     "output_type": "stream",
     "text": [
      "From Bootcamp to Bootcamp | A Military Appreciation Panel - Codeup\n",
      "Blog - Codeup\n",
      "From Bootcamp to Bootcamp | A Military Appreciation Panel - Codeup\n",
      "Blog - Codeup\n",
      "From Bootcamp to Bootcamp | A Military Appreciation Panel - Codeup\n"
     ]
    }
   ],
   "source": [
    "# testing other soup variants out of curiosity for how they may differ\n",
    "print(soup2.title.string)\n",
    "print(soup3.title.string)\n",
    "print(soup4.title.string)\n",
    "print(soup5.title.string)\n",
    "print(soup6.title.string)"
   ]
  },
  {
   "cell_type": "code",
   "execution_count": 137,
   "id": "bb009027-fe60-41c5-a0ec-e596821feca4",
   "metadata": {},
   "outputs": [
    {
     "data": {
      "text/plain": [
       "<div id=\"main-content\">\n",
       "<div class=\"container\">\n",
       "<div class=\"clearfix\" id=\"content-area\">\n",
       "<div id=\"left-area\">\n",
       "<article class=\"et_pb_post post-18280 post type-post status-publish format-standard has-post-thumbnail hentry category-alumni-stories category-dallas category-events category-featured category-military category-san-antonio category-veterans category-virtual category-workshops\" id=\"post-18280\">\n",
       "<div class=\"et_post_meta_wrapper\">\n",
       "<h1 class=\"entry-title\">From Bootcamp to Bootcamp | A Military Appreciation Panel</h1>\n",
       "<p class=\"post-meta\"><span class=\"published\">Apr 27, 2022</span> | <a href=\"https://codeup.com/category/alumni-stories/\" rel=\"category tag\">Alumni Stories</a>, <a href=\"https://codeup.com/category/workshops/dallas/\" rel=\"category tag\">Dallas</a>, <a href=\"https://codeup.com/category/events/\" rel=\"category tag\">Events</a>, <a href=\"https://codeup.com/category/featured/\" rel=\"category tag\">Featured</a>, <a href=\"https://codeup.com/category/military/\" rel=\"category tag\">Military</a>, <a href=\"https://codeup.com/category/workshops/san-antonio/\" rel=\"category tag\">San Antonio</a>, <a href=\"https://codeup.com/category/veterans/\" rel=\"category tag\">Veterans</a>, <a href=\"https://codeup.com/category/workshops/virtual/\" rel=\"category tag\">Virtual</a>, <a href=\"https://codeup.com/category/workshops/\" rel=\"category tag\">Workshops</a></p><img alt=\"\" class=\"\" height=\"675\" sizes=\"(min-width: 0px) and (max-width: 480px) 480px, (min-width: 481px) 1080px, 100vw\" src=\"https://199lj33nqk3p88xz03dvn481-wpengine.netdna-ssl.com/wp-content/uploads/2022/04/Blogs-17.png\" srcset=\"https://199lj33nqk3p88xz03dvn481-wpengine.netdna-ssl.com/wp-content/uploads/2022/04/Blogs-17.png 1080w, https://199lj33nqk3p88xz03dvn481-wpengine.netdna-ssl.com/wp-content/uploads/2022/04/Blogs-17-480x279.png 480w\" width=\"1080\"/>\n",
       "</div>\n",
       "<div class=\"entry-content\">\n",
       "<div class=\"et-l et-l--post\">\n",
       "<div class=\"et_builder_inner_content et_pb_gutters3\"><div class=\"et_pb_section et_pb_section_0 et_section_regular\">\n",
       "<div class=\"et_pb_row et_pb_row_0\">\n",
       "<div class=\"et_pb_column et_pb_column_4_4 et_pb_column_0 et_pb_css_mix_blend_mode_passthrough et-last-child\">\n",
       "<div class=\"et_pb_module et_pb_text et_pb_text_0 et_pb_text_align_left et_pb_bg_layout_light\">\n",
       "<div class=\"et_pb_text_inner\"><p data-key=\"16\"><span data-key=\"17\">In honor of Military Appreciation Month, join us for a discussion with Codeup Alumni who are also Military Veterans! We will chat about their experiences attending a coding bootcamp, and how their military training set them up for success here at Codeup. Grab your virtual seat now so you can be sent the exclusive Livestream link on the 11th! </span></p>\n",
       "<p data-key=\"18\"><span data-key=\"19\">Thank you to our panelists for participating: </span></p>\n",
       "<ul>\n",
       "<li data-key=\"18\"><span data-key=\"21\">Christopher Aguirre</span></li>\n",
       "<li data-key=\"22\"><span data-key=\"23\">Taryn McKenzie </span></li>\n",
       "<li data-key=\"24\"><span data-key=\"25\">Desiree McElroy </span></li>\n",
       "</ul>\n",
       "<p data-key=\"26\">\n",
       "<p data-key=\"27\" data-slate-fragment=\"JTdCJTIyb2JqZWN0JTIyJTNBJTIyZG9jdW1lbnQlMjIlMkMlMjJkYXRhJTIyJTNBJTdCJTdEJTJDJTIybm9kZXMlMjIlM0ElNUIlN0IlMjJvYmplY3QlMjIlM0ElMjJibG9jayUyMiUyQyUyMnR5cGUlMjIlM0ElMjJwYXJhZ3JhcGglMjIlMkMlMjJkYXRhJTIyJTNBJTdCJTIyY2xhc3NOYW1lJTIyJTNBbnVsbCU3RCUyQyUyMm5vZGVzJTIyJTNBJTVCJTdCJTIyb2JqZWN0JTIyJTNBJTIydGV4dCUyMiUyQyUyMmxlYXZlcyUyMiUzQSU1QiU3QiUyMm9iamVjdCUyMiUzQSUyMmxlYWYlMjIlMkMlMjJ0ZXh0JTIyJTNBJTIySW4lMjBob25vciUyMG9mJTIwTWlsaXRhcnklMjBBcHByZWNpYXRpb24lMjBNb250aCUyQyUyMGpvaW4lMjB1cyUyMGZvciUyMGElMjBkaXNjdXNzaW9uJTIwd2l0aCUyMENvZGV1cCUyMEFsdW1uaSUyMHdobyUyMGFyZSUyMGFsc28lMjBNaWxpdGFyeSUyMFZldGVyYW5zISUyMFdlJTIwd2lsbCUyMGNoYXQlMjBhYm91dCUyMHRoZWlyJTIwZXhwZXJpZW5jZXMlMjBhdHRlbmRpbmclMjBhJTIwY29kaW5nJTIwYm9vdGNhbXAlMkMlMjBhbmQlMjBob3clMjB0aGVpciUyMG1pbGl0YXJ5JTIwdHJhaW5pbmclMjBzZXQlMjB0aGVtJTIwdXAlMjBmb3IlMjBzdWNjZXNzJTIwaGVyZSUyMGF0JTIwQ29kZXVwLiUyMEdyYWIlMjB5b3VyJTIwdmlydHVhbCUyMHNlYXQlMjBub3clMjBzbyUyMHlvdSUyMGNhbiUyMGJlJTIwc2VudCUyMHRoZSUyMGV4Y2x1c2l2ZSUyMExpdmVzdHJlYW0lMjBsaW5rJTIwb24lMjB0aGUlMjAxMXRoISUyMCUyMiUyQyUyMm1hcmtzJTIyJTNBJTVCJTVEJTdEJTVEJTdEJTVEJTdEJTJDJTdCJTIyb2JqZWN0JTIyJTNBJTIyYmxvY2slMjIlMkMlMjJ0eXBlJTIyJTNBJTIycGFyYWdyYXBoJTIyJTJDJTIyZGF0YSUyMiUzQSU3QiUyMmNsYXNzTmFtZSUyMiUzQW51bGwlN0QlMkMlMjJub2RlcyUyMiUzQSU1QiU3QiUyMm9iamVjdCUyMiUzQSUyMnRleHQlMjIlMkMlMjJsZWF2ZXMlMjIlM0ElNUIlN0IlMjJvYmplY3QlMjIlM0ElMjJsZWFmJTIyJTJDJTIydGV4dCUyMiUzQSUyMlRoYW5rJTIweW91JTIwdG8lMjBvdXIlMjBwYW5lbGlzdHMlMjBmb3IlMjBwYXJ0aWNpcGF0aW5nJTNBJTIwJTIyJTJDJTIybWFya3MlMjIlM0ElNUIlNUQlN0QlNUQlN0QlNUQlN0QlMkMlN0IlMjJvYmplY3QlMjIlM0ElMjJibG9jayUyMiUyQyUyMnR5cGUlMjIlM0ElMjJwYXJhZ3JhcGglMjIlMkMlMjJkYXRhJTIyJTNBJTdCJTIyY2xhc3NOYW1lJTIyJTNBbnVsbCU3RCUyQyUyMm5vZGVzJTIyJTNBJTVCJTdCJTIyb2JqZWN0JTIyJTNBJTIydGV4dCUyMiUyQyUyMmxlYXZlcyUyMiUzQSU1QiU3QiUyMm9iamVjdCUyMiUzQSUyMmxlYWYlMjIlMkMlMjJ0ZXh0JTIyJTNBJTIyQ2hyaXN0b3BoZXIlMjBBZ3VpcnJlJTIyJTJDJTIybWFya3MlMjIlM0ElNUIlNUQlN0QlNUQlN0QlNUQlN0QlMkMlN0IlMjJvYmplY3QlMjIlM0ElMjJibG9jayUyMiUyQyUyMnR5cGUlMjIlM0ElMjJwYXJhZ3JhcGglMjIlMkMlMjJkYXRhJTIyJTNBJTdCJTIyY2xhc3NOYW1lJTIyJTNBbnVsbCU3RCUyQyUyMm5vZGVzJTIyJTNBJTVCJTdCJTIyb2JqZWN0JTIyJTNBJTIydGV4dCUyMiUyQyUyMmxlYXZlcyUyMiUzQSU1QiU3QiUyMm9iamVjdCUyMiUzQSUyMmxlYWYlMjIlMkMlMjJ0ZXh0JTIyJTNBJTIyVGFyeW4lMjBNY0tlbnppZSUyMCUyMiUyQyUyMm1hcmtzJTIyJTNBJTVCJTVEJTdEJTVEJTdEJTVEJTdEJTJDJTdCJTIyb2JqZWN0JTIyJTNBJTIyYmxvY2slMjIlMkMlMjJ0eXBlJTIyJTNBJTIycGFyYWdyYXBoJTIyJTJDJTIyZGF0YSUyMiUzQSU3QiUyMmNsYXNzTmFtZSUyMiUzQW51bGwlN0QlMkMlMjJub2RlcyUyMiUzQSU1QiU3QiUyMm9iamVjdCUyMiUzQSUyMnRleHQlMjIlMkMlMjJsZWF2ZXMlMjIlM0ElNUIlN0IlMjJvYmplY3QlMjIlM0ElMjJsZWFmJTIyJTJDJTIydGV4dCUyMiUzQSUyMkRlc2lyZWUlMjBNY0Vscm95JTIwJTIyJTJDJTIybWFya3MlMjIlM0ElNUIlNUQlN0QlNUQlN0QlNUQlN0QlMkMlN0IlMjJvYmplY3QlMjIlM0ElMjJibG9jayUyMiUyQyUyMnR5cGUlMjIlM0ElMjJwYXJhZ3JhcGglMjIlMkMlMjJkYXRhJTIyJTNBJTdCJTIyY2xhc3NOYW1lJTIyJTNBbnVsbCU3RCUyQyUyMm5vZGVzJTIyJTNBJTVCJTdCJTIyb2JqZWN0JTIyJTNBJTIydGV4dCUyMiUyQyUyMmxlYXZlcyUyMiUzQSU1QiU3QiUyMm9iamVjdCUyMiUzQSUyMmxlYWYlMjIlMkMlMjJ0ZXh0JTIyJTNBJTIyJTIyJTJDJTIybWFya3MlMjIlM0ElNUIlNUQlN0QlNUQlN0QlNUQlN0QlMkMlN0IlMjJvYmplY3QlMjIlM0ElMjJibG9jayUyMiUyQyUyMnR5cGUlMjIlM0ElMjJwYXJhZ3JhcGglMjIlMkMlMjJkYXRhJTIyJTNBJTdCJTIyY2xhc3NOYW1lJTIyJTNBbnVsbCU3RCUyQyUyMm5vZGVzJTIyJTNBJTVCJTdCJTIyb2JqZWN0JTIyJTNBJTIydGV4dCUyMiUyQyUyMmxlYXZlcyUyMiUzQSU1QiU3QiUyMm9iamVjdCUyMiUzQSUyMmxlYWYlMjIlMkMlMjJ0ZXh0JTIyJTNBJTIyQW5kJTIwdGhhbmtzJTIwdG8lMjBDb2RldXAncyUyMFRyZXklMjBJYXBhY2hpbm8lMjB3aG8lMjBpcyUyMGFsc28lMjBhbiUyMEFpciUyMEZvcmNlJTIwVmV0ZXJhbiElMjAlMjIlMkMlMjJtYXJrcyUyMiUzQSU1QiU1RCU3RCU1RCU3RCU1RCU3RCU1RCU3RA==\"><span data-key=\"28\">And thanks to Codeup’s Trey Iapachino who is also an Air Force Veteran! </span></p></p></div>\n",
       "</div>\n",
       "</div>\n",
       "</div><div class=\"et_pb_row et_pb_row_1\">\n",
       "<div class=\"et_pb_column et_pb_column_4_4 et_pb_column_1 et_pb_css_mix_blend_mode_passthrough et-last-child\">\n",
       "<div class=\"et_pb_module et_pb_code et_pb_code_0\">\n",
       "<div class=\"et_pb_code_inner\"><div id=\"eventbrite-widget-container-329140657567\"></div>\n",
       "<script src=\"https://www.eventbrite.com/static/widgets/eb_widgets.js\"></script>\n",
       "<script type=\"text/javascript\">\n",
       "    var exampleCallback = function() {\n",
       "        console.log('Order complete!');\n",
       "    };\n",
       "\n",
       "    window.EBWidgets.createWidget({\n",
       "        // Required\n",
       "        widgetType: 'checkout',\n",
       "        eventId: '329140657567',\n",
       "        iframeContainerId: 'eventbrite-widget-container-329140657567',\n",
       "\n",
       "        // Optional\n",
       "        iframeContainerHeight: 425,  // Widget height in pixels. Defaults to a minimum of 425px if not provided\n",
       "        onOrderComplete: exampleCallback  // Method called when an order has successfully completed\n",
       "    });\n",
       "</script></div>\n",
       "</div>\n",
       "</div>\n",
       "</div>\n",
       "</div> </div>\n",
       "</div>\n",
       "</div>\n",
       "<div class=\"et_post_meta_wrapper\">\n",
       "</div>\n",
       "</article>\n",
       "</div>\n",
       "<div id=\"sidebar\">\n",
       "<div class=\"et_pb_widget widget_block widget_media_image\" id=\"block-2\">\n",
       "<figure class=\"wp-block-image size-full\"><img alt=\"best bootcamp in San Antonio\" class=\"wp-image-16034\" height=\"561\" loading=\"lazy\" sizes=\"(min-width: 0px) and (max-width: 480px) 480px, (min-width: 481px) 701px, 100vw\" src=\"https://199lj33nqk3p88xz03dvn481-wpengine.netdna-ssl.com/wp-content/uploads/2021/09/best-bootcamp-switchup.png\" srcset=\"https://199lj33nqk3p88xz03dvn481-wpengine.netdna-ssl.com/wp-content/uploads/2021/09/best-bootcamp-switchup.png 701w, https://199lj33nqk3p88xz03dvn481-wpengine.netdna-ssl.com/wp-content/uploads/2021/09/best-bootcamp-switchup-480x384.png 480w\" width=\"701\"/></figure>\n",
       "</div><div class=\"et_pb_widget widget_nav_menu\" id=\"nav_menu-3\"><h4 class=\"widgettitle\">Our Programs</h4><div class=\"menu-our-programs-container\"><ul class=\"menu\" id=\"menu-our-programs\"><li class=\"menu-item menu-item-type-post_type menu-item-object-course menu-item-18129\" id=\"menu-item-18129\"><a href=\"https://codeup.com/program/cloud-adminsitration/\">Cloud Administration</a></li>\n",
       "<li class=\"menu-item menu-item-type-post_type menu-item-object-course menu-item-16516\" id=\"menu-item-16516\"><a href=\"https://codeup.com/program/full-stack-web-development/\">Full Stack Web Development</a></li>\n",
       "<li class=\"menu-item menu-item-type-post_type menu-item-object-course menu-item-16515\" id=\"menu-item-16515\"><a href=\"https://codeup.com/program/data-science/\">Data Science</a></li>\n",
       "</ul></div></div><div class=\"et_pb_widget widget_block\" id=\"block-10\">\n",
       "<div class=\"wp-block-columns are-vertically-aligned-top\">\n",
       "<div class=\"wp-block-column is-vertically-aligned-top\" style=\"flex-basis:100%\">\n",
       "<div class=\"wp-container-627586bf55bd8 wp-block-group\"><div class=\"wp-block-group__inner-container\">\n",
       "<div class=\"wp-container-627586bf5587c wp-block-group\"><div class=\"wp-block-group__inner-container\">\n",
       "<h2>Latest Blog Articles</h2>\n",
       "<ul class=\"wp-block-latest-posts__list wp-block-latest-posts\"><li><a href=\"https://codeup.com/workshops/from-bootcamp-to-bootcamp-a-military-appreciation-panel/\">From Bootcamp to Bootcamp | A Military Appreciation Panel</a></li>\n",
       "<li><a href=\"https://codeup.com/featured/our-acquisition-of-the-rackspace-cloud-academy-one-year-later/\">Our Acquisition of the Rackspace Cloud Academy: One Year Later</a></li>\n",
       "<li><a href=\"https://codeup.com/workshops/virtual/learn-to-code-html-css-on-4-30/\">Learn to Code: HTML &amp; CSS on 4/30</a></li>\n",
       "<li><a href=\"https://codeup.com/workshops/virtual/learn-to-code-python-workshop-on-4-16/\">Learn to Code: Python Workshop on 4/23</a></li>\n",
       "<li><a href=\"https://codeup.com/codeup-news/coming-soon-cloud-administration/\">Coming Soon: Cloud Administration</a></li>\n",
       "</ul>\n",
       "<p></p>\n",
       "</div></div>\n",
       "</div></div>\n",
       "</div>\n",
       "</div>\n",
       "</div><div class=\"et_pb_widget widget_block widget_text\" id=\"block-4\">\n",
       "<p></p>\n",
       "</div><div class=\"et_pb_widget widget_block\" id=\"block-11\">\n",
       "<div class=\"wp-container-627586bf5623f wp-block-group\"><div class=\"wp-block-group__inner-container\">\n",
       "<div class=\"wp-block-columns\">\n",
       "<div class=\"wp-block-column\" style=\"flex-basis:100%\">\n",
       "<div class=\"wp-container-627586bf55fa0 wp-block-group\"><div class=\"wp-block-group__inner-container\"></div></div>\n",
       "</div>\n",
       "</div>\n",
       "<p></p>\n",
       "</div></div>\n",
       "</div> </div>\n",
       "</div>\n",
       "</div>\n",
       "</div>"
      ]
     },
     "execution_count": 137,
     "metadata": {},
     "output_type": "execute_result"
    }
   ],
   "source": [
    "soup2.find('div', id='main-content')\n",
    "# the class should be et_pb_text_inner but I can't get it to work yet."
   ]
  },
  {
   "cell_type": "markdown",
   "id": "7e9701fc-a8e4-40a7-8752-702a9d09ed74",
   "metadata": {},
   "source": [
    "This is what I want to extract\n",
    "```\n",
    "<div class=\"et_pb_text_inner\"><p data-key=\"16\"><span data-key=\"17\">In honor of Military Appreciation Month, join us for a discussion with Codeup Alumni who are also Military Veterans! We will chat about their experiences attending a coding bootcamp, and how their military training set them up for success here at Codeup. Grab your virtual seat now so you can be sent the exclusive Livestream link on the 11th! </span></p>\n",
    "```"
   ]
  },
  {
   "cell_type": "code",
   "execution_count": 100,
   "id": "13eb2536-9267-43f1-9e52-8e6e7d9387f9",
   "metadata": {},
   "outputs": [
    {
     "data": {
      "text/plain": [
       "bs4.BeautifulSoup"
      ]
     },
     "execution_count": 100,
     "metadata": {},
     "output_type": "execute_result"
    }
   ],
   "source": [
    "type(soup2)"
   ]
  },
  {
   "cell_type": "code",
   "execution_count": 141,
   "id": "eb4a7e09-041f-4550-84d4-02d3b016fbe7",
   "metadata": {},
   "outputs": [],
   "source": [
    "#print(soup2.prettify())\n",
    "# if that's beautification then I should maybe try making it hideous instead.."
   ]
  },
  {
   "cell_type": "code",
   "execution_count": 148,
   "id": "78e770bb-2b86-4620-b47a-dea0916ed23e",
   "metadata": {},
   "outputs": [],
   "source": [
    "#print(soup2.get_text())"
   ]
  },
  {
   "cell_type": "code",
   "execution_count": null,
   "id": "d884dfab-9f4c-49a9-a9bc-1090cfe45af0",
   "metadata": {},
   "outputs": [],
   "source": []
  },
  {
   "cell_type": "code",
   "execution_count": null,
   "id": "251ddac0-f8f2-4bd8-bf9d-4ca9875976b9",
   "metadata": {},
   "outputs": [],
   "source": []
  }
 ],
 "metadata": {
  "kernelspec": {
   "display_name": "Python 3 (ipykernel)",
   "language": "python",
   "name": "python3"
  },
  "language_info": {
   "codemirror_mode": {
    "name": "ipython",
    "version": 3
   },
   "file_extension": ".py",
   "mimetype": "text/x-python",
   "name": "python",
   "nbconvert_exporter": "python",
   "pygments_lexer": "ipython3",
   "version": "3.9.7"
  }
 },
 "nbformat": 4,
 "nbformat_minor": 5
}
