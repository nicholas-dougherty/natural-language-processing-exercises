{
 "cells": [
  {
   "cell_type": "markdown",
   "id": "c866cf34-a076-4fe8-9a8a-988926049aa9",
   "metadata": {},
   "source": [
    "## Acquire Data through Web Scraping:\n",
    "\n",
    "#### Steps\n",
    "\n",
    "1. Import the get() function from the requests module, BeautifulSoup from bs4, and pandas.\n",
    "1. Assign the address of the web page to a variable named url.\n",
    "1. Request the server the content of the web page by using get(), and store the server’s response in the variable response.\n",
    "1. Print the response text to ensure you have an html page.\n",
    "1. Take a look at the actual web page contents and inspect the source to understand the structure a bit.\n",
    "1. Use BeautifulSoup to parse the HTML into a variable ('soup').\n",
    "1. Identify the key tags you need to extract the data you are looking for.\n",
    "1. Create a dataframe of the data desired.\n",
    "1. Run some summary stats and inspect the data to ensure you have what you wanted.\n",
    "1. Edit the data structure as needed, especially so that one column has all the text you want included in this analysis.\n",
    "1. Create a corpus of the column with the text you want to analyze.\n",
    "1. Store that corpus for use in a future notebook."
   ]
  },
  {
   "cell_type": "code",
   "execution_count": 12,
   "id": "b05ad3a4-27fc-4c07-a886-290c02f0e9c5",
   "metadata": {},
   "outputs": [],
   "source": [
    "from requests import get\n",
    "from bs4 import BeautifulSoup\n",
    "import pandas as pd\n",
    "from time import strftime\n",
    "import os"
   ]
  },
  {
   "cell_type": "markdown",
   "id": "6a5276f8-538d-4b2c-98d0-ee91863ac691",
   "metadata": {},
   "source": [
    "1. Codeup Blog Articles\n",
    "\n",
    "Visit Codeup's [Blog](https://codeup.com/blog/) and record the urls for at least 5 distinct blog posts. For each post, you should scrape at least the post's title and content.\n",
    "\n",
    "Encapsulate your work in a function named get_blog_articles that will return a list of dictionaries, with each dictionary representing one article. The shape of each dictionary should look like this:\n",
    "\n",
    "```\n",
    "{\n",
    "    'title': 'the title of the article',\n",
    "    'content': 'the full text content of the article'\n",
    "}\n",
    "```\n",
    "\n",
    "Plus any additional properties you think might be helpful. \n",
    "__Bonus:__ Scrape the text of __all__ the articles linked on [codeup's blog page](https://codeup.com/blog/).\n",
    "\n",
    "***\n",
    "\n",
    "2. News Articles\n",
    "\n",
    "We will now be scraping text data from [inshorts] (https://inshorts.com/en/read), a website that provides a brief overview of many different topics.\n",
    "\n",
    "Write a function that scrapes the news articles for the following topics:\n",
    "\n",
    "- Business\n",
    "- Sports\n",
    "- Technology\n",
    "- Entertainment       \n",
    "\n",
    "The end product of this should be a function named get_news_articles that returns a list of dictionaries, where each dictionary has this shape:\n",
    "\n",
    "```\n",
    "{\n",
    "    'title': 'The article title',\n",
    "    'content': 'The article content',\n",
    "    'category': 'business' # for example\n",
    "}\n",
    "```\n",
    "\n",
    "Hints:\n",
    "\n",
    "- Start by inspecting the website in your browser. Figure out which elements will be useful.\n",
    "- Start by creating a function that handles a single article and produces a dictionary like the one above.\n",
    "- Next create a function that will find all the articles on a single page and call the function you created in the last step for every article on the page.\n",
    "- Now create a function that will use the previous two functions to scrape the articles from all the pages that you need, and do any additional processing that needs to be done.\n",
    "***\n",
    "3. Bonus: cache the data\n",
    "\n",
    "Write your code such that the acquired data is saved locally in some form or fashion. Your functions that retrieve the data should prefer to read the local data instead of having to make all the requests everytime the function is called. Include a boolean flag in the functions to allow the data to be acquired \"fresh\" from the actual sources (re-writing your local cache).\n",
    "***\n",
    "***\n",
    "***"
   ]
  },
  {
   "cell_type": "markdown",
   "id": "9d9ada6a-ff66-4032-bb67-9c2513736157",
   "metadata": {},
   "source": [
    "1. Codeup Blog Articles\n",
    "\n",
    "Visit Codeup's [Blog](https://codeup.com/blog/) and record the urls for at least 5 distinct blog posts. For each post, you should scrape at least the post's title and content.\n",
    "\n",
    "Encapsulate your work in a function named get_blog_articles that will return a list of dictionaries, with each dictionary representing one article. The shape of each dictionary should look like this:\n",
    "\n",
    "```\n",
    "{\n",
    "    'title': 'the title of the article',\n",
    "    'content': 'the full text content of the article'\n",
    "}\n",
    "```\n",
    "\n",
    "Plus any additional properties you think might be helpful. \n",
    "__Bonus:__ Scrape the text of __all__ the articles linked on [codeup's blog page](https://codeup.com/blog/)."
   ]
  },
  {
   "cell_type": "code",
   "execution_count": 81,
   "id": "0386cb9d-1d5a-4e41-98a3-6b2777c4ccc9",
   "metadata": {},
   "outputs": [],
   "source": [
    "url = 'https://codeup.com/blog/'\n",
    "headers = {'User-Agent': 'Codeup Data Science'} # Some websites don't accept the pyhon-requests default user-agent\n",
    "response = get(url, headers=headers)"
   ]
  },
  {
   "cell_type": "markdown",
   "id": "0ab2e288-ce49-46e2-a46c-aa8367d4b701",
   "metadata": {},
   "source": [
    "In this instance, a header is necessary to forgo a 403 error. \n",
    "- headers are bits of meta information that can go along with a request\n",
    "- The user-agent header can be used to identify ourself to the web server\n",
    "- we can include headers as part of our request with a keyword argument       \n",
    "\n",
    "Codeup otherwise prevents scraping unless this header, or something similar to it, is present."
   ]
  },
  {
   "cell_type": "code",
   "execution_count": 82,
   "id": "ef3a2654-2ada-4ca9-8286-b300ae58becc",
   "metadata": {},
   "outputs": [
    {
     "data": {
      "text/plain": [
       "<Response [200]>"
      ]
     },
     "execution_count": 82,
     "metadata": {},
     "output_type": "execute_result"
    }
   ],
   "source": [
    "response"
   ]
  },
  {
   "cell_type": "code",
   "execution_count": 9,
   "id": "7fd21f29-3a7b-4349-aebf-9c8236341e4f",
   "metadata": {},
   "outputs": [
    {
     "name": "stdout",
     "output_type": "stream",
     "text": [
      "<!DOCTYPE html>\n",
      "<html lang=\"en-US\">\n",
      "<head>\n",
      "\t<meta charset=\"UTF-8\" />\n",
      "<meta http-equiv=\"X-UA-Compatible\" content=\"IE=edge\">\n",
      "\t<link rel=\"pingback\" href=\"https://codeup.com/xmlrpc.php\" />\n",
      "\n",
      "\t<script type=\"text/javascript\">\n",
      "\t\tdocument.documentElement.className = 'js';\n",
      "\t</script>\n",
      "\t\n",
      "\t<link rel=\"preconnect\" href=\"https://fonts.gstatic.com\" crossorigin /><script id=\"diviarea-loader\">window.DiviPopupData=wi\n"
     ]
    }
   ],
   "source": [
    "# Perform a sanity check to ensure HTML data is observed\n",
    "print(response.text[:400])"
   ]
  },
  {
   "cell_type": "code",
   "execution_count": 83,
   "id": "8882fab7-8447-4def-a39f-f6b6831b3daf",
   "metadata": {},
   "outputs": [
    {
     "name": "stdout",
     "output_type": "stream",
     "text": [
      "<Response [200]>\n",
      "<!DOCTYPE html>\n",
      "<html lang=\"en-US\">\n",
      "<head>\n",
      "\t<meta charset=\"UTF-8\" />\n",
      "<meta http-equiv=\"X-UA-Compatib\n"
     ]
    }
   ],
   "source": [
    "# I'll take this one blog at a time\n",
    "url2 = 'https://codeup.com/workshops/from-bootcamp-to-bootcamp-a-military-appreciation-panel/'\n",
    "headers = {'User-Agent': 'Codeup Data Science'} # Some websites don't accept the pyhon-requests default user-agent\n",
    "response2 = get(url2, headers=headers)\n",
    "print(response)\n",
    "print(response.text[:100])"
   ]
  },
  {
   "cell_type": "code",
   "execution_count": 102,
   "id": "bbb6c4dc-45bd-4ac7-8914-db7618c24f01",
   "metadata": {},
   "outputs": [],
   "source": [
    "# Make some soup (I wish it was Chowder)\n",
    "# make a soup variable holding the response content\n",
    "soup = BeautifulSoup(response.content, 'html.parser')\n",
    "soup2 = BeautifulSoup(response2.content, 'html.parser')\n",
    "soup3 = BeautifulSoup(response.text, 'html.parser')\n",
    "soup4 = BeautifulSoup(response2.text, 'html.parser')\n",
    "soup5 = BeautifulSoup(response.text)\n",
    "soup6 = BeautifulSoup(response2.text)"
   ]
  },
  {
   "cell_type": "code",
   "execution_count": 183,
   "id": "a8da5cb6-978b-4640-97cf-f19dca775090",
   "metadata": {},
   "outputs": [
    {
     "data": {
      "text/plain": [
       "'Blog - Codeup'"
      ]
     },
     "execution_count": 183,
     "metadata": {},
     "output_type": "execute_result"
    }
   ],
   "source": [
    "# Check.\n",
    "# so I will need the title and full content of the article. \n",
    "\n",
    "soup.title.string"
   ]
  },
  {
   "cell_type": "code",
   "execution_count": null,
   "id": "927ee32c-88ac-4d33-b51a-32ca4fb3182b",
   "metadata": {},
   "outputs": [],
   "source": [
    "# //*[@id=\"post-18280\"]/div[2]/div/div/div/div[1]/div/div/div/p[1]/span/text()"
   ]
  },
  {
   "cell_type": "code",
   "execution_count": 108,
   "id": "1debfabf-bd3a-429a-ae53-dda6919f43e4",
   "metadata": {},
   "outputs": [
    {
     "name": "stdout",
     "output_type": "stream",
     "text": [
      "From Bootcamp to Bootcamp | A Military Appreciation Panel - Codeup\n",
      "Blog - Codeup\n",
      "From Bootcamp to Bootcamp | A Military Appreciation Panel - Codeup\n",
      "Blog - Codeup\n",
      "From Bootcamp to Bootcamp | A Military Appreciation Panel - Codeup\n"
     ]
    }
   ],
   "source": [
    "# testing other soup variants out of curiosity for how they may differ\n",
    "print(soup2.title.string)\n",
    "print(soup3.title.string)\n",
    "print(soup4.title.string)\n",
    "print(soup5.title.string)\n",
    "print(soup6.title.string)"
   ]
  },
  {
   "cell_type": "code",
   "execution_count": 182,
   "id": "bb009027-fe60-41c5-a0ec-e596821feca4",
   "metadata": {},
   "outputs": [],
   "source": [
    "#soup2.find('div', id='main-content')\n",
    "# the class should be et_pb_text_inner but I can't get it to work yet."
   ]
  },
  {
   "cell_type": "markdown",
   "id": "7e9701fc-a8e4-40a7-8752-702a9d09ed74",
   "metadata": {},
   "source": [
    "This is what I want to extract\n",
    "```\n",
    "<div class=\"et_pb_text_inner\"><p data-key=\"16\"><span data-key=\"17\">In honor of Military Appreciation Month, join us for a discussion with Codeup Alumni who are also Military Veterans! We will chat about their experiences attending a coding bootcamp, and how their military training set them up for success here at Codeup. Grab your virtual seat now so you can be sent the exclusive Livestream link on the 11th! </span></p>\n",
    "```"
   ]
  },
  {
   "cell_type": "code",
   "execution_count": 100,
   "id": "13eb2536-9267-43f1-9e52-8e6e7d9387f9",
   "metadata": {},
   "outputs": [
    {
     "data": {
      "text/plain": [
       "bs4.BeautifulSoup"
      ]
     },
     "execution_count": 100,
     "metadata": {},
     "output_type": "execute_result"
    }
   ],
   "source": [
    "type(soup2)"
   ]
  },
  {
   "cell_type": "code",
   "execution_count": 185,
   "id": "ccdc31d3-0d1f-46f3-8dc5-cee2dabc1563",
   "metadata": {},
   "outputs": [
    {
     "data": {
      "text/plain": [
       "'From Bootcamp to Bootcamp | A Military Appreciation Panel - Codeup'"
      ]
     },
     "execution_count": 185,
     "metadata": {},
     "output_type": "execute_result"
    }
   ],
   "source": [
    "blogtitle = soup2.title.string\n",
    "blogtitle"
   ]
  },
  {
   "cell_type": "code",
   "execution_count": 178,
   "id": "a320b59d-38dd-4196-a21b-002f9fedbdab",
   "metadata": {},
   "outputs": [],
   "source": [
    "#soup2.select('.et_pb_text_inner').text\n",
    "\n",
    "# AttributeError: ResultSet object has no attribute 'text'.\n",
    "#You're probably treating a list of elements like a single element.\n",
    "#Did you call find_all() when you meant to call find()?\n",
    "# I DID NOTTTT. and without .text it is too dirty. The same problem as before."
   ]
  },
  {
   "cell_type": "code",
   "execution_count": 180,
   "id": "31b1fa7e-36a4-444b-b792-b33017b4b535",
   "metadata": {},
   "outputs": [
    {
     "data": {
      "text/plain": [
       "'In honor of Military Appreciation Month, join us for a discussion with Codeup Alumni who are also Military Veterans! We will chat about their experiences attending a coding bootcamp, and how their military training set them up for success here at Codeup. Grab your virtual seat now so you can be sent the exclusive Livestream link on the 11th! \\nThank you to our panelists for participating: \\n\\nChristopher Aguirre\\nTaryn McKenzie \\nDesiree McElroy \\n\\n\\nAnd thanks to Codeup’s Trey Iapachino who is also an Air Force Veteran!'"
      ]
     },
     "execution_count": 180,
     "metadata": {},
     "output_type": "execute_result"
    }
   ],
   "source": [
    "# still giving me way more than what I want. \n",
    "# I should have looked more closely on Chrome and followed the trail up\n",
    "# I was being too vague, and allowing the text_inner to fog my mind. \n",
    "soup2.select_one('.entry-content').text.strip()"
   ]
  },
  {
   "cell_type": "code",
   "execution_count": 187,
   "id": "4ec14b3b-2130-4baa-9940-47c13d002482",
   "metadata": {},
   "outputs": [
    {
     "data": {
      "text/plain": [
       "'Apr 27, 2022'"
      ]
     },
     "execution_count": 187,
     "metadata": {},
     "output_type": "execute_result"
    }
   ],
   "source": [
    "# published date\n",
    "publication_date = soup.select_one('.published').text\n",
    "publication_date"
   ]
  },
  {
   "cell_type": "code",
   "execution_count": 141,
   "id": "eb4a7e09-041f-4550-84d4-02d3b016fbe7",
   "metadata": {},
   "outputs": [],
   "source": [
    "#print(soup2.prettify())\n",
    "# if that's beautification then I should maybe try making it hideous instead.."
   ]
  },
  {
   "cell_type": "code",
   "execution_count": 148,
   "id": "78e770bb-2b86-4620-b47a-dea0916ed23e",
   "metadata": {},
   "outputs": [],
   "source": [
    "#print(soup2.get_text())"
   ]
  },
  {
   "cell_type": "code",
   "execution_count": 163,
   "id": "d884dfab-9f4c-49a9-a9bc-1090cfe45af0",
   "metadata": {},
   "outputs": [
    {
     "data": {
      "text/plain": [
       "[<p class=\"post-meta\"><span class=\"published\">Apr 27, 2022</span> | <a href=\"https://codeup.com/category/alumni-stories/\" rel=\"tag\">Alumni Stories</a>, <a href=\"https://codeup.com/category/workshops/dallas/\" rel=\"tag\">Dallas</a>, <a href=\"https://codeup.com/category/events/\" rel=\"tag\">Events</a>, <a href=\"https://codeup.com/category/featured/\" rel=\"tag\">Featured</a>, <a href=\"https://codeup.com/category/military/\" rel=\"tag\">Military</a>, <a href=\"https://codeup.com/category/workshops/san-antonio/\" rel=\"tag\">San Antonio</a>, <a href=\"https://codeup.com/category/veterans/\" rel=\"tag\">Veterans</a>, <a href=\"https://codeup.com/category/workshops/virtual/\" rel=\"tag\">Virtual</a>, <a href=\"https://codeup.com/category/workshops/\" rel=\"tag\">Workshops</a></p>,\n",
       " <p class=\"post-meta\"><span class=\"published\">Apr 14, 2022</span> | <a href=\"https://codeup.com/category/codeup-news/\" rel=\"tag\">Codeup News</a>, <a href=\"https://codeup.com/category/featured/\" rel=\"tag\">Featured</a>, <a href=\"https://codeup.com/category/it-training/\" rel=\"tag\">IT Training</a></p>,\n",
       " <p class=\"post-meta\"><span class=\"published\">Apr 1, 2022</span> | <a href=\"https://codeup.com/category/workshops/virtual/\" rel=\"tag\">Virtual</a>, <a href=\"https://codeup.com/category/workshops/\" rel=\"tag\">Workshops</a></p>,\n",
       " <p class=\"post-meta\"><span class=\"published\">Mar 31, 2022</span> | <a href=\"https://codeup.com/category/events/\" rel=\"tag\">Events</a>, <a href=\"https://codeup.com/category/workshops/virtual/\" rel=\"tag\">Virtual</a>, <a href=\"https://codeup.com/category/workshops/\" rel=\"tag\">Workshops</a></p>,\n",
       " <p class=\"post-meta\"><span class=\"published\">Mar 17, 2022</span> | <a href=\"https://codeup.com/category/codeup-news/\" rel=\"tag\">Codeup News</a></p>,\n",
       " <p class=\"post-meta\"><span class=\"published\">Mar 8, 2022</span> | <a href=\"https://codeup.com/category/featured/\" rel=\"tag\">Featured</a></p>,\n",
       " <p class=\"post-meta\"><span class=\"published\">Jan 26, 2022</span> | <a href=\"https://codeup.com/category/codeup-news/\" rel=\"tag\">Codeup News</a></p>,\n",
       " <p class=\"post-meta\"><span class=\"published\">Jan 7, 2022</span> | <a href=\"https://codeup.com/category/codeup-news/\" rel=\"tag\">Codeup News</a>, <a href=\"https://codeup.com/category/dallas-newsletter/\" rel=\"tag\">Dallas Newsletter</a>, <a href=\"https://codeup.com/category/featured/\" rel=\"tag\">Featured</a>, <a href=\"https://codeup.com/category/tips-for-prospective-students/\" rel=\"tag\">Tips for Prospective Students</a></p>,\n",
       " <p class=\"post-meta\"><span class=\"published\">Dec 30, 2021</span> | <a href=\"https://codeup.com/category/codeup-news/\" rel=\"tag\">Codeup News</a>, <a href=\"https://codeup.com/category/featured/\" rel=\"tag\">Featured</a></p>,\n",
       " <p class=\"post-meta\"><span class=\"published\">Nov 19, 2021</span> | <a href=\"https://codeup.com/category/codeup-news/\" rel=\"tag\">Codeup News</a>, <a href=\"https://codeup.com/category/employers/\" rel=\"tag\">Employers</a></p>,\n",
       " <p class=\"post-meta\"><span class=\"published\">Nov 18, 2021</span> | <a href=\"https://codeup.com/category/it-training/\" rel=\"tag\">IT Training</a>, <a href=\"https://codeup.com/category/tips-for-prospective-students/\" rel=\"tag\">Tips for Prospective Students</a></p>,\n",
       " <p class=\"post-meta\"><span class=\"published\">Nov 17, 2021</span> | <a href=\"https://codeup.com/category/cybersecurity/\" rel=\"tag\">Cybersecurity</a></p>,\n",
       " <p class=\"post-meta\"><span class=\"published\">Nov 4, 2021</span> | <a href=\"https://codeup.com/category/codeup-news/\" rel=\"tag\">Codeup News</a>, <a href=\"https://codeup.com/category/tips-for-prospective-students/\" rel=\"tag\">Tips for Prospective Students</a></p>,\n",
       " <p class=\"post-meta\"><span class=\"published\">Oct 28, 2021</span> | <a href=\"https://codeup.com/category/it-training/\" rel=\"tag\">IT Training</a>, <a href=\"https://codeup.com/category/tips-for-prospective-students/\" rel=\"tag\">Tips for Prospective Students</a></p>,\n",
       " <p class=\"post-meta\"><span class=\"published\">Oct 21, 2021</span> | <a href=\"https://codeup.com/category/it-training/\" rel=\"tag\">IT Training</a>, <a href=\"https://codeup.com/category/tips-for-prospective-students/\" rel=\"tag\">Tips for Prospective Students</a></p>,\n",
       " <p class=\"post-meta\"><span class=\"published\">Oct 18, 2021</span> | <a href=\"https://codeup.com/category/alumni-stories/\" rel=\"tag\">Alumni Stories</a></p>,\n",
       " <p class=\"post-meta\"><span class=\"published\">Oct 3, 2021</span> | <a href=\"https://codeup.com/category/behind-the-billboards/\" rel=\"tag\">Behind the Billboards</a></p>,\n",
       " <p class=\"post-meta\"><span class=\"published\">Sep 16, 2021</span> | <a href=\"https://codeup.com/category/codeup-news/\" rel=\"tag\">Codeup News</a>, <a href=\"https://codeup.com/category/featured/\" rel=\"tag\">Featured</a></p>]"
      ]
     },
     "execution_count": 163,
     "metadata": {},
     "output_type": "execute_result"
    }
   ],
   "source": [
    "soup5.select('.post-meta')"
   ]
  },
  {
   "cell_type": "code",
   "execution_count": 168,
   "id": "6e069647-5692-42eb-98e6-feb6c88430e2",
   "metadata": {},
   "outputs": [],
   "source": [
    "blog_links = [link['href'] for link in soup.select('.more-link')]"
   ]
  },
  {
   "cell_type": "code",
   "execution_count": 188,
   "id": "251ddac0-f8f2-4bd8-bf9d-4ca9875976b9",
   "metadata": {},
   "outputs": [
    {
     "data": {
      "text/plain": [
       "['https://codeup.com/workshops/virtual/learn-to-code-python-workshop-on-4-16/',\n",
       " 'https://codeup.com/codeup-news/coming-soon-cloud-administration/',\n",
       " 'https://codeup.com/featured/5-books-every-woman-in-tech-should-read/',\n",
       " 'https://codeup.com/codeup-news/codeup-start-dates-for-march-2022/',\n",
       " 'https://codeup.com/codeup-news/vet-tec-funding-dallas/',\n",
       " 'https://codeup.com/codeup-news/dallas-campus-re-opens-with-new-grant-partner/',\n",
       " 'https://codeup.com/codeup-news/codeups-placement-team-continues-setting-records/',\n",
       " 'https://codeup.com/it-training/it-certifications-101/',\n",
       " 'https://codeup.com/cybersecurity/a-rise-in-cyber-attacks-means-opportunities-for-veterans-in-san-antonio/',\n",
       " 'https://codeup.com/codeup-news/use-your-gi-bill-benefits-to-land-a-job-in-tech/',\n",
       " 'https://codeup.com/tips-for-prospective-students/which-program-is-right-for-me-cyber-security-or-systems-engineering/',\n",
       " 'https://codeup.com/it-training/what-the-heck-is-system-engineering/',\n",
       " 'https://codeup.com/alumni-stories/from-speech-pathology-to-business-intelligence/',\n",
       " 'https://codeup.com/behind-the-billboards/boris-behind-the-billboards/',\n",
       " 'https://codeup.com/codeup-news/is-codeup-the-best-bootcamp-in-san-antonio-or-the-world/']"
      ]
     },
     "execution_count": 188,
     "metadata": {},
     "output_type": "execute_result"
    }
   ],
   "source": [
    "blog_links"
   ]
  },
  {
   "cell_type": "code",
   "execution_count": 204,
   "id": "c4c8a5a7-b314-4ead-8160-69162f275346",
   "metadata": {},
   "outputs": [],
   "source": [
    "def get_blog_links():\n",
    "    \"\"\"\n",
    "    Uses beautiful soup to request and record information from Codeup's blog, using the necessary headers that grant access.\n",
    "    The import of requests.get is merely a failsafe in case it was forgotten in the initial notebook import section. \n",
    "    The use of .attrs initializes a dictionary containing the hyperlinks. \n",
    "    \"\"\"\n",
    "    # imports in case they were forgotten\n",
    "    from requests import get\n",
    "    from bs4 import BeautifulSoup\n",
    "    import pandas as pd\n",
    "    \n",
    "    # Make request to gain access to codeup's HTML for their blog site.\n",
    "    response = get(\"https://codeup.com/blog/\", headers={\"user-agent\": \"Codeup Data Science\"})\n",
    "    # Create Beautiful Soup to get parse tree of the pages parsed in the request.\n",
    "    soup = BeautifulSoup(response.text)\n",
    "    # Initialize a dictionary which fills with the links obtained through soup.select.\n",
    "    links = [link.attrs[\"href\"] for link in soup.select(\".more-link\")]\n",
    "    #[link['href'] for link in soup.select('.more-link')]\n",
    "\n",
    "    return links\n",
    "\n",
    "def parse_blog(url):\n",
    "    \"\"\"\n",
    "    Copy and paste the specific blog you wish to parse and put it in quotes as a string for the argument,\n",
    "    this UDF will then proceed to extract the title, publication date, and content therein before returning it\n",
    "    all as a dictionary.\n",
    "    \"\"\"\n",
    "    # imports in case they were forgotten\n",
    "    from requests import get\n",
    "    from bs4 import BeautifulSoup\n",
    "    import pandas as pd\n",
    "    \n",
    "    # Make request to gain access to codeup's HTML for their blog site.\n",
    "    response = get(url, headers={\"user-agent\": \"Codeup Data Science\"})\n",
    "    # Create Beautiful Soup to get parse tree of the pages parsed in the request.\n",
    "    soup = BeautifulSoup(response.text)\n",
    "    # Use select_one functions from Beautiful Soup to access dictionary entries.\n",
    "    return {\n",
    "        \"title\": soup.select_one(\".entry-title\").text,\n",
    "        \"publication_date\": soup.select_one(\".published\").text,\n",
    "        \"content\": soup.select_one(\".entry-content\").text.strip(),\n",
    "    }\n",
    "\n",
    "\n",
    "def get_blog_df():\n",
    "    \"\"\"\n",
    "    A master function that combines the execution of the two previous UDFs and\n",
    "    subsequently returns a dataframe generated by a for-loop.\n",
    "    \"\"\"\n",
    "    # imports in case they were forgotten\n",
    "    from requests import get\n",
    "    from bs4 import BeautifulSoup\n",
    "    import pandas as pd\n",
    "    \n",
    "    links = get_blog_links()\n",
    "    df = pd.DataFrame([parse_blog(link) for link in links])\n",
    "    return df"
   ]
  },
  {
   "cell_type": "code",
   "execution_count": 202,
   "id": "1db9aed0-d81d-4b53-9427-e2a48193e990",
   "metadata": {},
   "outputs": [
    {
     "data": {
      "text/plain": [
       "['https://codeup.com/workshops/virtual/learn-to-code-python-workshop-on-4-16/',\n",
       " 'https://codeup.com/codeup-news/coming-soon-cloud-administration/',\n",
       " 'https://codeup.com/featured/5-books-every-woman-in-tech-should-read/',\n",
       " 'https://codeup.com/codeup-news/codeup-start-dates-for-march-2022/',\n",
       " 'https://codeup.com/codeup-news/vet-tec-funding-dallas/',\n",
       " 'https://codeup.com/codeup-news/dallas-campus-re-opens-with-new-grant-partner/',\n",
       " 'https://codeup.com/codeup-news/codeups-placement-team-continues-setting-records/',\n",
       " 'https://codeup.com/it-training/it-certifications-101/',\n",
       " 'https://codeup.com/cybersecurity/a-rise-in-cyber-attacks-means-opportunities-for-veterans-in-san-antonio/',\n",
       " 'https://codeup.com/codeup-news/use-your-gi-bill-benefits-to-land-a-job-in-tech/',\n",
       " 'https://codeup.com/tips-for-prospective-students/which-program-is-right-for-me-cyber-security-or-systems-engineering/',\n",
       " 'https://codeup.com/it-training/what-the-heck-is-system-engineering/',\n",
       " 'https://codeup.com/alumni-stories/from-speech-pathology-to-business-intelligence/',\n",
       " 'https://codeup.com/behind-the-billboards/boris-behind-the-billboards/',\n",
       " 'https://codeup.com/codeup-news/is-codeup-the-best-bootcamp-in-san-antonio-or-the-world/']"
      ]
     },
     "execution_count": 202,
     "metadata": {},
     "output_type": "execute_result"
    }
   ],
   "source": [
    "get_blog_links()"
   ]
  },
  {
   "cell_type": "code",
   "execution_count": 205,
   "id": "93fa6dcf-88b8-46b3-867d-e9b3104c7fd3",
   "metadata": {},
   "outputs": [
    {
     "data": {
      "text/plain": [
       "{'title': 'Our Acquisition of the Rackspace Cloud Academy: One Year Later',\n",
       " 'publication_date': 'Apr 14, 2022',\n",
       " 'content': 'Just about a year ago on April 16th, 2021 we announced our acquisition of the Rackspace Cloud Academy! For a short time after the acquisition, it was rebranded as the Codeup Cloud Academy and is now a full-time part of the Codeup brand. You can read our blog when we announced this last year by clicking here.\\xa0\\nTo look back at the past year, we checked in with Marcus Benavidez and Mike Jaime who stayed with Codeup after previously working with the Rackspace Cloud Academy. We also checked in with Dimitri Antoniou who is our VP of Strategic Initiatives and helped with the merger of the two companies. We asked them questions about the current campus, and also what the future may look like at Codeup’s new “Castle” campus.\\xa0\\nWhat makes Codeup’s new “Castle” campus so special?\\nMike Jamie: Its history! Rackspace and former Rackers were instrumental in jumpstarting the tech industry here in San Antonio. This includes Geekdom, where Codeup was established. The Castle is where Rackspace ultimately decided to call its international headquarters.\\xa0\\nMarcus Benavidez: The campus is designed with the student experience in mind. This includes the large classrooms and facilities to match. It’s a piece of San Antonio history as it’s on the Rackspace Campus.\\xa0\\nDimitri Antoniou: The Castle has been a staple of tech in San Antonio for years. Train new tech employees in high-growth careers like Cloud Administration from the Castle campus is an exciting extension of the legacy of Rackspace’s impact on San Antonio.\\nWhat new traditions have you created at the Castle or would to start since the acquisition?\\nMike: A way to implement a version of “Rookie O” across staff and cohorts.\\xa0\\nMarcus: I would love to see some kind of Alumni wall or recognition for Alumni past, present, and future.\\xa0\\nSince it’s been 1 yr since the acquisition, where do you see our Castle campus in 3, 5, or even 10 years from now?\\nMarcus: It will be awesome once Web Development and Data Science programs are approved on this campus. I am looking forward to the cross-pollination of technologies, students, and staff.\\xa0\\nDimitri: Maybe we will have our own mall to ourselves one day\\nWhat advice would you give to those considering our new Cloud Administration program?\\nMike: If you’re looking to get your foot in the door, I think it’s a no-brainer as you will be learning AWS administration, which is the most in-demand cloud computing platform. Also, the decision to focus on hands-on experience and know-how as opposed to certification exam memorization will better prepare students with practical knowledge.\\nMarcus: Do it. The time to positively impact your life and to create change is now.\\nDimitri: Skills in networking, Linux, and AWS can put you on a path to so many different careers, including cybersecurity and cloud architecture. These are some of the highest growth and most exciting pathways in technology. With experienced experts like Jeremy Price and Kris Connolly to teach you, there’s no better way to open doors in IT.\\nWhat programs could you see being delivered at the Castle campus in the future?\\nMike: Cybersecurity again! Also Web Development and Data Science as well.\\xa0\\nMarcus: We should continue to build and offer classes that align with the market [i.e. what skills are in high demand].\\xa0\\nDimitri: AWS is one of 3 major cloud providers, along with Microsoft Azure and Google Cloud. I think it won’t be long until we’re training a variety of cloud careers across all major players.\\nThe Castle has ping pong and foosball. What other indoor competitive game would you add?\\nMike: Air Hockey and Shuffle Board\\nMarcus: Vintage Arcade games would be awesome!\\xa0\\nDimitri: There’s so much open space – I’d love to run a nerf gun or dodgeball tournament!\\nJoin our new Cloud Administration Program\\nTinkerers, computer enthusiasts, mechanics, or really anyone who likes to fix and build things will love our brand new Cloud Administration program. The foundation of skills you will learn could land you a job in Cloud Architecture, Cybersecurity, DevOps, & Solutions Engineering. You will learn new skills in just 15 weeks, and won’t break the bank like a traditional 4-year college degree. Our next class starts on 5/31.\\xa0\\nOur Castle campus includes the following perks:\\xa0\\n\\nHands-on labs to get real-time hands-on experience\\nLive classroom instruction\\nPing pong and foosball tables\\xa0\\nLots of comfortable seating options to break out and study or just relax\\xa0\\nA large cafeteria area\\xa0\\nFree Coffee, Tea, Water, and Soda\\xa0\\nWe also have a vending machine for additional drinks and snacks\\xa0\\nFree covered parking\\xa0\\nLocated at Rackspace’s headquarters\\xa0\\n\\nIf you are looking to change your career, there is no better time than now! Classes for this new program will fill up fast so don’t delay!'}"
      ]
     },
     "execution_count": 205,
     "metadata": {},
     "output_type": "execute_result"
    }
   ],
   "source": [
    "parse_blog('https://codeup.com/featured/our-acquisition-of-the-rackspace-cloud-academy-one-year-later/')"
   ]
  },
  {
   "cell_type": "code",
   "execution_count": 208,
   "id": "bdda7b65-01de-410d-82d5-b5fef27270c9",
   "metadata": {},
   "outputs": [
    {
     "data": {
      "text/html": [
       "<div><div id=f11016e8-7fe4-461b-ad0b-c3fe03b9d58c style=\"display:none; background-color:#9D6CFF; color:white; width:200px; height:30px; padding-left:5px; border-radius:4px; flex-direction:row; justify-content:space-around; align-items:center;\" onmouseover=\"this.style.backgroundColor='#BA9BF8'\" onmouseout=\"this.style.backgroundColor='#9D6CFF'\" onclick=\"window.commands?.execute('create-mitosheet-from-dataframe-output');\">See Full Dataframe in Mito</div> <script> if (window.commands.hasCommand('create-mitosheet-from-dataframe-output')) document.getElementById('f11016e8-7fe4-461b-ad0b-c3fe03b9d58c').style.display = 'flex' </script> <table border=\"1\" class=\"dataframe\">\n",
       "  <thead>\n",
       "    <tr style=\"text-align: right;\">\n",
       "      <th></th>\n",
       "      <th>title</th>\n",
       "      <th>publication_date</th>\n",
       "      <th>content</th>\n",
       "    </tr>\n",
       "  </thead>\n",
       "  <tbody>\n",
       "    <tr>\n",
       "      <th>0</th>\n",
       "      <td>Learn to Code: Python Workshop on 4/23</td>\n",
       "      <td>Mar 31, 2022</td>\n",
       "      <td>According to LinkedIn, the “#1 Most Promising Job” is data science! But we here at Codeup understand changing careers can be a daunting idea. That’s where our free Learn to Code workshops come in! \\nOn Saturday 4/23 we will be teaching a free Learn to Code workshop on the programming language Python which is one of the major building blocks of Data Science!\\nWhat is data science? What is Python? \\nIf you’re curious, join for free to learn the basics of Python from our very own instructors and get an introduction to the field of Data Science. This is all done from the comfort of home.\\nSave your seat quickly – our Python workshops are always in high demand! \\nWhat you need:\\n1. Laptop (does not matter what kind). You need to be able to access WiFi and run an internet browser.\\n2. To RSVP!\\nYou can register for the event below!</td>\n",
       "    </tr>\n",
       "    <tr>\n",
       "      <th>1</th>\n",
       "      <td>Coming Soon: Cloud Administration</td>\n",
       "      <td>Mar 17, 2022</td>\n",
       "      <td>We’re launching a new program out of San Antonio!\\nWith the acquisition of Rackspace Open Cloud Academy last year, Codeup expanded its tech training into IT, cybersecurity, and cloud. Now, we are excited to announce our newest coming-soon program: Cloud Administration! Learn to build and manage cloud-based solutions.\\nWhat is the cloud? \\nIn short, the cloud lets you utilize the power of other people’s computers and infrastructure. Instead of having to run everything on your own computer (and dealing with pesky problems of storage, security, and reliability), you can instantly tap into the cloud to utilize the power of companies that specialize in these areas, like AWS, Google, and Microsoft.\\nWhy the cloud? \\nThe future is in the cloud! As the new way of doing business, all companies need to build or interact with cloud products. And these aren’t just high-tech solutions – they’re the core of everyday products like cloud-based gaming from Xbox, collaborative work tools from Google Drive, and even music streaming services from Spotify.\\nWhat will we learn? \\nThe Cloud Administration program will be a 15-week career accelerator that marries the best of our Systems Engineering and Cyber Cloud programs. With hands-on training in networking, Linux, Windows, security, and AWS Cloud, we’ll prepare you for entry-level jobs like Cloud Specialist, Cloud Administrator, and Cloud Engineer. Learn to build infrastructure that enables software and data science products, manage cloud deployments, and optimize for cloud performance.\\n\\nWho is this program for? \\nIf coding or statistics aren’t your things, but you’re interested in a career in tech, this is the program for you. Tinkerers, computer enthusiasts, mechanics, gamers – anyone who likes to fix and build things will love this program. With this foundation, students will be launched into IT towards careers in Cloud Architecture, Cybersecurity, DevOps, and Solutions Engineering.\\nWhen will the program launch? \\nWe anticipate starting our inaugural class in late May. With only 20 seats available in the inaugural class, space is limited. Sign up now to be the first to hear about the launch of our Cloud Administration program!\\n\\n\\nBe the first know when the Cloud Administration program launches by signing up on this page here.</td>\n",
       "    </tr>\n",
       "    <tr>\n",
       "      <th>2</th>\n",
       "      <td>5 Books Every Woman In Tech Should Read</td>\n",
       "      <td>Mar 8, 2022</td>\n",
       "      <td>On this International Women’s Day 2022 we wanted to tell stories about women in tech. What better way to do that than celebrate female authors! These women have written phenomenal books in the tech space to tell their stories. These are women who have walked the walk in the tech world and/or offered unique perspectives to not just women in tech, but women in the workplace. This list goes in no particular order as we believe you should add all of these to your kindle or book library asap. You can click on each book image to take you to a purchase page on Amazon.\\nLet’s dive into the list below:\\nReset: My Fight for Inclusion and Lasting Change by Ellen Pao\\nFrom the book’s description on Amazon:\\n“In 2015, Ellen K. Pao sued a powerhouse Silicon Valley venture capital firm, calling out workplace discrimination and retaliation against women and other underrepresented groups. Her suit rocked the tech world—and exposed its toxic culture and its homogeneity. Her message overcame negative PR attacks that took aim at her professional conduct and her personal life, and she won widespread public support—Time hailed her as “the face of change.” Though Pao lost her suit, she revolutionized the conversation at tech offices, in the media, and around the world. In Reset, she tells her full story for the first time.”\\n\\n \\nFemale Innovators at Work: Women on Top of Tech by Danielle Newnham \\nFrom the book’s description on Amazon:\\n“This book describes the experiences and successes of female innovators and entrepreneurs in the still largely male-dominated tech world in twenty candid interviews. It highlights the varied life and career stories that lead these women to the top positions in the technology industry that they are in now.\\nInterviewees include CEOs, founders, and inventors from a wide spectrum of tech organizations across sectors as varied as mobile technology, e-commerce, online education, and video games. Interviewer Danielle Newnham, a mobile startup and e-commerce entrepreneur herself as well as an online community organizer, presents the insights, instructive anecdotes, and advice shared with her in the interviews, including stories about raising capital for one’s start-up, and about the obstacles these women encountered and how they overcame them.”\\n\\n \\nTechnically Wrong: Sexist Apps, Biased Algorithms, and Other Threats of Toxic Tech by Sara Wachter-Boettcher\\nFrom the book’s description on Amazon:\\n“Buying groceries, tracking our health, finding a date: whatever we want to do, odds are that we can now do it online. But few of us ask how all these digital products are designed, or why. It’s time we change that. Many of the services we rely on are full of oversights, biases, and downright ethical nightmares. Chatbots that harass women. Signup forms that fail anyone who’s not straight. Social media sites that send peppy messages about dead relatives. Algorithms that put more black people behind bars. \\nTechnically Wrong takes an unflinching look at the values, processes, and assumptions that lead to these problems and more. Wachter-Boettcher demystifies the tech industry, leaving those of us on the other side of the screen better prepared to make informed choices about the services we use – and demand more from the companies behind them.”\\n\\n \\nBrotopia: Breaking Up the Boys’ Club of Silicon Valley by Emily Chang\\nFrom the book’s description on Amazon:\\n“Silicon Valley is not a fantasyland of unicorns, virtual reality rainbows, and 3D-printed lollipops for women in tech. Instead, it’s a “Brotopia,” where men hold the cards and make the rules. While millions of dollars may seem to grow on trees in this land of innovation, tech’s aggressive, misogynistic, work-at-all costs culture has shut women out of the greatest wealth creation in the history of the world.\\nBrotopia reveals how Silicon Valley got so sexist despite its utopian ideals, why bro culture endures even as its companies claim the moral high ground, and how women are speaking out and fighting back. Drawing on her deep network of Silicon Valley insiders, Chang opens the boardroom doors of male-dominated venture capital firms like Kleiner Perkins, the subject of Ellen Pao’s high-profile gender discrimination lawsuit, and Sequoia, where a partner once famously said they “won’t lower their standards” just to hire women. Exposing the flawed logic in common excuses for why tech has long suffered the “pipeline” problem and invests in the delusion of meritocracy, Brotopia also shows how bias coded into AI, internet troll culture, and the reliance on pattern recognition harms not just women in tech but us all, and at an unprecedented scale.”\\n\\n \\nLife in Code: A Personal History of Technology by Ellen Ullman\\nFrom the book’s description on Amazon:\\n“The last twenty years have brought us the rise of the internet, the development of artificial intelligence, the ubiquity of once unimaginably powerful computers, and the thorough transformation of our economy and society. Through it all, Ellen Ullman lived and worked inside that rising culture of technology, and in Life in Code she tells the continuing story of the changes it wrought with a unique, expert perspective.\\nWhen Ellen Ullman moved to San Francisco in the early 1970s and went on to become a computer programmer, she was joining a small, idealistic, and almost exclusively male cadre that aspired to genuinely change the world. In 1997 Ullman wrote Close to the Machine, the now classic and still definitive account of life as a coder at the birth of what would be a sweeping technological, cultural, and financial revolution.\\nTwenty years later, the story Ullman recounts is neither one of unbridled triumph nor a nostalgic denial of progress. It is necessarily the story of digital technology’s loss of innocence as it entered the cultural mainstream, and it is a personal reckoning with all that has changed, and so much that hasn’t. Life in Code is an essential text toward our understanding of the last twenty years–and the next twenty.”\\n\\n \\nLet us know your thoughts on this list on social media! What books or authors should we add to this list for a future post?\\nAre you a woman who is interested in launching your career in tech? Help us close the gender gap in tech and apply for our Women in Tech scholarship! You can learn more by clicking here. \\nWe have a Data Science program that starts on 3/21 and a Web Development program that starts on 4/1. Let us know if you have questions by submitting your application or reaching out to us at admissions@codeup.com!</td>\n",
       "    </tr>\n",
       "    <tr>\n",
       "      <th>3</th>\n",
       "      <td>Codeup Start Dates for March 2022</td>\n",
       "      <td>Jan 26, 2022</td>\n",
       "      <td>As we approach the end of January we wanted to look forward to our next start dates for all of our current programs.\\nFull Stack Web Development – 3/7/22\\nFull Stack Web Development is the first program we built and also our most popular. You’ve asked and we listened! Our next Web Development cohort will start on 3/7/2022 and is ENTIRELY VIRTUAL! THESE SEATS WILL GO FAST!\\nAs one of the most in-demand jobs in the country, software and web development is the tech career with the newest jobs. In the U.S., there’s:\\n\\n1.5 million developer jobs*\\n250,000 of them remain open\\na high growth rate of 13%*\\n\\n \\nData Science – 3/22/22\\nOur first new Data Science class of 2022 starts Monday 3/22/2022 at our downtown campus at the Vogue building.\\nWhy consider pivoting careers to Data Science?\\n\\n#1 job in America from 2016-2020 (Glassdoor*)\\n650% increase in data science positions since 2012\\nNearly 12 million new jobs between 2019 and 2029\\n31% ten-year growth rate\\n\\nThe supply of data scientists remains painfully low compared to the outrageous demand. YOU can help close the gap while launching a fulfilling, secure, and high-paying career – one of the very best in the country!\\nEmployers are scrambling to find talent due to a lack of qualified applicants. YOU can help fill the gap while future-proofing your skillset. Have the flexibility, security, and salary that you’ve always wanted in a career.\\nAre you ready to launch your career in tech? Apply today so our admissions team can save your seat and get your name on the list. Our application can be found here. \\nWant to experience Codeup early? Join one of our workshops to get an intro to a specific coding language, learn about our financing options, or maybe even code yourself a resume! All of our events can be located here. \\nWe can’t wait to help you launch your career in tech!</td>\n",
       "    </tr>\n",
       "    <tr>\n",
       "      <th>4</th>\n",
       "      <td>VET TEC Funding Now Available For Dallas Veterans</td>\n",
       "      <td>Jan 7, 2022</td>\n",
       "      <td>We are so happy to announce that VET TEC benefits are now available to be used at our campus located in Dallas, TX! Our next Dallas start date for our web development program is January 31st, 2022!\\nYou don’t want to delay your application as this type of funding is limited. Apply now here for our web development program and note you are interested in using VET TEC.\\n \\nVET TEC IN-PERSON WORKSHOP AT OUR DALLAS CAMPUS on 1/12/22\\nWe’re hosting a VET TECH workshop next Wednesday evening at our Dallas Campus to discuss everything about this new funding option for our Dallas Veterans.\\nWe’re one of the few coding bootcamps in Dallas approved for the use of VET TEC funding, so this workshop will go over why Codeup is the best place to use your benefits and help launch your career in tech once you’re out of the military. \\nDetails about the event and the link to grab your free tickets can be found here. \\nThe VET TEC program details and eligibility requirements are listed below. You can also visit our VET TEC program page here.\\n \\nWhat is VET TEC?\\nVET TEC, which stands for Veteran Employment Through Technology Education Courses, is a program through the VA that matches career accelerators like Codeup with veterans looking to gain high-tech skills. Programs like Codeup will help you build the skills you need to become, for example, a Web Developer, while the VA helps you to pay for the tuition.\\n \\nAre you eligible to use VET TEC funding?\\nTo qualify for VET TEC, you must:\\n1. Not be on active duty or are within 180 days of separating from active duty2. Qualify for VA Education Assistance under the GI Bill3. Have at least one day of unexpired GI Bill® entitlement\\n \\nWhen is VET TEC funding available?\\nVET TEC renews its funding on an annual cycle in October. \\nIMPORTANT: Funds run out very quickly each year. If you’re interested in using VET TEC, we recommend applying immediately and going through our admissions process as quickly as possible. That way, you’ll be accepted early and we can certify your enrollment as soon as VET TEC funding becomes available from the VA.\\nDon’t delay your access to VET TEC funding and apply today!</td>\n",
       "    </tr>\n",
       "    <tr>\n",
       "      <th>...</th>\n",
       "      <td>...</td>\n",
       "      <td>...</td>\n",
       "      <td>...</td>\n",
       "    </tr>\n",
       "    <tr>\n",
       "      <th>10</th>\n",
       "      <td>Which program is right for me: Cyber Security or Systems Engineering?</td>\n",
       "      <td>Oct 28, 2021</td>\n",
       "      <td>What IT Career should I choose?\\nIf you’re thinking about a career in IT, there are a lot of directions you could go. You could become a web developer or data scientist or study UI/UX and graphic design. Or for those of you reading right now, you might be looking at entering a career in networking, cybersecurity, or cloud administration. Which might lead you to ask: what’s the difference, and which program is right for me?\\nBoth these programs are 13-weeks long. While they have different names, they share a lot of similar content as entry-level IT accelerators. Of the seven technical modules, four of them are shared. Both cover:\\n\\nNetworking – Gain in-depth exposure to networks and topics across the OSI model,  networks, protocols, and packet Capture, network analysis, and more.\\nLinux – Gain exposure and get hands-on configuring and maintaining the Linux operating system.\\nWindows – Exposure to the Windows Server 2012 R2 Operating System to learn server management functions using Server Manager and basic command-line utilities and tools to run from the command prompt.\\nAWS – Become familiar with key industry terms and concepts while building a foundation of cloud product knowledge across Amazon Web Services.\\n\\nNetworking, Linux, Windows, and AWS are a LOT of content for new IT employees. Outside of this content, the programs split into their areas of focus:\\n\\nCyber Cloud gets students certified in Security+ and AWS\\nSystems Engineering gets students certified in Network+ and Linux+\\n\\nNow that you understand where the programs are similar and where they differ, which one is right for you? Here are some questions to consider:\\n\\nDo I have any technical work experience?\\nDo I have any training or education in IT?\\nDo you prefer solving open-ended and ambiguous problems, or concrete problems with solutions?\\nAre you interested in building and developing systems, or in securing and protecting systems?\\n\\nIf you don’t have any work or education in IT, the Systems Engineering program is the one for you. It is designed to be the 0-1 step in your IT career to get you started! If you do have work experience or education in IT, then you might be interested in Cyber Cloud. Why is that?\\nOur programs focus on CompTIA certifications, which is a major industry provider in technical training. The typical track through their IT certifications is to start with their A+, then complete their Network +, and then progress to their Security +. That means if you don’t have your Network + (or relevant experience), it can be really hard to catch up.\\nStill not sure which is right for you? Try it out for yourself with this free Network Fundamentals Crash Course. Ready to get some questions answered? Request More Information Here</td>\n",
       "    </tr>\n",
       "    <tr>\n",
       "      <th>11</th>\n",
       "      <td>What the Heck is System Engineering?</td>\n",
       "      <td>Oct 21, 2021</td>\n",
       "      <td>Codeup offers a 13-week training program: Systems Engineering. Designed to help you launch your career in tech, this program takes you from 0 experience to IT hero with certifications and hands-on experience in just weeks. But if you’re new to tech, you might be wondering…what is Systems Engineering?\\nWhat is Systems Engineering?\\nIn IT terms, a Systems Engineer (Sysadmin or Sysad for short) is responsible for the configuration, upkeep, and operation of computer systems. They manage things like security, storage, automation, troubleshooting, and a whole lot more. For example, some of the day to day tasks include things like:\\n\\nReviewing system logs for anomalies and issues\\nUpdating operating systems (OS)\\nInstalling new hardware and software\\nManaging user accounts\\nDocumenting information about the system setup\\nManaging file systems\\n\\nYou might be thinking, “Woah, that looks like a lot!” and that’s because it is! A Systems Engineer is a critical piece of IT infrastructure. And in today’s digital age, all companies are IT companies, which means Sysadmins are critical everywhere. You can think of a Sysad as a jack-of-all-trades of what we typically think of as IT. But don’t forget how the old saying actually ends: “A jack of all trades is a master of none, but oftentimes better than a master of none.” So, what are the skills a Sysadmin uses?\\n\\nNetworking – Networking skills include how to configure, maintain, and troubleshoot networks, including using hardware like switches, routers, and firewalls. These skills and concepts are crucial to any systems engineering position. You not only need to understand them but also need some way to prove it. With the Network+ certification, job seekers can come to employers with proof of their networking know-how.\\nLinux- Linux is one of the most popular Operating Systems (OS). It is fully compatible with Mac OS and underpins all Android systems. In fact, the world’s IT infrastructure is run primarily on Linux. Certifications are the primary way technical folks prove their skills and Linux is no different. The CompTIA Linux+ certification is an entry-level certification that proves knowledge and basic technical proficiency in the job role\\nCloud – This involves using servers and tools (i.e. processing and storage hardware) that are based in a different location, instead of on-site. Our program introduces students to cloud concepts like storage, computing, permissions, and more!\\n\\nWhy Become a Systems Engineer?\\nNow you know what a Sysadmin does and what skills they use. But why become a Sysadmin? The world is increasingly dependent on computer systems and their underlying technologies. Configuring computer software, designing innovative solutions for specific problems, and basic troubleshooting skills are more and more in demand each year.  Without systems engineers, the technical world would stop innovating and become stagnant.\\n\\nThey are in demand! Companies rely on Sysadmins to keep all their IT running\\nYou’ll become a tech guru! You won’t just be the person who can fix the printer. You’ll also be the person who can script, work with servers, navigate AWS Cloud tools, and work on modern web technologies.\\nYou can specialize! With the breadth of knowledge you’ll obtain, you can have a specialized career in IT. Just hone in on one of your interests, whether it’s security, cloud, databases, or something that doesn’t even exist yet!\\n\\nInterested in learning more? Sign up for our Network Fundamentals Crash Course to get a taste for these skills – a $500 value you can get for free!Ready to go all-in? Apply to our 13-week Systems Engineering program where you’ll earn your Network+ and Linux+ certifications, along with skills in AWS, LAMP, Microsoft, and more!</td>\n",
       "    </tr>\n",
       "    <tr>\n",
       "      <th>12</th>\n",
       "      <td>From Speech Pathology to Business Intelligence</td>\n",
       "      <td>Oct 18, 2021</td>\n",
       "      <td>By: Alicia Gonzalez\\nBefore Codeup, I was a home health Speech-Language Pathologist Assistant. I would go from home to home working with children anywhere from 1 year old to 18 years old. After 5 years of the profession, my body was getting tired driving around all the time and I felt overworked. The work was satisfying and I do miss working with the kiddos, but I just felt drained. I knew it was time to find a different field, so I started thinking about what else I was good at.\\nThen one day as I was on my way to a patient’s home, I found a Codeup billboard near Splashtown that said “drive to a job you love” and I took it as a sign. I thought, “I want to drive to a job I love!” I had also heard nothing but good things about Codeup from a friend that went the Web Development route. She answered my questions and helped me through the whole process.\\nAt first, I was a little worried about tuition payment, but once I got started in the application process, they held Zoom meetings where they would talk about all the funding options. They made it really easy and addressed all of my concerns. I realized I didn’t have to be scared about the financial aspect. I applied to a couple of grants and was able to get about a third of my tuition covered through the Train for Jobs SA grant from Workforce Solutions Alamo. That really helped me. I also received a few different scholarships from Codeup. The rest of it was a loan from Meritize.\\nIt was difficult leaving something I was comfortable and familiar with to start something new with no data science background, but I have always enjoyed all things tech. Once we got into the pre-assessment work and then the prework leading up to class, it showed me, “okay this IS what I wanted to be doing.” I really enjoyed it, thought it was fun, and realized this was for me.\\nOverall, I really enjoyed the program. We were in Zoom the whole time because of the pandemic, but they made it slow, nice, and easy. The instructors are absolutely wonderful. Every single instructor helped me at one point or another, teaching things from ground zero and explaining everything really nicely in a way I can understand. One thing I value the most about the instructors is that, not only do they go over all the necessary skills needed in a data-related career, but they teach us how to learn the skills as well. They didn’t just give us the work and tell us exactly how to do it. They provide instruction, hands-on exercises/projects, and answers to all questions, but most importantly, they walk us through how to work with the data and obtain the answers on our own. This is extremely valuable as I believe it is the key to success in this field.\\nNow after graduating from Codeup, I’m a Business Intelligence Analyst at Liquid Web. I’ve been here almost three months now and I’m contributing to so many projects. I really feel like a true member of the team. I can figure things out for myself and my bosses are telling me how well I’m doing and how far I’ve come since working here. I didn’t have to ask for much help or training, because Codeup prepared me well and taught me how to learn when I run into skills they don’t teach. It’s been really good.\\nI’m so glad I made this change. It was scary to take that leap of faith, but ultimately, I’m really glad I did. I love my job and I love what I’m doing. If anyone is looking to make a career change and struggling to find their best fit, I recommend looking into Codeup and going through their process. I’m extremely happy where I am right now and wouldn’t change a thing.</td>\n",
       "    </tr>\n",
       "    <tr>\n",
       "      <th>13</th>\n",
       "      <td>Boris – Behind the Billboards</td>\n",
       "      <td>Oct 3, 2021</td>\n",
       "      <td></td>\n",
       "    </tr>\n",
       "    <tr>\n",
       "      <th>14</th>\n",
       "      <td>Is Codeup the Best Bootcamp in San Antonio…or the World?</td>\n",
       "      <td>Sep 16, 2021</td>\n",
       "      <td>Looking for the best data science bootcamp in the world? Or how about the best coding bootcamp in San Antonio? If you’re reading this, you’ve found both! We are thrilled to announce that Codeup has been chosen as a Best Data Science Bootcamp of 2021 by Course Report, and a Best San Antonio Coding Bootcamp 2021 by Career Karma.\\nBest Data Science Bootcamp in the World\\nCourse Report is a leading authority in ranking and reviewing bootcamps. Every year, they compile a list of the Best Data Science Bootcamps in the world. Codeup made the 2021 list, along with 21 other bootcamps, for our Data Science program. Why? Course Report considers alumni and student reviews, financing options, outcome transparency, and duration of the program. More on how Codeup performs in each of those categories below!\\nBest Coding Bootcamp in San Antonio\\nThe folks at Career Karma are experts on what the best bootcamps are for various tech careers. They’ve recently identified the 10 Best Coding Bootcamps in San Antonio in 2021 with Codeup in the top 5 for our Web Development program. Also on the list is Open Cloud Academy, which is now Codeup Cloud Academy (CCA), owned and operated by us. The CCA programs recognized are cybersecurity and Systems Engineering.\\nWhy Codeup?\\nHere are a few reasons why Codeup is one of the best bootcamps in San Antonio and the world:\\n　　• Students and alumni gave an average rating of 4.69 stars on Course Report　　• 6 financing partners believe in our program so much that they offer aid to our students, including VA benefits for our veterans　　• Data Science grads earn a median starting salary of about $70,000 with high placement rates 　　• Web Development grads earn a median starting salary that’s above the local, state, and nationwide averages for entry-level developers at about $45,500　　• The intensive programs need 22 weeks (5-6 months) to cover a robust curriculum that’s catered to employers　　• The instructors have decades of prior industry experience and are invested in each student’s learning and success\\nThese awards are huge for the security and confidence they provide our students and employer partners. If you’re an employer looking to hire from the best bootcamp, now you know where to find high-quality talent. If you’re interested in a career change into tech, now you know where to apply to get the best experience. \\nSpecial shoutouts are in order to every single person on our incredible staff. It is an honor to be recognized not just locally, but globally! If you’d like to work at an award-winning institution, now you know where you can join a well-oiled machine and make a huge impact. We’re hiring!</td>\n",
       "    </tr>\n",
       "  </tbody>\n",
       "</table></div>"
      ],
      "text/plain": [
       "                                                title publication_date  \\\n",
       "0              Learn to Code: Python Workshop on 4/23     Mar 31, 2022   \n",
       "1                   Coming Soon: Cloud Administration     Mar 17, 2022   \n",
       "2             5 Books Every Woman In Tech Should Read      Mar 8, 2022   \n",
       "3                   Codeup Start Dates for March 2022     Jan 26, 2022   \n",
       "4   VET TEC Funding Now Available For Dallas Veterans      Jan 7, 2022   \n",
       "5       Dallas Campus Re-opens With New Grant Partner     Dec 30, 2021   \n",
       "6   Codeup’s Placement Team Continues Setting Records     Nov 19, 2021   \n",
       "7   IT Certifications 101: Why They Matter, and Wh...     Nov 18, 2021   \n",
       "8   A rise in cyber attacks means opportunities fo...     Nov 17, 2021   \n",
       "9    Use your GI Bill® benefits to Land a Job in Tech      Nov 4, 2021   \n",
       "10  Which program is right for me: Cyber Security ...     Oct 28, 2021   \n",
       "11               What the Heck is System Engineering?     Oct 21, 2021   \n",
       "12     From Speech Pathology to Business Intelligence     Oct 18, 2021   \n",
       "13                      Boris – Behind the Billboards      Oct 3, 2021   \n",
       "14  Is Codeup the Best Bootcamp in San Antonio…or ...     Sep 16, 2021   \n",
       "\n",
       "                                              content  \n",
       "0   According to LinkedIn, the “#1 Most Promising ...  \n",
       "1   We’re launching a new program out of San Anton...  \n",
       "2   On this International Women’s Day 2022 we want...  \n",
       "3   As we approach the end of January we wanted to...  \n",
       "4   We are so happy to announce that VET TEC benef...  \n",
       "5   We are happy to announce that our Dallas campu...  \n",
       "6   Our Placement Team is simply defined as a grou...  \n",
       "7   AWS, Google, Azure, Red Hat, CompTIA…these are...  \n",
       "8   In the last few months, the US has experienced...  \n",
       "9   As the end of military service gets closer, ma...  \n",
       "10  What IT Career should I choose?\\nIf you’re thi...  \n",
       "11  Codeup offers a 13-week training program: Syst...  \n",
       "12  By: Alicia Gonzalez\\nBefore Codeup, I was a ho...  \n",
       "13                                                     \n",
       "14  Looking for the best data science bootcamp in ...  "
      ]
     },
     "execution_count": 208,
     "metadata": {},
     "output_type": "execute_result"
    }
   ],
   "source": [
    "get_blog_df()"
   ]
  },
  {
   "cell_type": "markdown",
   "id": "ff6a7ef3-6128-43b0-90ab-a0fb053b4863",
   "metadata": {},
   "source": [
    "***\n",
    "***\n",
    "\n",
    "2. News Articles\n",
    "\n",
    "We will now be scraping text data from [inshorts] (https://inshorts.com/en/read), a website that provides a brief overview of many different topics.\n",
    "\n",
    "Write a function that scrapes the news articles for the following topics:\n",
    "\n",
    "- Business\n",
    "- Sports\n",
    "- Technology\n",
    "- Entertainment       \n",
    "\n",
    "The end product of this should be a function named get_news_articles that returns a list of dictionaries, where each dictionary has this shape:\n",
    "\n",
    "```\n",
    "{\n",
    "    'title': 'The article title',\n",
    "    'content': 'The article content',\n",
    "    'category': 'business' # for example\n",
    "}\n",
    "```\n",
    "\n",
    "Hints:\n",
    "\n",
    "- Start by inspecting the website in your browser. Figure out which elements will be useful.\n",
    "- Start by creating a function that handles a single article and produces a dictionary like the one above.\n",
    "- Next create a function that will find all the articles on a single page and call the function you created in the last step for every article on the page.\n",
    "- Now create a function that will use the previous two functions to scrape the articles from all the pages that you need, and do any additional processing that needs to be done.\n",
    "***"
   ]
  },
  {
   "cell_type": "code",
   "execution_count": 18,
   "id": "5eb34494-4cf5-4754-9825-155ffb1c5de4",
   "metadata": {},
   "outputs": [],
   "source": [
    "def parse_news_card(card, category):\n",
    "    ''' \n",
    "    Starts with an empty dictionary, selects an anchor tag of the class 'clickable'\n",
    "    and strips it of its excess, delivered in text form to the dictionary's title label.\n",
    "    The news card content is selected and the output is fed into the dictionary via \n",
    "    the first instance of div. Additionally, the element of the class author has its\n",
    "    details included, as does the time via a machine-readable time-stamp via the content\n",
    "    attribute via the .attrs on a beautiful soup object date. \n",
    "    Once the category, title, author, and publication date are all garnered, the function\n",
    "    returns the dictionary. \n",
    "    '''\n",
    "    output = {}\n",
    "\n",
    "    output['category'] = category\n",
    "    output['title'] = card.select_one('a.clickable').text.strip()\n",
    "\n",
    "    card_content = card.select_one('.news-card-content')\n",
    "    output['content'] = card_content.select_one('div').text\n",
    "\n",
    "    author_and_time = card_content.select_one('.news-card-author-time')\n",
    "    output['author'] = author_and_time.select_one('.author').text\n",
    "    output['published'] = author_and_time.select_one('.time').attrs['content']\n",
    "\n",
    "    return output"
   ]
  },
  {
   "cell_type": "code",
   "execution_count": 20,
   "id": "28cf3e9b-3fea-4376-8527-608372afcd9c",
   "metadata": {},
   "outputs": [],
   "source": [
    "import requests\n",
    "\n",
    "def parse_news_category(category):\n",
    "    '''\n",
    "    This UDF implements parse_news_card, but a particular category \n",
    "    of interest is set as the argument. The response is set by\n",
    "    getting the information via an HTTPS request of the url + category,\n",
    "    and then a Beautiful Soup object is created. This soup then selects\n",
    "    the class .news-card, establishes an empty list for the articles, and\n",
    "    then incorporates a for-loop strategy to add the parsed card per category\n",
    "    to the list for each card therein. At last, the articles are returned. \n",
    "    '''\n",
    "    url = 'https://inshorts.com/en/read/' + category\n",
    "    response = requests.get(url)\n",
    "    soup = BeautifulSoup(response.text)\n",
    "\n",
    "    cards = soup.select('.news-card')\n",
    "    articles = []\n",
    "\n",
    "    for card in cards:\n",
    "        articles.append(parse_news_card(card, category))\n",
    "\n",
    "    return articles"
   ]
  },
  {
   "cell_type": "code",
   "execution_count": 19,
   "id": "141fe36e-9d71-424e-9571-92443cf0f5c5",
   "metadata": {},
   "outputs": [],
   "source": [
    "def get_news_articles(use_cache=True):\n",
    "    '''\n",
    "    Using a caching approach, this function first checks to determine whether\n",
    "    a .json concerning this target is extant. If so, it immediately returns a data\n",
    "    frame containing the identified categories by using Pandas to read that .json. Extend\n",
    "    is used in favor of append, as every dictionary in the list of dictionary needs to be\n",
    "    continually added to the articles list, which is then converted into a dataframe.\n",
    "    Lastly, a .json is created so that future uses will automatically read via the cache,\n",
    "    as long as it abides by the naming convention set here.\n",
    "    '''\n",
    "    \n",
    "    if os.path.exists('news_articles.json') and use_cache:\n",
    "        return pd.read_json('news_articles.json')\n",
    "\n",
    "    categories = ['business', 'sports', 'technology', 'entertainment']\n",
    "\n",
    "    articles = []\n",
    "\n",
    "    for category in categories:\n",
    "        print(f'Getting {category} articles')\n",
    "        articles.extend(parse_news_category(category))\n",
    "\n",
    "    df = pd.DataFrame(articles)\n",
    "    df.to_json('news_articles.json', orient='records')\n",
    "    return df"
   ]
  },
  {
   "cell_type": "code",
   "execution_count": 15,
   "id": "b25999b7-e224-4e48-b9e8-93b7da81ead2",
   "metadata": {},
   "outputs": [
    {
     "name": "stdout",
     "output_type": "stream",
     "text": [
      "Getting business articles\n",
      "Getting sports articles\n",
      "Getting technology articles\n",
      "Getting entertainment articles\n"
     ]
    }
   ],
   "source": [
    "today = strftime('%Y-%m-%d')\n",
    "get_news_articles().to_json(f'inshorts-{today}.json')"
   ]
  },
  {
   "cell_type": "code",
   "execution_count": 16,
   "id": "40cf880a-c952-4c46-8c39-414f8d89133b",
   "metadata": {},
   "outputs": [],
   "source": [
    "df = pd.read_json('inshorts-2022-05-09.json')"
   ]
  },
  {
   "cell_type": "code",
   "execution_count": 17,
   "id": "1a431982-4d57-40c0-b94a-16d69dde9e7e",
   "metadata": {},
   "outputs": [
    {
     "data": {
      "text/html": [
       "<div><div id=44bfd43d-dab8-4d47-80c8-bde12547f6c1 style=\"display:none; background-color:#9D6CFF; color:white; width:200px; height:30px; padding-left:5px; border-radius:4px; flex-direction:row; justify-content:space-around; align-items:center;\" onmouseover=\"this.style.backgroundColor='#BA9BF8'\" onmouseout=\"this.style.backgroundColor='#9D6CFF'\" onclick=\"window.commands?.execute('create-mitosheet-from-dataframe-output');\">See Full Dataframe in Mito</div> <script> if (window.commands.hasCommand('create-mitosheet-from-dataframe-output')) document.getElementById('44bfd43d-dab8-4d47-80c8-bde12547f6c1').style.display = 'flex' </script> <table border=\"1\" class=\"dataframe\">\n",
       "  <thead>\n",
       "    <tr style=\"text-align: right;\">\n",
       "      <th></th>\n",
       "      <th>category</th>\n",
       "      <th>title</th>\n",
       "      <th>content</th>\n",
       "      <th>author</th>\n",
       "      <th>published</th>\n",
       "    </tr>\n",
       "  </thead>\n",
       "  <tbody>\n",
       "    <tr>\n",
       "      <th>0</th>\n",
       "      <td>business</td>\n",
       "      <td>Rupee hits all-time low of 77.42 against US dollar</td>\n",
       "      <td>The Indian rupee fell to an all-time low of 77.42 against the US dollar on Monday, Reuters reported. Asian markets were lower on Monday as US stock futures fell on fears of more policy tightening from the Federal Reserve and strict lockdown in Shanghai impacting global growth, according to Reuters.</td>\n",
       "      <td>Apaar Sharma</td>\n",
       "      <td>2022-05-09T05:05:31.000Z</td>\n",
       "    </tr>\n",
       "    <tr>\n",
       "      <th>1</th>\n",
       "      <td>business</td>\n",
       "      <td>Bitcoin falls to the lowest level since January, trades below $34,000</td>\n",
       "      <td>Bitcoin fell on Monday to as low as $33,266 in morning trade, nearing January's low of $32,951 as slumping equity markets continued to hurt cryptocurrencies. It then steadied to trade above $33,600. According to BBC, the world's largest cryptocurrency has fallen by 50% since its peak in November 2021.</td>\n",
       "      <td>Pragya Swastik</td>\n",
       "      <td>2022-05-09T09:20:34.000Z</td>\n",
       "    </tr>\n",
       "    <tr>\n",
       "      <th>2</th>\n",
       "      <td>business</td>\n",
       "      <td>Rupee closes at all-time low of 77.50 against US dollar</td>\n",
       "      <td>The Indian rupee weakened further on Monday to close at a new all-time low of 77.50 against the US dollar, 60 paise over its previous close. During the trading session, the rupee touched its lifetime low of 77.52. The currency was weighed down by elevated crude oil prices and a widening trade deficit.</td>\n",
       "      <td>Pragya Swastik</td>\n",
       "      <td>2022-05-09T15:27:43.000Z</td>\n",
       "    </tr>\n",
       "    <tr>\n",
       "      <th>3</th>\n",
       "      <td>business</td>\n",
       "      <td>Made best possible decision: IndiGo on barring differently-abled child from flight</td>\n",
       "      <td>IndiGo's CEO Ronojoy Dutta said the airline made \"the best possible decision\" by barring a differently-abled teenager and his family from boarding a Ranchi-Hyderabad flight. \"At boarding area, the teenager was visibly in panic...the airport staff, in line with safety guidelines, were forced to make a difficult decision,\" Dutta said. IndiGo offered to purchase an electric wheelchair for the child.</td>\n",
       "      <td>Pragya Swastik</td>\n",
       "      <td>2022-05-09T09:50:34.000Z</td>\n",
       "    </tr>\n",
       "    <tr>\n",
       "      <th>4</th>\n",
       "      <td>business</td>\n",
       "      <td>India's biggest IPO of LIC subscribed nearly 3 times on final day of bidding</td>\n",
       "      <td>LIC's IPO, India's biggest IPO which opened on May 4 and closed on May 9, was subscribed 2.95 times on Monday. Expected to raise ₹20,557 crore, the IPO received bids for 47.83 crore equity shares against the IPO size of 16.2 crore shares. The policyholders' portion was subscribed 6.11 times, employees bid 4.39 times and retail investors bid 1.99 times.\\n\\n</td>\n",
       "      <td>Pragya Swastik</td>\n",
       "      <td>2022-05-09T14:10:38.000Z</td>\n",
       "    </tr>\n",
       "  </tbody>\n",
       "</table></div>"
      ],
      "text/plain": [
       "   category                                              title  \\\n",
       "0  business  Rupee hits all-time low of 77.42 against US do...   \n",
       "1  business  Bitcoin falls to the lowest level since Januar...   \n",
       "2  business  Rupee closes at all-time low of 77.50 against ...   \n",
       "3  business  Made best possible decision: IndiGo on barring...   \n",
       "4  business  India's biggest IPO of LIC subscribed nearly 3...   \n",
       "\n",
       "                                             content          author  \\\n",
       "0  The Indian rupee fell to an all-time low of 77...    Apaar Sharma   \n",
       "1  Bitcoin fell on Monday to as low as $33,266 in...  Pragya Swastik   \n",
       "2  The Indian rupee weakened further on Monday to...  Pragya Swastik   \n",
       "3  IndiGo's CEO Ronojoy Dutta said the airline ma...  Pragya Swastik   \n",
       "4  LIC's IPO, India's biggest IPO which opened on...  Pragya Swastik   \n",
       "\n",
       "                  published  \n",
       "0  2022-05-09T05:05:31.000Z  \n",
       "1  2022-05-09T09:20:34.000Z  \n",
       "2  2022-05-09T15:27:43.000Z  \n",
       "3  2022-05-09T09:50:34.000Z  \n",
       "4  2022-05-09T14:10:38.000Z  "
      ]
     },
     "execution_count": 17,
     "metadata": {},
     "output_type": "execute_result"
    }
   ],
   "source": [
    "df.head()"
   ]
  },
  {
   "cell_type": "markdown",
   "id": "ec47dc9c-81d4-4049-93a7-05a6c408749b",
   "metadata": {},
   "source": [
    "***\n",
    "***\n",
    "***"
   ]
  },
  {
   "cell_type": "code",
   "execution_count": 6,
   "id": "17adedb0-7374-4fd5-ae91-6770c2b58d17",
   "metadata": {},
   "outputs": [],
   "source": [
    "# Zach's solutions to the first problem:\n",
    "\n",
    "def get_blog_article_urls():\n",
    "    headers = {'user-agent': 'Innis Codeup Data Science'}\n",
    "    response = requests.get('https://codeup.com/blog/', headers=headers)\n",
    "    soup = BeautifulSoup(response.text)\n",
    "    urls = [a.attrs['href'] for a in soup.select('a.more-link')]\n",
    "    return urls\n",
    "\n",
    "def parse_blog_article(soup):\n",
    "    return {\n",
    "        'title': soup.select_one('h1.entry-title').text,\n",
    "        'published': soup.select_one('.published').text,\n",
    "        'content': soup.select_one('.entry-content').text.strip(),\n",
    "    }\n",
    "\n",
    "def get_blog_articles(use_cache=True):\n",
    "    if os.path.exists('codeup_blog_articles.json') and use_cache:\n",
    "        return pd.read_json('codeup_blog_articles.json')\n",
    "\n",
    "    urls = get_blog_article_urls()\n",
    "    articles = []\n",
    "\n",
    "    for url in urls:\n",
    "        print(f'fetching {url}')\n",
    "        response = requests.get(url, headers=headers)\n",
    "        soup = BeautifulSoup(response.text)\n",
    "        articles.append(parse_blog_article(soup))\n",
    "\n",
    "    df = pd.DataFrame(articles)\n",
    "    df.to_json('codeup_blog_articles.json', orient='records')\n",
    "    return df"
   ]
  },
  {
   "cell_type": "code",
   "execution_count": null,
   "id": "c11159e5-928e-472a-a380-e83a39a174bc",
   "metadata": {},
   "outputs": [],
   "source": []
  }
 ],
 "metadata": {
  "kernelspec": {
   "display_name": "Python 3 (ipykernel)",
   "language": "python",
   "name": "python3"
  },
  "language_info": {
   "codemirror_mode": {
    "name": "ipython",
    "version": 3
   },
   "file_extension": ".py",
   "mimetype": "text/x-python",
   "name": "python",
   "nbconvert_exporter": "python",
   "pygments_lexer": "ipython3",
   "version": "3.9.7"
  }
 },
 "nbformat": 4,
 "nbformat_minor": 5
}
