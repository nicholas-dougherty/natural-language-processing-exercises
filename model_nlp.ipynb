{
 "cells": [
  {
   "cell_type": "markdown",
   "id": "a659e959-a5bd-4528-87e2-cfcb38642d5a",
   "metadata": {},
   "source": [
    "# Modeling NLP Exercises\n",
    "\n",
    "- What other types of models (i.e. different classifcation algorithms) could you use?\n",
    "- How do the models compare when trained on term frequency data alone, instead of TF-IDF values?\n",
    "- Try other model types\n",
    "\n",
    "    [Naive Bayes](https://en.wikipedia.org/wiki/Naive_Bayes_classifier)\n",
    "    ([`sklearn`\n",
    "    docs](https://scikit-learn.org/stable/modules/generated/sklearn.naive_bayes.MultinomialNB.html))\n",
    "    is a very popular classifier for NLP tasks.\n",
    "    - Model Types to try\n",
    "        - SVM\n",
    "        - XGboost\n",
    "        - Random forrest\n",
    "    \n",
    "\n",
    "- Look at other metrics, is accuracy the best choice here?\n",
    "\n",
    "- Try ngrams instead of single words\n",
    "\n",
    "- Try a combination of ngrams and words (`ngram_range=(1, 2)` for words and\n",
    "  bigrams)\n",
    "\n",
    "- Try using tf-idf instead of bag of words\n",
    "\n",
    "- Combine the top `n` performing words with the other features that you have\n",
    "  engineered (the `CountVectorizer` and `TfidfVectorizer` have a `vocabulary`\n",
    "  argument you can use to restrict the words used)\n",
    "\n",
    "    ```python\n",
    "    best_words = (\n",
    "        # or, e.g. lm.coef_\n",
    "        pd.Series(dict(zip(cv.get_feature_names(), tree.feature_importances_)))\n",
    "        .sort_values()\n",
    "        .tail(5)\n",
    "        .index\n",
    "    )\n",
    "\n",
    "    cv = CountVectorizer(vocabulary=best_words)\n",
    "    X = cv.fit_transform(df.text.apply(clean).apply(' '.join))\n",
    "\n",
    "    # for demonstration\n",
    "    pd.DataFrame(X.todense(), columns=cv.get_feature_names())\n",
    "    ```"
   ]
  },
  {
   "cell_type": "code",
   "execution_count": 89,
   "id": "ee499250-6b42-4ab1-b151-ca5cf8c0b1bb",
   "metadata": {},
   "outputs": [],
   "source": [
    "import pandas as pd\n",
    "import numpy as np\n",
    "import nltk\n",
    "import re\n",
    "from pprint import pprint\n",
    "\n",
    "# imports for NLP extraction\n",
    "from sklearn.feature_extraction.text import CountVectorizer, TfidfVectorizer\n",
    "from sklearn.feature_extraction.text import TfidfVectorizer\n",
    "\n",
    "# imports for modeling\n",
    "from sklearn.model_selection import train_test_split\n",
    "from sklearn.tree import DecisionTreeClassifier\n",
    "from sklearn.naive_bayes import MultinomialNB\n",
    "from sklearn.ensemble import RandomForestClassifier\n",
    "from sklearn.naive_bayes import MultinomialNB\n",
    "from sklearn.svm import LinearSVC"
   ]
  },
  {
   "cell_type": "markdown",
   "id": "2992047b-a4ea-4800-812d-3148aa4ea957",
   "metadata": {},
   "source": [
    "## Set up mini example from the Lesson"
   ]
  },
  {
   "cell_type": "code",
   "execution_count": 10,
   "id": "63789084-da79-41dd-81d1-c777f12c6b5d",
   "metadata": {},
   "outputs": [],
   "source": [
    "def clean(text: str) -> list:\n",
    "    'A simple function to cleanup text data'\n",
    "    wnl = nltk.stem.WordNetLemmatizer()\n",
    "    stopwords = set(nltk.corpus.stopwords.words('english'))\n",
    "    text = (text.encode('ascii', 'ignore')\n",
    "             .decode('utf-8', 'ignore')\n",
    "             .lower())\n",
    "    words = re.sub(r'[^\\w\\s]', '', text).split() # tokenization\n",
    "    return [wnl.lemmatize(word) for word in words if word not in stopwords]"
   ]
  },
  {
   "cell_type": "markdown",
   "id": "8e72cd4e-d8bd-4b28-8d80-f617b77821a4",
   "metadata": {},
   "source": [
    "## Data Representation\n",
    "\n",
    "Simple data for demonstration."
   ]
  },
  {
   "cell_type": "code",
   "execution_count": 11,
   "id": "fa051e2a-39d6-4df6-8edb-10dbbbb55b93",
   "metadata": {},
   "outputs": [],
   "source": [
    "data = [\n",
    "    'Python is pretty cool',\n",
    "    'Python is a nice programming language with nice syntax',\n",
    "    'I think SQL is cool too',\n",
    "]"
   ]
  },
  {
   "cell_type": "markdown",
   "id": "8e6e39cd-2904-4b1b-9660-1ebfdaf85c3d",
   "metadata": {},
   "source": [
    "### Bag of Words"
   ]
  },
  {
   "cell_type": "code",
   "execution_count": 12,
   "id": "2e05daff-0250-4bd0-a89b-dcbca19830b5",
   "metadata": {},
   "outputs": [
    {
     "data": {
      "text/plain": [
       "<3x12 sparse matrix of type '<class 'numpy.int64'>'\n",
       "\twith 16 stored elements in Compressed Sparse Row format>"
      ]
     },
     "execution_count": 12,
     "metadata": {},
     "output_type": "execute_result"
    }
   ],
   "source": [
    "cv = CountVectorizer()\n",
    "bag_of_words = cv.fit_transform(data)\n",
    "bag_of_words"
   ]
  },
  {
   "cell_type": "markdown",
   "id": "0f6da4b3-74c6-4d6b-9ef8-e504abb5d245",
   "metadata": {},
   "source": [
    "### TF-IDF\n",
    "\n",
    "- a measure that helps identify how important a word is in a document\n",
    "- combination of how often a word appears in a document (**tf**) and how unqiue the word\n",
    "  is among documents (**idf**)\n",
    "- used by search engines\n",
    "- naturally helps filter out stopwords\n",
    "- tf is for a single document, idf is for a corpus\n",
    "\n",
    "TF - Term Frequency\n",
    "\n",
    "IDF - Inverse Document Frequency"
   ]
  },
  {
   "cell_type": "code",
   "execution_count": 13,
   "id": "4312b819-6110-49e1-8acd-20fefe317082",
   "metadata": {},
   "outputs": [
    {
     "name": "stdout",
     "output_type": "stream",
     "text": [
      "['Python is pretty cool',\n",
      " 'Python is a nice programming language with nice syntax',\n",
      " 'I think SQL is cool too']\n"
     ]
    },
    {
     "data": {
      "text/html": [
       "<div>\n",
       "<style scoped>\n",
       "    .dataframe tbody tr th:only-of-type {\n",
       "        vertical-align: middle;\n",
       "    }\n",
       "\n",
       "    .dataframe tbody tr th {\n",
       "        vertical-align: top;\n",
       "    }\n",
       "\n",
       "    .dataframe thead th {\n",
       "        text-align: right;\n",
       "    }\n",
       "</style>\n",
       "<table border=\"1\" class=\"dataframe\">\n",
       "  <thead>\n",
       "    <tr style=\"text-align: right;\">\n",
       "      <th></th>\n",
       "      <th>cool</th>\n",
       "      <th>is</th>\n",
       "      <th>language</th>\n",
       "      <th>nice</th>\n",
       "      <th>pretty</th>\n",
       "      <th>programming</th>\n",
       "      <th>python</th>\n",
       "      <th>sql</th>\n",
       "      <th>syntax</th>\n",
       "      <th>think</th>\n",
       "      <th>too</th>\n",
       "      <th>with</th>\n",
       "    </tr>\n",
       "  </thead>\n",
       "  <tbody>\n",
       "    <tr>\n",
       "      <th>0</th>\n",
       "      <td>0.480458</td>\n",
       "      <td>0.373119</td>\n",
       "      <td>0.000000</td>\n",
       "      <td>0.000000</td>\n",
       "      <td>0.631745</td>\n",
       "      <td>0.000000</td>\n",
       "      <td>0.480458</td>\n",
       "      <td>0.000000</td>\n",
       "      <td>0.000000</td>\n",
       "      <td>0.000000</td>\n",
       "      <td>0.000000</td>\n",
       "      <td>0.000000</td>\n",
       "    </tr>\n",
       "    <tr>\n",
       "      <th>1</th>\n",
       "      <td>0.000000</td>\n",
       "      <td>0.197673</td>\n",
       "      <td>0.334689</td>\n",
       "      <td>0.669378</td>\n",
       "      <td>0.000000</td>\n",
       "      <td>0.334689</td>\n",
       "      <td>0.254540</td>\n",
       "      <td>0.000000</td>\n",
       "      <td>0.334689</td>\n",
       "      <td>0.000000</td>\n",
       "      <td>0.000000</td>\n",
       "      <td>0.334689</td>\n",
       "    </tr>\n",
       "    <tr>\n",
       "      <th>2</th>\n",
       "      <td>0.383770</td>\n",
       "      <td>0.298032</td>\n",
       "      <td>0.000000</td>\n",
       "      <td>0.000000</td>\n",
       "      <td>0.000000</td>\n",
       "      <td>0.000000</td>\n",
       "      <td>0.000000</td>\n",
       "      <td>0.504611</td>\n",
       "      <td>0.000000</td>\n",
       "      <td>0.504611</td>\n",
       "      <td>0.504611</td>\n",
       "      <td>0.000000</td>\n",
       "    </tr>\n",
       "  </tbody>\n",
       "</table>\n",
       "</div>"
      ],
      "text/plain": [
       "       cool        is  language      nice    pretty  programming    python  \\\n",
       "0  0.480458  0.373119  0.000000  0.000000  0.631745     0.000000  0.480458   \n",
       "1  0.000000  0.197673  0.334689  0.669378  0.000000     0.334689  0.254540   \n",
       "2  0.383770  0.298032  0.000000  0.000000  0.000000     0.000000  0.000000   \n",
       "\n",
       "        sql    syntax     think       too      with  \n",
       "0  0.000000  0.000000  0.000000  0.000000  0.000000  \n",
       "1  0.000000  0.334689  0.000000  0.000000  0.334689  \n",
       "2  0.504611  0.000000  0.504611  0.504611  0.000000  "
      ]
     },
     "execution_count": 13,
     "metadata": {},
     "output_type": "execute_result"
    }
   ],
   "source": [
    "tfidf = TfidfVectorizer()\n",
    "tfidfs = tfidf.fit_transform(data)\n",
    "\n",
    "pprint(data)\n",
    "pd.DataFrame(tfidfs.todense(), columns=tfidf.get_feature_names())"
   ]
  },
  {
   "cell_type": "markdown",
   "id": "84f9dabb-bba7-4963-b5d9-87c93f48dc64",
   "metadata": {},
   "source": [
    "### Bag Of Ngrams\n",
    "\n",
    "For either `CountVectorizer` or `TfidfVectorizer`, you can set the `ngram_range`\n",
    "parameter."
   ]
  },
  {
   "cell_type": "code",
   "execution_count": 14,
   "id": "549df877-524d-4307-9145-7d284210c8cb",
   "metadata": {},
   "outputs": [],
   "source": [
    "cv = CountVectorizer(ngram_range=(2, 2))\n",
    "bag_of_words = cv.fit_transform(data)"
   ]
  },
  {
   "cell_type": "code",
   "execution_count": 15,
   "id": "b6d85745-371a-4c38-b434-4195e0cbcab9",
   "metadata": {},
   "outputs": [
    {
     "name": "stdout",
     "output_type": "stream",
     "text": [
      "['Python is pretty cool',\n",
      " 'Python is a nice programming language with nice syntax',\n",
      " 'I think SQL is cool too']\n"
     ]
    },
    {
     "data": {
      "text/html": [
       "<div>\n",
       "<style scoped>\n",
       "    .dataframe tbody tr th:only-of-type {\n",
       "        vertical-align: middle;\n",
       "    }\n",
       "\n",
       "    .dataframe tbody tr th {\n",
       "        vertical-align: top;\n",
       "    }\n",
       "\n",
       "    .dataframe thead th {\n",
       "        text-align: right;\n",
       "    }\n",
       "</style>\n",
       "<table border=\"1\" class=\"dataframe\">\n",
       "  <thead>\n",
       "    <tr style=\"text-align: right;\">\n",
       "      <th></th>\n",
       "      <th>cool too</th>\n",
       "      <th>is cool</th>\n",
       "      <th>is nice</th>\n",
       "      <th>is pretty</th>\n",
       "      <th>language with</th>\n",
       "      <th>nice programming</th>\n",
       "      <th>nice syntax</th>\n",
       "      <th>pretty cool</th>\n",
       "      <th>programming language</th>\n",
       "      <th>python is</th>\n",
       "      <th>sql is</th>\n",
       "      <th>think sql</th>\n",
       "      <th>with nice</th>\n",
       "    </tr>\n",
       "  </thead>\n",
       "  <tbody>\n",
       "    <tr>\n",
       "      <th>0</th>\n",
       "      <td>0</td>\n",
       "      <td>0</td>\n",
       "      <td>0</td>\n",
       "      <td>1</td>\n",
       "      <td>0</td>\n",
       "      <td>0</td>\n",
       "      <td>0</td>\n",
       "      <td>1</td>\n",
       "      <td>0</td>\n",
       "      <td>1</td>\n",
       "      <td>0</td>\n",
       "      <td>0</td>\n",
       "      <td>0</td>\n",
       "    </tr>\n",
       "    <tr>\n",
       "      <th>1</th>\n",
       "      <td>0</td>\n",
       "      <td>0</td>\n",
       "      <td>1</td>\n",
       "      <td>0</td>\n",
       "      <td>1</td>\n",
       "      <td>1</td>\n",
       "      <td>1</td>\n",
       "      <td>0</td>\n",
       "      <td>1</td>\n",
       "      <td>1</td>\n",
       "      <td>0</td>\n",
       "      <td>0</td>\n",
       "      <td>1</td>\n",
       "    </tr>\n",
       "    <tr>\n",
       "      <th>2</th>\n",
       "      <td>1</td>\n",
       "      <td>1</td>\n",
       "      <td>0</td>\n",
       "      <td>0</td>\n",
       "      <td>0</td>\n",
       "      <td>0</td>\n",
       "      <td>0</td>\n",
       "      <td>0</td>\n",
       "      <td>0</td>\n",
       "      <td>0</td>\n",
       "      <td>1</td>\n",
       "      <td>1</td>\n",
       "      <td>0</td>\n",
       "    </tr>\n",
       "  </tbody>\n",
       "</table>\n",
       "</div>"
      ],
      "text/plain": [
       "   cool too  is cool  is nice  is pretty  language with  nice programming  \\\n",
       "0         0        0        0          1              0                 0   \n",
       "1         0        0        1          0              1                 1   \n",
       "2         1        1        0          0              0                 0   \n",
       "\n",
       "   nice syntax  pretty cool  programming language  python is  sql is  \\\n",
       "0            0            1                     0          1       0   \n",
       "1            1            0                     1          1       0   \n",
       "2            0            0                     0          0       1   \n",
       "\n",
       "   think sql  with nice  \n",
       "0          0          0  \n",
       "1          0          1  \n",
       "2          1          0  "
      ]
     },
     "execution_count": 15,
     "metadata": {},
     "output_type": "execute_result"
    }
   ],
   "source": [
    "pprint(data)\n",
    "pd.DataFrame(bag_of_words.todense(), columns=cv.get_feature_names())"
   ]
  },
  {
   "cell_type": "code",
   "execution_count": 18,
   "id": "934dc534-ecd7-4509-a474-21343515f9ce",
   "metadata": {},
   "outputs": [],
   "source": [
    "# changing the n_gram range, First number is the lowest amount of ngrams\n",
    "# second is the highest\n",
    "cv = CountVectorizer(ngram_range=(1, 3))\n",
    "bag_of_words = cv.fit_transform(data)"
   ]
  },
  {
   "cell_type": "code",
   "execution_count": 17,
   "id": "7695def9-a167-4e29-a82b-7731f9194994",
   "metadata": {},
   "outputs": [
    {
     "name": "stdout",
     "output_type": "stream",
     "text": [
      "['Python is pretty cool',\n",
      " 'Python is a nice programming language with nice syntax',\n",
      " 'I think SQL is cool too']\n"
     ]
    },
    {
     "data": {
      "text/html": [
       "<div>\n",
       "<style scoped>\n",
       "    .dataframe tbody tr th:only-of-type {\n",
       "        vertical-align: middle;\n",
       "    }\n",
       "\n",
       "    .dataframe tbody tr th {\n",
       "        vertical-align: top;\n",
       "    }\n",
       "\n",
       "    .dataframe thead th {\n",
       "        text-align: right;\n",
       "    }\n",
       "</style>\n",
       "<table border=\"1\" class=\"dataframe\">\n",
       "  <thead>\n",
       "    <tr style=\"text-align: right;\">\n",
       "      <th></th>\n",
       "      <th>cool</th>\n",
       "      <th>cool too</th>\n",
       "      <th>is</th>\n",
       "      <th>is cool</th>\n",
       "      <th>is nice</th>\n",
       "      <th>is pretty</th>\n",
       "      <th>language</th>\n",
       "      <th>language with</th>\n",
       "      <th>nice</th>\n",
       "      <th>nice programming</th>\n",
       "      <th>...</th>\n",
       "      <th>python</th>\n",
       "      <th>python is</th>\n",
       "      <th>sql</th>\n",
       "      <th>sql is</th>\n",
       "      <th>syntax</th>\n",
       "      <th>think</th>\n",
       "      <th>think sql</th>\n",
       "      <th>too</th>\n",
       "      <th>with</th>\n",
       "      <th>with nice</th>\n",
       "    </tr>\n",
       "  </thead>\n",
       "  <tbody>\n",
       "    <tr>\n",
       "      <th>0</th>\n",
       "      <td>1</td>\n",
       "      <td>0</td>\n",
       "      <td>1</td>\n",
       "      <td>0</td>\n",
       "      <td>0</td>\n",
       "      <td>1</td>\n",
       "      <td>0</td>\n",
       "      <td>0</td>\n",
       "      <td>0</td>\n",
       "      <td>0</td>\n",
       "      <td>...</td>\n",
       "      <td>1</td>\n",
       "      <td>1</td>\n",
       "      <td>0</td>\n",
       "      <td>0</td>\n",
       "      <td>0</td>\n",
       "      <td>0</td>\n",
       "      <td>0</td>\n",
       "      <td>0</td>\n",
       "      <td>0</td>\n",
       "      <td>0</td>\n",
       "    </tr>\n",
       "    <tr>\n",
       "      <th>1</th>\n",
       "      <td>0</td>\n",
       "      <td>0</td>\n",
       "      <td>1</td>\n",
       "      <td>0</td>\n",
       "      <td>1</td>\n",
       "      <td>0</td>\n",
       "      <td>1</td>\n",
       "      <td>1</td>\n",
       "      <td>2</td>\n",
       "      <td>1</td>\n",
       "      <td>...</td>\n",
       "      <td>1</td>\n",
       "      <td>1</td>\n",
       "      <td>0</td>\n",
       "      <td>0</td>\n",
       "      <td>1</td>\n",
       "      <td>0</td>\n",
       "      <td>0</td>\n",
       "      <td>0</td>\n",
       "      <td>1</td>\n",
       "      <td>1</td>\n",
       "    </tr>\n",
       "    <tr>\n",
       "      <th>2</th>\n",
       "      <td>1</td>\n",
       "      <td>1</td>\n",
       "      <td>1</td>\n",
       "      <td>1</td>\n",
       "      <td>0</td>\n",
       "      <td>0</td>\n",
       "      <td>0</td>\n",
       "      <td>0</td>\n",
       "      <td>0</td>\n",
       "      <td>0</td>\n",
       "      <td>...</td>\n",
       "      <td>0</td>\n",
       "      <td>0</td>\n",
       "      <td>1</td>\n",
       "      <td>1</td>\n",
       "      <td>0</td>\n",
       "      <td>1</td>\n",
       "      <td>1</td>\n",
       "      <td>1</td>\n",
       "      <td>0</td>\n",
       "      <td>0</td>\n",
       "    </tr>\n",
       "  </tbody>\n",
       "</table>\n",
       "<p>3 rows × 25 columns</p>\n",
       "</div>"
      ],
      "text/plain": [
       "   cool  cool too  is  is cool  is nice  is pretty  language  language with  \\\n",
       "0     1         0   1        0        0          1         0              0   \n",
       "1     0         0   1        0        1          0         1              1   \n",
       "2     1         1   1        1        0          0         0              0   \n",
       "\n",
       "   nice  nice programming  ...  python  python is  sql  sql is  syntax  think  \\\n",
       "0     0                 0  ...       1          1    0       0       0      0   \n",
       "1     2                 1  ...       1          1    0       0       1      0   \n",
       "2     0                 0  ...       0          0    1       1       0      1   \n",
       "\n",
       "   think sql  too  with  with nice  \n",
       "0          0    0     0          0  \n",
       "1          0    0     1          1  \n",
       "2          1    1     0          0  \n",
       "\n",
       "[3 rows x 25 columns]"
      ]
     },
     "execution_count": 17,
     "metadata": {},
     "output_type": "execute_result"
    }
   ],
   "source": [
    "pprint(data)\n",
    "pd.DataFrame(bag_of_words.todense(), columns=cv.get_feature_names())"
   ]
  },
  {
   "cell_type": "markdown",
   "id": "05c3924a-41e7-4813-a2b8-630c3804faa1",
   "metadata": {},
   "source": [
    "## Spam setup from Lesson"
   ]
  },
  {
   "cell_type": "code",
   "execution_count": 19,
   "id": "bbe1fe5b-9f91-43a1-98e6-9303c839bd3c",
   "metadata": {},
   "outputs": [],
   "source": [
    "df = pd.read_csv('spam_clean.csv')"
   ]
  },
  {
   "cell_type": "code",
   "execution_count": 20,
   "id": "f7a40af1-3e54-4bc2-b198-4d34c0195626",
   "metadata": {},
   "outputs": [
    {
     "data": {
      "text/plain": [
       "0.9306708548350908"
      ]
     },
     "execution_count": 20,
     "metadata": {},
     "output_type": "execute_result"
    }
   ],
   "source": [
    "cv = CountVectorizer()\n",
    "X = cv.fit_transform(df.text.apply(clean).apply(' '.join))\n",
    "y = df.label\n",
    "\n",
    "# only a 2 split here\n",
    "X_train, X_test, y_train, y_test = train_test_split(X, y, test_size=.2, random_state=12)\n",
    "\n",
    "tree = DecisionTreeClassifier(max_depth=5)\n",
    "tree.fit(X_train, y_train)\n",
    "\n",
    "tree.score(X_train, y_train)"
   ]
  },
  {
   "cell_type": "code",
   "execution_count": 21,
   "id": "b45f6ae8-3c14-4422-b24a-85a47773f49d",
   "metadata": {},
   "outputs": [
    {
     "data": {
      "text/plain": [
       "0.9147982062780269"
      ]
     },
     "execution_count": 21,
     "metadata": {},
     "output_type": "execute_result"
    }
   ],
   "source": [
    "tree.score(X_test, y_test)"
   ]
  },
  {
   "cell_type": "code",
   "execution_count": 64,
   "id": "03e92cdf-44ff-412c-9e87-4034c9a95317",
   "metadata": {},
   "outputs": [],
   "source": [
    "# import splitting functions for data set \n",
    "import acquire as a\n",
    "import prepare as p\n",
    "\n",
    "def banana_split(df):\n",
    "    '''\n",
    "    args: df\n",
    "    This function takes in a dataframe and splits it into\n",
    "    Train Validate and test dataframes\n",
    "    Returns train, validate, and test dfs.\n",
    "    '''\n",
    "    train_validate, test = train_test_split(df, test_size=.2, \n",
    "                                        random_state=713)\n",
    "    train, validate = train_test_split(train_validate, test_size=.3, \n",
    "                                   random_state=713)\n",
    "    print(f'train --> {train.shape}')\n",
    "    print(f'validate --> {validate.shape}')\n",
    "    print(f'test --> {test.shape}')\n",
    "    return train, validate, test\n",
    "\n",
    "def all_aboard_the_X_train(X_cols, y_col, train, validate, test):\n",
    "    '''\n",
    "    X_cols = list of column names you want as your features\n",
    "    y_col = string that is the name of your target column\n",
    "    train = the name of your train dataframe\n",
    "    validate = the name of your validate dataframe\n",
    "    test = the name of your test dataframe\n",
    "    outputs X_train and y_train, X_validate and y_validate, and X_test and y_test\n",
    "    6 variables come out! So have that ready\n",
    "    '''\n",
    "    \n",
    "    # do the capital X lowercase y thing for train test and split\n",
    "    # X is the data frame of the features, y is a series of the target\n",
    "    X_train, y_train = train[X_cols], train[y_col]\n",
    "    X_validate, y_validate = validate[X_cols], validate[y_col]\n",
    "    X_test, y_test = test[X_cols], test[y_col]\n",
    "    \n",
    "    return X_train, y_train, X_validate, y_validate, X_test, y_test\n",
    "\n",
    "\n",
    "\n",
    "def nlp_X_train_split(X_data, y_data):\n",
    "    '''\n",
    "    This function is designed for splitting data during an NLP pipeline\n",
    "    It takes in the X_data (already transformed by your Vectorizer)\n",
    "    y_data (target)\n",
    "    And performs a train validate test X/y split (FOR MODELING NOT EXPLORATION)\n",
    "    This is a one shot for doing train validate test and x/y split in one go\n",
    "    \n",
    "    Test is 20% of the original dataset, validate is .30*.80= 24% of the \n",
    "    original dataset, and train is .70*.80= 56% of the original dataset. \n",
    "    \n",
    "    Returns 6 dfs: X_train, y_train, X_validate, y_validate, X_test, y_test\n",
    "    '''\n",
    "    X_train_validate, X_test, y_train_validate, y_test = train_test_split(X_data, y_data, \n",
    "                                                                          stratify = y_data, \n",
    "                                                                          test_size=.2, random_state=713)\n",
    "    \n",
    "    X_train, X_validate, y_train, y_validate = train_test_split(X_train_validate, y_train_validate, \n",
    "                                                                stratify = y_train_validate, \n",
    "                                                                test_size=.3, \n",
    "                                                                random_state=713)\n",
    "    \n",
    "    return X_train, y_train, X_validate, y_validate, X_test, y_test"
   ]
  },
  {
   "cell_type": "code",
   "execution_count": 27,
   "id": "2a23eb00-b89d-4f5f-a7ff-fedd721be442",
   "metadata": {},
   "outputs": [],
   "source": [
    "# prep dataframe \n",
    "df = p.prep_nlp(df, content = 'text')"
   ]
  },
  {
   "cell_type": "markdown",
   "id": "de730b14-5a91-48d7-8145-5161155aade2",
   "metadata": {},
   "source": [
    "### X and Y Setup\n",
    "- To set up X and y we need to chose a count vectorizer of some sort \n",
    "\n",
    "```python\n",
    "cv = CountVectorizer() # bag of words\n",
    "cv = CountVectorizer(ngram_range=(2, 3)) # bag of ngrams (range sets up how many words) this is bi and tri grams\n",
    "tfidf = TfidfVectorizer() # TF - IDF \n",
    "```\n",
    "\n",
    "- Then we have to fit on the entire dataset \n",
    "    - unlike before this is just transforming the data so it's all the same\n",
    "    - we're not leaking any data\n",
    "- Create the X and y sets split into Train, validate and Test, then X_train, y_train and all that \n",
    "    - STRATIFY on y (this will be classification) "
   ]
  },
  {
   "cell_type": "code",
   "execution_count": 42,
   "id": "776e6f81-6520-4762-bc62-314485f07e65",
   "metadata": {},
   "outputs": [],
   "source": [
    "# set up X and y\n",
    "\n",
    "tfidf = TfidfVectorizer()\n",
    "\n",
    "X_data = tfidf.fit_transform(df.lemmatized)\n",
    "\n",
    "y_data = df.label"
   ]
  },
  {
   "cell_type": "code",
   "execution_count": 65,
   "id": "d20d2995-2f3b-49b0-8f1d-12949112b802",
   "metadata": {},
   "outputs": [],
   "source": [
    "# use function from above (need to put in a module)\n",
    "# split to X/y datasets \n",
    "\n",
    "X_train, y_train, X_validate, y_validate, X_test, y_test = nlp_X_train_split(X_data, y_data)"
   ]
  },
  {
   "cell_type": "code",
   "execution_count": 76,
   "id": "5cce8421-4587-4fbc-889a-33edc017b696",
   "metadata": {},
   "outputs": [
    {
     "data": {
      "text/plain": [
       "0.9715994020926756"
      ]
     },
     "execution_count": 76,
     "metadata": {},
     "output_type": "execute_result"
    }
   ],
   "source": [
    "# Fit on Train\n",
    "\n",
    "rforest = RandomForestClassifier()\n",
    "\n",
    "rforest.fit(X_train, y_train)\n",
    "\n",
    "# Check with Validate\n",
    "\n",
    "rforest.score(X_validate, y_validate)"
   ]
  },
  {
   "cell_type": "markdown",
   "id": "1c9ba485-04d0-4b12-b1a1-c9ea51f22520",
   "metadata": {},
   "source": [
    "### Creating the Models"
   ]
  },
  {
   "cell_type": "code",
   "execution_count": 104,
   "id": "66bfc3e9-549e-48d3-b7c0-21b9d62976ab",
   "metadata": {},
   "outputs": [],
   "source": [
    "def test_a_model(X_train, y_train, X_validate, y_validate, model, model_name, score_df):\n",
    "    '''\n",
    "    Function takes in X and y train\n",
    "    X and y validate (or test) \n",
    "    A model with it's hyper parameters\n",
    "    And a df to store the scores \n",
    "    '''\n",
    "    this_model = model\n",
    "\n",
    "    this_model.fit(X_train, y_train)\n",
    "\n",
    "    # Check with Validate\n",
    "\n",
    "    train_score = this_model.score(X_train, y_train)\n",
    "    \n",
    "    validate_score = this_model.score(X_validate, y_validate)\n",
    "    \n",
    "    model_dict = {'model_name': model_name, \n",
    "                  'train_score': train_score, \n",
    "                  'validate_score':validate_score}\n",
    "    score_df = score_df.append(model_dict, ignore_index = True)\n",
    "    \n",
    "    return score_df"
   ]
  },
  {
   "cell_type": "code",
   "execution_count": 109,
   "id": "c8247bee-9c45-457d-858b-9a42aaa6abaa",
   "metadata": {},
   "outputs": [],
   "source": [
    "# set up the dataframe for the function\n",
    "score_df = pd.DataFrame(columns = ['model_name', 'train_score', 'validate_score'])"
   ]
  },
  {
   "cell_type": "markdown",
   "id": "9cb7d962-6e2a-4c02-8ec9-6316bcf28cc9",
   "metadata": {},
   "source": [
    "- DecisionTreeClassifier\n",
    "- MultinomialNB\n",
    "- RandomForestClassifier\n",
    "- LinearSVC"
   ]
  },
  {
   "cell_type": "code",
   "execution_count": 110,
   "id": "bbdd5d52-1565-4d9e-b6bd-ad5b730ac208",
   "metadata": {},
   "outputs": [],
   "source": [
    "model_list = [MultinomialNB(), LinearSVC(), DecisionTreeClassifier(), RandomForestClassifier()]\n",
    "\n",
    "model_names = ['Naive_Bayes1', 'SVC1', 'Decision_tree1', 'Random_forest1']"
   ]
  },
  {
   "cell_type": "code",
   "execution_count": 111,
   "id": "90b48562-4333-40e5-a0a5-33f392d7ac09",
   "metadata": {},
   "outputs": [],
   "source": [
    "for model, name in zip(model_list, model_names):\n",
    "    score_df = test_a_model(X_train, y_train, X_validate, y_validate, model, name, score_df)"
   ]
  },
  {
   "cell_type": "code",
   "execution_count": 112,
   "id": "4b70defd-6055-46c3-ac7b-1954429d4372",
   "metadata": {},
   "outputs": [
    {
     "data": {
      "text/html": [
       "<div>\n",
       "<style scoped>\n",
       "    .dataframe tbody tr th:only-of-type {\n",
       "        vertical-align: middle;\n",
       "    }\n",
       "\n",
       "    .dataframe tbody tr th {\n",
       "        vertical-align: top;\n",
       "    }\n",
       "\n",
       "    .dataframe thead th {\n",
       "        text-align: right;\n",
       "    }\n",
       "</style>\n",
       "<table border=\"1\" class=\"dataframe\">\n",
       "  <thead>\n",
       "    <tr style=\"text-align: right;\">\n",
       "      <th></th>\n",
       "      <th>model_name</th>\n",
       "      <th>train_score</th>\n",
       "      <th>validate_score</th>\n",
       "    </tr>\n",
       "  </thead>\n",
       "  <tbody>\n",
       "    <tr>\n",
       "      <th>0</th>\n",
       "      <td>Naive_Bayes1</td>\n",
       "      <td>0.964732</td>\n",
       "      <td>0.942451</td>\n",
       "    </tr>\n",
       "    <tr>\n",
       "      <th>1</th>\n",
       "      <td>SVC1</td>\n",
       "      <td>0.999679</td>\n",
       "      <td>0.975336</td>\n",
       "    </tr>\n",
       "    <tr>\n",
       "      <th>2</th>\n",
       "      <td>Decision_tree1</td>\n",
       "      <td>1.000000</td>\n",
       "      <td>0.957399</td>\n",
       "    </tr>\n",
       "    <tr>\n",
       "      <th>3</th>\n",
       "      <td>Random_forest1</td>\n",
       "      <td>1.000000</td>\n",
       "      <td>0.968610</td>\n",
       "    </tr>\n",
       "  </tbody>\n",
       "</table>\n",
       "</div>"
      ],
      "text/plain": [
       "       model_name  train_score  validate_score\n",
       "0    Naive_Bayes1     0.964732        0.942451\n",
       "1            SVC1     0.999679        0.975336\n",
       "2  Decision_tree1     1.000000        0.957399\n",
       "3  Random_forest1     1.000000        0.968610"
      ]
     },
     "execution_count": 112,
     "metadata": {},
     "output_type": "execute_result"
    }
   ],
   "source": [
    "score_df"
   ]
  },
  {
   "cell_type": "code",
   "execution_count": 113,
   "id": "9ef8b48d-6fe1-443e-b615-d559fa6c9c4f",
   "metadata": {},
   "outputs": [],
   "source": [
    "class_names = np.array(['spam', 'ham'])"
   ]
  },
  {
   "cell_type": "code",
   "execution_count": 126,
   "id": "72753ba0-1dd1-4254-8d32-84237c42f5b5",
   "metadata": {},
   "outputs": [],
   "source": [
    "def print_metrics(model, X, y, pred, set_name = 'This Set'):\n",
    "    \n",
    "    # change your class names here\n",
    "    class_names = np.array(['spam', 'ham'])\n",
    "    \n",
    "    print(model)\n",
    "    print(f\"~~~~~~~~{set_name} Scores~~~~~~~~~\")\n",
    "    print(classification_report(y, pred))\n",
    "    \n",
    "    #purple_cmap = sns.cubehelix_palette(as_cmap=True)\n",
    "    purple_cmap = sns.color_palette(\"light:maroon\", as_cmap=True)\n",
    "    \n",
    "    with sns.axes_style(\"white\"):\n",
    "        matrix = plot_confusion_matrix(model,X, y, display_labels=class_names, \n",
    "                                       cmap = purple_cmap)\n",
    "        plt.grid(False)\n",
    "        plt.show()\n",
    "        print()"
   ]
  },
  {
   "cell_type": "code",
   "execution_count": 127,
   "id": "bd30e0ad-5641-401e-becf-b583be90ec05",
   "metadata": {},
   "outputs": [],
   "source": [
    "from sklearn.metrics import classification_report, confusion_matrix, recall_score, plot_confusion_matrix\n",
    "\n",
    "import seaborn as sns\n",
    "import matplotlib.pyplot as plt"
   ]
  },
  {
   "cell_type": "code",
   "execution_count": 132,
   "id": "f9e90a5c-e05a-42a2-bd7f-fba1959484c6",
   "metadata": {},
   "outputs": [],
   "source": [
    "def make_models_and_print_metrics(model, model_name, X_train, y_train, X_validate, y_validate):\n",
    "    model.fit(X_train, y_train)\n",
    "\n",
    "    #predict for train and validate\n",
    "    train_pred = model.predict(X_train)\n",
    "    val_pred = model.predict(X_validate)\n",
    "    \n",
    "    print(f'                   ============== {model_name} ================           ')\n",
    "    #see metrics for train\n",
    "    print_metrics(model, X_train, y_train, train_pred, set_name='Train')\n",
    "    #print metrics for validate\n",
    "    print_metrics(model, X_validate, y_validate, val_pred, set_name='Validate')\n",
    "    print('-------------------------------------------------------------------\\n')"
   ]
  },
  {
   "cell_type": "code",
   "execution_count": 133,
   "id": "0f94f590-0e9b-401b-a276-064d452ac020",
   "metadata": {},
   "outputs": [
    {
     "name": "stdout",
     "output_type": "stream",
     "text": [
      "                   ============== Naive_Bayes1 ================           \n",
      "MultinomialNB()\n",
      "~~~~~~~~Train Scores~~~~~~~~~\n",
      "              precision    recall  f1-score   support\n",
      "\n",
      "         ham       0.96      1.00      0.98      2701\n",
      "        spam       1.00      0.74      0.85       418\n",
      "\n",
      "    accuracy                           0.96      3119\n",
      "   macro avg       0.98      0.87      0.91      3119\n",
      "weighted avg       0.97      0.96      0.96      3119\n",
      "\n"
     ]
    },
    {
     "data": {
      "image/png": "[encoded data removed]",
      "text/plain": [
       "<Figure size 432x288 with 2 Axes>"
      ]
     },
     "metadata": {},
     "output_type": "display_data"
    },
    {
     "name": "stdout",
     "output_type": "stream",
     "text": [
      "\n",
      "MultinomialNB()\n",
      "~~~~~~~~Validate Scores~~~~~~~~~\n",
      "              precision    recall  f1-score   support\n",
      "\n",
      "         ham       0.94      1.00      0.97      1158\n",
      "        spam       1.00      0.57      0.73       180\n",
      "\n",
      "    accuracy                           0.94      1338\n",
      "   macro avg       0.97      0.79      0.85      1338\n",
      "weighted avg       0.95      0.94      0.94      1338\n",
      "\n"
     ]
    },
    {
     "data": {
      "image/png": "[encoded data removed]",
      "text/plain": [
       "<Figure size 432x288 with 2 Axes>"
      ]
     },
     "metadata": {},
     "output_type": "display_data"
    },
    {
     "name": "stdout",
     "output_type": "stream",
     "text": [
      "\n",
      "-------------------------------------------------------------------\n",
      "\n",
      "                   ============== SVC1 ================           \n",
      "LinearSVC()\n",
      "~~~~~~~~Train Scores~~~~~~~~~\n",
      "              precision    recall  f1-score   support\n",
      "\n",
      "         ham       1.00      1.00      1.00      2701\n",
      "        spam       1.00      1.00      1.00       418\n",
      "\n",
      "    accuracy                           1.00      3119\n",
      "   macro avg       1.00      1.00      1.00      3119\n",
      "weighted avg       1.00      1.00      1.00      3119\n",
      "\n"
     ]
    },
    {
     "data": {
      "image/png": "[encoded data removed]",
      "text/plain": [
       "<Figure size 432x288 with 2 Axes>"
      ]
     },
     "metadata": {},
     "output_type": "display_data"
    },
    {
     "name": "stdout",
     "output_type": "stream",
     "text": [
      "\n",
      "LinearSVC()\n",
      "~~~~~~~~Validate Scores~~~~~~~~~\n",
      "              precision    recall  f1-score   support\n",
      "\n",
      "         ham       0.98      1.00      0.99      1158\n",
      "        spam       0.97      0.84      0.90       180\n",
      "\n",
      "    accuracy                           0.98      1338\n",
      "   macro avg       0.97      0.92      0.94      1338\n",
      "weighted avg       0.98      0.98      0.97      1338\n",
      "\n"
     ]
    },
    {
     "data": {
      "image/png": "[encoded data removed]",
      "text/plain": [
       "<Figure size 432x288 with 2 Axes>"
      ]
     },
     "metadata": {},
     "output_type": "display_data"
    },
    {
     "name": "stdout",
     "output_type": "stream",
     "text": [
      "\n",
      "-------------------------------------------------------------------\n",
      "\n",
      "                   ============== Decision_tree1 ================           \n",
      "DecisionTreeClassifier()\n",
      "~~~~~~~~Train Scores~~~~~~~~~\n",
      "              precision    recall  f1-score   support\n",
      "\n",
      "         ham       1.00      1.00      1.00      2701\n",
      "        spam       1.00      1.00      1.00       418\n",
      "\n",
      "    accuracy                           1.00      3119\n",
      "   macro avg       1.00      1.00      1.00      3119\n",
      "weighted avg       1.00      1.00      1.00      3119\n",
      "\n"
     ]
    },
    {
     "data": {
      "image/png": "[encoded data removed]",
      "text/plain": [
       "<Figure size 432x288 with 2 Axes>"
      ]
     },
     "metadata": {},
     "output_type": "display_data"
    },
    {
     "name": "stdout",
     "output_type": "stream",
     "text": [
      "\n",
      "DecisionTreeClassifier()\n",
      "~~~~~~~~Validate Scores~~~~~~~~~\n",
      "              precision    recall  f1-score   support\n",
      "\n",
      "         ham       0.97      0.97      0.97      1158\n",
      "        spam       0.83      0.82      0.82       180\n",
      "\n",
      "    accuracy                           0.95      1338\n",
      "   macro avg       0.90      0.90      0.90      1338\n",
      "weighted avg       0.95      0.95      0.95      1338\n",
      "\n"
     ]
    },
    {
     "data": {
      "image/png": "[encoded data removed]",
      "text/plain": [
       "<Figure size 432x288 with 2 Axes>"
      ]
     },
     "metadata": {},
     "output_type": "display_data"
    },
    {
     "name": "stdout",
     "output_type": "stream",
     "text": [
      "\n",
      "-------------------------------------------------------------------\n",
      "\n",
      "                   ============== Random_forest1 ================           \n",
      "RandomForestClassifier()\n",
      "~~~~~~~~Train Scores~~~~~~~~~\n",
      "              precision    recall  f1-score   support\n",
      "\n",
      "         ham       1.00      1.00      1.00      2701\n",
      "        spam       1.00      1.00      1.00       418\n",
      "\n",
      "    accuracy                           1.00      3119\n",
      "   macro avg       1.00      1.00      1.00      3119\n",
      "weighted avg       1.00      1.00      1.00      3119\n",
      "\n"
     ]
    },
    {
     "data": {
      "image/png": "[encoded data removed]",
      "text/plain": [
       "<Figure size 432x288 with 2 Axes>"
      ]
     },
     "metadata": {},
     "output_type": "display_data"
    },
    {
     "name": "stdout",
     "output_type": "stream",
     "text": [
      "\n",
      "RandomForestClassifier()\n",
      "~~~~~~~~Validate Scores~~~~~~~~~\n",
      "              precision    recall  f1-score   support\n",
      "\n",
      "         ham       0.97      1.00      0.98      1158\n",
      "        spam       0.99      0.81      0.89       180\n",
      "\n",
      "    accuracy                           0.97      1338\n",
      "   macro avg       0.98      0.90      0.94      1338\n",
      "weighted avg       0.97      0.97      0.97      1338\n",
      "\n"
     ]
    },
    {
     "data": {
      "image/png": "[encoded data removed]",
      "text/plain": [
       "<Figure size 432x288 with 2 Axes>"
      ]
     },
     "metadata": {},
     "output_type": "display_data"
    },
    {
     "name": "stdout",
     "output_type": "stream",
     "text": [
      "\n",
      "-------------------------------------------------------------------\n",
      "\n"
     ]
    }
   ],
   "source": [
    "for model, name in zip(model_list, model_names):\n",
    "    score_df = test_a_model(X_train, y_train, X_validate, y_validate, model, name, score_df)\n",
    "    \n",
    "    make_models_and_print_metrics(model, name, X_train, y_train, X_validate, y_validate)"
   ]
  },
  {
   "cell_type": "code",
   "execution_count": null,
   "id": "9d1cc97f-de94-4206-8e15-20d28cbad95a",
   "metadata": {},
   "outputs": [],
   "source": []
  }
 ],
 "metadata": {
  "kernelspec": {
   "display_name": "Python 3",
   "language": "python",
   "name": "python3"
  },
  "language_info": {
   "codemirror_mode": {
    "name": "ipython",
    "version": 3
   },
   "file_extension": ".py",
   "mimetype": "text/x-python",
   "name": "python",
   "nbconvert_exporter": "python",
   "pygments_lexer": "ipython3",
   "version": "3.8.5"
  }
 },
 "nbformat": 4,
 "nbformat_minor": 5
}
