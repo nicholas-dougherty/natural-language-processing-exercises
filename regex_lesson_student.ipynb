{
 "cells": [
  {
   "cell_type": "markdown",
   "metadata": {},
   "source": [
    "# Regex\n",
    "\n",
    "- What is a regular expression?\n",
    "- When are regular expressions useful?"
   ]
  },
  {
   "cell_type": "code",
   "execution_count": 1,
   "metadata": {},
   "outputs": [],
   "source": [
    "import pandas as pd\n",
    "import re"
   ]
  },
  {
   "cell_type": "code",
   "execution_count": 2,
   "metadata": {},
   "outputs": [],
   "source": [
    "log_file_lines = '''\n",
    "76.185.131.226 - - [11/May/2020:14:25:53 +0000] \"GET / HTTP/1.1\" 200 42 \"-\" \"python-requests/2.23.0\"\n",
    "76.185.131.226 - - [11/May/2020:16:25:46 +0000] \"GET / HTTP/1.1\" 200 42 \"-\" \"python-requests/2.23.0\"\n",
    "76.185.131.226 - - [11/May/2020:16:25:58 +0000] \"GET / HTTP/1.1\" 200 42 \"-\" \"Mozilla/5.0 (Macintosh; Intel Mac OS X 10_12_6) AppleWebKit/537.36 (KHTML, like Gecko) Chrome/81.0.4044.129 Safari/537.36\"\n",
    "76.185.131.226 - - [11/May/2020:16:25:58 +0000] \"GET /favicon.ico HTTP/1.1\" 200 162 \"https://python.zach.lol/\" \"Mozilla/5.0 (Macintosh; Intel Mac OS X 10_12_6) AppleWebKit/537.36 (KHTML, like Gecko) Chrome/81.0.4044.129 Safari/537.36\"\n",
    "104.5.217.57 - - [11/May/2020:16:26:27 +0000] \"GET / HTTP/1.1\" 200 42 \"-\" \"python-requests/2.23.0\"\n",
    "76.185.131.226 - - [11/May/2020:16:26:46 +0000] \"GET /documentation HTTP/1.1\" 200 348 \"-\" \"python-requests/2.23.0\"\n",
    "76.185.131.226 - - [11/May/2020:16:26:54 +0000] \"GET /documentation HTTP/1.1\" 200 348 \"-\" \"python-requests/2.23.0\"\n",
    "104.5.217.57 - - [11/May/2020:16:27:04 +0000] \"GET /documentation HTTP/1.1\" 200 348 \"-\" \"python-requests/2.23.0\"\n",
    "76.185.131.226 - - [11/May/2020:16:27:05 +0000] \"GET /documentation HTTP/1.1\" 200 348 \"-\" \"python-requests/2.23.0\"\n",
    "76.185.131.226 - - [11/May/2020:16:27:10 +0000] \"GET /documentation HTTP/1.1\" 200 348 \"-\" \"python-requests/2.23.0\"\n",
    "'''"
   ]
  },
  {
   "cell_type": "code",
   "execution_count": 3,
   "metadata": {},
   "outputs": [],
   "source": [
    "import re # part of the python stdlib"
   ]
  },
  {
   "cell_type": "markdown",
   "metadata": {},
   "source": [
    "- search: shows a single match for a regex\n",
    "- findall: shows *all* the matches for a regex in a subject"
   ]
  },
  {
   "cell_type": "markdown",
   "metadata": {},
   "source": [
    "### Literals"
   ]
  },
  {
   "cell_type": "code",
   "execution_count": 4,
   "metadata": {},
   "outputs": [
    {
     "data": {
      "text/plain": [
       "<re.Match object; span=(0, 1), match='a'>"
      ]
     },
     "execution_count": 4,
     "metadata": {},
     "output_type": "execute_result"
    }
   ],
   "source": [
    "regexp = r'a'\n",
    "subject = 'abc'\n",
    "\n",
    "re.search(regexp, subject)"
   ]
  },
  {
   "cell_type": "markdown",
   "metadata": {},
   "source": [
    "<div style=\"background-color: rgba(0, 100, 200, .1); padding: 1em 3em; border-radius: 5px; border: 1px solid black\">\n",
    "    <div style=\"font-weight: bold; font-size: 1.2em; border-bottom: 1px dashed black; padding-bottom: .5em;\">\n",
    "        Mini Exercise\n",
    "    </div>\n",
    "    <ol>\n",
    "        <li>Change your regular expression to match the literal character \"b\". What do you notice?</li>\n",
    "        <li>Change your regular expression to match the literal string \"ab\". What do you notice?</li>\n",
    "        <li>Change your regular expression to match the literal \"d\". What do you notice?</li>\n",
    "        <li>Use <code>re.findall</code> instead of <code>re.search</code>. How do the results differ?</li>\n",
    "        <li>Change your regular expression to just the \".\" character. What are the results?</li>\n",
    "    </ol>\n",
    "</div>"
   ]
  },
  {
   "cell_type": "code",
   "execution_count": 15,
   "metadata": {},
   "outputs": [
    {
     "name": "stdout",
     "output_type": "stream",
     "text": [
      "<re.Match object; span=(1, 2), match='b'>\n",
      "<re.Match object; span=(0, 2), match='ab'>\n",
      "None\n",
      "[]\n",
      "['ab']\n",
      "['b']\n",
      " Find all dot ['a', 'b', 'c']\n",
      " Search dot <re.Match object; span=(0, 1), match='a'>\n"
     ]
    }
   ],
   "source": [
    "regexp = r'b'\n",
    "subject = 'abc'\n",
    "\n",
    "print(f'{re.search(regexp, subject)}')\n",
    "\n",
    "regexp1 = r'ab'\n",
    "subject1 = 'abc'\n",
    "\n",
    "print(f'{re.search(regexp1, subject1)}')\n",
    "\n",
    "regexp2 = r'd'\n",
    "subject2 = 'abc'\n",
    "\n",
    "print(f'{re.search(regexp2, subject2)}')\n",
    "\n",
    "print(f'{re.findall(regexp2, subject2)}')\n",
    "\n",
    "print(f'{re.findall(regexp1, subject1)}')\n",
    "\n",
    "print(f'{re.findall(regexp, subject)}')\n",
    "\n",
    "regexp3 = '.'\n",
    "\n",
    "print(f' Find all dot {re.findall(regexp3, subject)}')\n",
    "\n",
    "print(f' Search dot {re.search(regexp3, subject)}')"
   ]
  },
  {
   "cell_type": "markdown",
   "metadata": {},
   "source": [
    "### Metacharacters\n",
    "\n",
    "- `.` # Matches anything.\n",
    "- `\\w` # matches any alpha-numeric (capitalized is the opposite)\n",
    "- `\\s` # Matches any white space character (capitalized is the opposite)\n",
    "- `\\d` # matches any number (capitalized is the opposite). remember d as digit. \n",
    "- Captial variants"
   ]
  },
  {
   "cell_type": "code",
   "execution_count": 5,
   "metadata": {},
   "outputs": [
    {
     "data": {
      "text/plain": [
       "<re.Match object; span=(0, 1), match='a'>"
      ]
     },
     "execution_count": 5,
     "metadata": {},
     "output_type": "execute_result"
    }
   ],
   "source": [
    "regexp = r'\\w'\n",
    "subject = 'abc 123'\n",
    "\n",
    "re.search(regexp, subject)"
   ]
  },
  {
   "cell_type": "code",
   "execution_count": 22,
   "metadata": {},
   "outputs": [
    {
     "name": "stdout",
     "output_type": "stream",
     "text": [
      " alpha numeric <re.Match object; span=(0, 1), match='a'>\n",
      " Alpha numeric ['a', 'b', 'c', '1', '2', '3']\n",
      " alpha numeric <re.Match object; span=(0, 2), match='ab'>\n",
      " Alpha numeric ['ab', '12']\n",
      " alpha numeric <re.Match object; span=(0, 3), match='abc'>\n",
      " Alpha numeric ['abc', '123']\n",
      " white space <re.Match object; span=(3, 4), match=' '>\n",
      " white space [' ']\n",
      " number <re.Match object; span=(4, 5), match='1'>\n",
      " number ['1', '2', '3']\n",
      " number <re.Match object; span=(0, 2), match='ba'>\n",
      " number ['ba', 'll', 's2', 'th', 'ew', 'al', 'ls', 'oo', 'oo', 'oh', 'ye', 'ah', 'hh', '69']\n",
      " number <re.Match object; span=(15, 16), match=' '>\n",
      " number [' ', ' ', ' ', ' ', ' ', ' ', ' ', ' ']\n",
      " number <re.Match object; span=(5, 6), match='2'>\n",
      " number ['2', '6', '9']\n"
     ]
    }
   ],
   "source": [
    "regexp = r'\\w'\n",
    "subject = 'abc 123'\n",
    "\n",
    "print(f' alpha numeric {re.search(regexp, subject)}')\n",
    "print(f' Alpha numeric {re.findall(regexp, subject)}')\n",
    "\n",
    "regexp1 = r'\\w\\w'\n",
    "\n",
    "print(f' alpha numeric {re.search(regexp1, subject)}')\n",
    "print(f' Alpha numeric {re.findall(regexp1, subject)}')\n",
    "\n",
    "regexp2 = r'\\w\\w\\w'\n",
    "\n",
    "print(f' alpha numeric {re.search(regexp2, subject)}')\n",
    "print(f' Alpha numeric {re.findall(regexp2, subject)}')\n",
    "\n",
    "regexp3 = r'\\s'\n",
    "\n",
    "print(f' white space {re.search(regexp3, subject)}')\n",
    "print(f' white space {re.findall(regexp3, subject)}')\n",
    "\n",
    "regexp4 = r'\\d'\n",
    "\n",
    "print(f' number {re.search(regexp4, subject)}')\n",
    "print(f' number {re.findall(regexp4, subject)}')\n",
    "\n",
    "subject2 = 'balls2thewalls.      oooooh yeahhh 69'\n",
    "\n",
    "print(f' number {re.search(regexp1, subject2)}')\n",
    "print(f' number {re.findall(regexp1, subject2)}')\n",
    "print(f' number {re.search(regexp3, subject2)}')\n",
    "print(f' number {re.findall(regexp3, subject2)}')\n",
    "print(f' number {re.search(regexp4, subject2)}')\n",
    "print(f' number {re.findall(regexp4, subject2)}')"
   ]
  },
  {
   "cell_type": "markdown",
   "metadata": {},
   "source": [
    "for rf or fr string, essentially the parts outside braces behave like an r-string, and the rest behaves like an f-string."
   ]
  },
  {
   "cell_type": "markdown",
   "metadata": {},
   "source": [
    "The r in regexpression stands for a 'raw string'. A case where no special escaping was done (i.e. no instances of \\n). In summary, the r tells python don't do any special interpretations of these strings."
   ]
  },
  {
   "cell_type": "markdown",
   "metadata": {},
   "source": [
    "<div style=\"background-color: rgba(0, 100, 200, .1); padding: 1em 3em; border-radius: 5px; border: 1px solid black\">\n",
    "    <div style=\"font-weight: bold; font-size: 1.2em; border-bottom: 1px dashed black; padding-bottom: .5em;\">\n",
    "        Mini Exercise\n",
    "    </div>\n",
    "    <p>Continue to use the same subject variable from above.</p>\n",
    "    <ol>\n",
    "        <li>Use all of the above metacharacters with <code>re.findall</code>. What do you notice?</li>\n",
    "        <li>What does the regular expression <code>\\w\\w</code> match?</li>\n",
    "        <li>Use only metacharacters to write a regular expression to match \"c 1\".</li>\n",
    "        <li>Use a combination of metacharacters to match 3 digits in a row.</li>\n",
    "    </ol>\n",
    "</div>"
   ]
  },
  {
   "cell_type": "markdown",
   "metadata": {},
   "source": [
    "### Repeating\n",
    "\n",
    "- `{}`: custom number of repetitions\n",
    "- `*`: zero or more\n",
    "- `+`: one or more\n",
    "- `?`: optional (used to remove the greediness)\n",
    "- greedy + non-greedy\n",
    "- inserting a period before the expression ```regexp = r'.{3,5}'```\n",
    "    - will say grab anything between three to five"
   ]
  },
  {
   "cell_type": "code",
   "execution_count": null,
   "metadata": {},
   "outputs": [],
   "source": [
    "regexp = r'\\w+'\n",
    "subject = 'abc 123'\n",
    "\n",
    "re.search(regexp, subject)"
   ]
  },
  {
   "cell_type": "code",
   "execution_count": 26,
   "metadata": {},
   "outputs": [
    {
     "data": {
      "text/plain": [
       "<re.Match object; span=(0, 7), match='abc 123'>"
      ]
     },
     "execution_count": 26,
     "metadata": {},
     "output_type": "execute_result"
    }
   ],
   "source": [
    "regexp = r'.+\\d'\n",
    "subject = 'abc 123'\n",
    "\n",
    "re.search(regexp, subject)"
   ]
  },
  {
   "cell_type": "code",
   "execution_count": 27,
   "metadata": {},
   "outputs": [
    {
     "data": {
      "text/plain": [
       "<re.Match object; span=(0, 5), match='abc 1'>"
      ]
     },
     "execution_count": 27,
     "metadata": {},
     "output_type": "execute_result"
    }
   ],
   "source": [
    "regexp = r'.+?\\d' # one or more of anything you can find up until the digit. \n",
    "subject = 'abc 123'\n",
    "\n",
    "re.search(regexp, subject)"
   ]
  },
  {
   "cell_type": "markdown",
   "metadata": {},
   "source": [
    "<div style=\"background-color: rgba(0, 100, 200, .1); padding: 1em 3em; border-radius: 5px; border: 1px solid black\">\n",
    "    <div style=\"font-weight: bold; font-size: 1.2em; border-bottom: 1px dashed black; padding-bottom: .5em;\">\n",
    "        Mini Exercise\n",
    "    </div>\n",
    "    <p>Use the string below as your subject for this exercise.</p>\n",
    "    <pre><code>Codeup, founded in 2014, is located at 600 Navarro St. Suite 350, San Antonio, TX 78230. You can find us online at http://codeup.com and our alumni portal is located at https://alumni.codeup.com.</code></pre>\n",
    "    <ol>\n",
    "        <li>Write a regular expression that matches all the numbers.</li>\n",
    "        <li>Write a regular expression that matches a 5 digit number, but not a number with fewer digits.</li>\n",
    "        <li>Write a regular expression that matches `http://` or `https://`.</li>\n",
    "        <li>Write a regular expression that matches all of the words.</li>\n",
    "    </ol>\n",
    "</div>\n",
    "\n",
    "### Repeating\n",
    "\n",
    "- `{}`: custom number of repetitions\n",
    "- `*`: zero or more\n",
    "- `+`: one or more\n",
    "- `?`: optional (used to remove the greediness)\n",
    "- greedy + non-greedy\n",
    "- inserting a period before the expression ```regexp = r'.{3,5}'```\n",
    "    - will say grab anything between three to five"
   ]
  },
  {
   "cell_type": "code",
   "execution_count": 49,
   "metadata": {},
   "outputs": [
    {
     "name": "stdout",
     "output_type": "stream",
     "text": [
      "[' 2014', ' 600', ' 350', ' 78230']\n",
      "<re.Match object; span=(19, 24), match=' 2014'>\n",
      "['78230']\n",
      "<re.Match object; span=(83, 88), match='78230'>\n",
      "['http://', 'https://']\n",
      "<re.Match object; span=(116, 123), match='http://'>\n",
      "['Codeup', 'founded', 'in', '2014', 'is', 'located', 'at', '600', 'Navarro', 'St', 'Suite', '350', 'San', 'Antonio', 'TX', '78230', 'You', 'can', 'find', 'us', 'online', 'at', 'http', 'codeup', 'com', 'and', 'our', 'alumni', 'portal', 'is', 'located', 'at', 'https', 'alumni', 'codeup', 'com']\n",
      "<re.Match object; span=(1, 7), match='Codeup'>\n",
      "['Codeup', 'founded', 'in', 'is', 'located', 'at', 'Navarro', 'St', 'Suite', 'San', 'Antonio', 'TX', 'You', 'can', 'find', 'us', 'online', 'at', 'http', 'codeup', 'com', 'and', 'our', 'alumni', 'portal', 'is', 'located', 'at', 'https', 'alumni', 'codeup', 'com']\n",
      "<re.Match object; span=(1, 7), match='Codeup'>\n"
     ]
    }
   ],
   "source": [
    "subject = '''\n",
    "Codeup, founded in 2014, is located at 600 Navarro St. Suite 350, San Antonio, TX 78230.\n",
    "You can find us online at http://codeup.com and our alumni portal is located\n",
    "at https://alumni.codeup.com.\n",
    "'''\n",
    "\n",
    "regexp1 = r'.\\d+'\n",
    "print(f'{re.findall(regexp1, subject)}')\n",
    "print(f'{re.search(regexp1, subject)}')\n",
    "\n",
    "# Write a regular expression that matches a 5 digit number, but not a number with fewer digits\n",
    "regexp2 = r'\\d{5}'\n",
    "print(f'{re.findall(regexp2, subject)}')\n",
    "print(f'{re.search(regexp2, subject)}')\n",
    "\n",
    "# Write a regular expression that matches `http://` or `https://`\n",
    "regexp3 = r'\\w+://'\n",
    "regexp3opt = r'https?://'\n",
    "print(f'{re.findall(regexp3, subject)}')\n",
    "print(f'{re.search(regexp3, subject)}')\n",
    "\n",
    "# all of the words\n",
    "regexp4 = r'\\w+'\n",
    "print(f'{re.findall(regexp4, subject)}')\n",
    "print(f'{re.search(regexp4, subject)}')\n",
    "# still includes numbers. Fix this by specifying\n",
    "regexp5 = r'[a-zA-z]+'\n",
    "print(f'{re.findall(regexp5, subject)}')\n",
    "print(f'{re.search(regexp5, subject)}')"
   ]
  },
  {
   "cell_type": "code",
   "execution_count": 50,
   "metadata": {},
   "outputs": [
    {
     "data": {
      "text/plain": [
       "' Codeup, founded in 2014, is located at 600 Navarro St. Suite 350, San Antonio, TX 78230.  You can find us online at http://codeup.com and our alumni portal is located  at https://alumni.codeup.com.'"
      ]
     },
     "execution_count": 50,
     "metadata": {},
     "output_type": "execute_result"
    }
   ],
   "source": [
    "subject2 = (\n",
    "    ' Codeup, founded in 2014, is located at 600 Navarro St. Suite 350, San Antonio, TX 78230. '\n",
    "    ' You can find us online at http://codeup.com and our alumni portal is located '\n",
    "    ' at https://alumni.codeup.com.'\n",
    ")\n",
    "\n",
    "subject2"
   ]
  },
  {
   "cell_type": "markdown",
   "metadata": {},
   "source": [
    "### Any/None Of\n",
    "Kind of like or. "
   ]
  },
  {
   "cell_type": "code",
   "execution_count": 52,
   "metadata": {},
   "outputs": [
    {
     "name": "stdout",
     "output_type": "stream",
     "text": [
      "<re.Match object; span=(0, 3), match='abc'>\n",
      "['abc', '123']\n"
     ]
    }
   ],
   "source": [
    "regexp = r'[a1][b2][c3]'\n",
    "# find any a or 1, any b or 2, and c or 3.\n",
    "subject = 'abc 123'\n",
    "\n",
    "print(f'{re.match(regexp, subject)}')\n",
    "print(f'{re.findall(regexp, subject)}')"
   ]
  },
  {
   "cell_type": "code",
   "execution_count": 55,
   "metadata": {},
   "outputs": [
    {
     "name": "stdout",
     "output_type": "stream",
     "text": [
      "<re.Match object; span=(0, 3), match='123'>\n",
      "['123']\n",
      "<re.Match object; span=(0, 3), match='123'>\n"
     ]
    }
   ],
   "source": [
    "regexp= r'[0-9]+'\n",
    "subject = '123abc'\n",
    "\n",
    "print(f'{re.match(regexp, subject)}')\n",
    "print(f'{re.findall(regexp, subject)}')\n",
    "print(f'{re.search(regexp, subject)}')\n",
    "\n",
    "# search finds the first time a pattern matches in a string\n",
    "# findall indicates every match\n",
    "# match finds the first time a pattern matches a string, but the start of the pattern and string\n",
    "# have to be the same. Match is not really being used in the overview because it is clunkier. \n",
    "# so use search instead. "
   ]
  },
  {
   "cell_type": "markdown",
   "metadata": {},
   "source": [
    "<div style=\"background-color: rgba(0, 100, 200, .1); padding: 1em 3em; border-radius: 5px; border: 1px solid black\">\n",
    "    <div style=\"font-weight: bold; font-size: 1.2em; border-bottom: 1px dashed black; padding-bottom: .5em;\">\n",
    "        Mini Exercise\n",
    "    </div>\n",
    "    <p>For this exercise you should make up various subjects and test them with your regular expressions.</p>\n",
    "    <ol>\n",
    "        <li>Write a regular expression that matches even numbers.</li>\n",
    "        <li>Write a regular expression that matches 2 or more odd numbers in a row.</li>\n",
    "        <li>Write a regular expression that any word with a vowel in it.</li>\n",
    "    </ol>\n",
    "</div>"
   ]
  },
  {
   "cell_type": "code",
   "execution_count": 73,
   "metadata": {},
   "outputs": [
    {
     "name": "stdout",
     "output_type": "stream",
     "text": [
      "[]\n",
      "None\n",
      "['2', '34', '6']\n",
      "['1235 69 ']\n",
      "['69 33 ']\n",
      "[]\n"
     ]
    }
   ],
   "source": [
    "regexp= r'^\\d*[02468]$'\n",
    "subject = '1 2 34 abc6'\n",
    "subject2 = 'oddballs 1235 69 33 20 14'\n",
    "\n",
    "regexp2 =  r'^(\\s*\\d*[02468]\\s*,)*(\\s*\\d*[02468]\\s*)$'\n",
    "# evennumbers\n",
    "print(f'{re.findall(regexp2, subject)}')\n",
    "\n",
    "print(f'{re.search(regexp2, subject)}')\n",
    "\n",
    "regexp3 = r'\\d*[02468]'\n",
    "\n",
    "print(f'{re.findall(regexp3, subject)}')\n",
    "\n",
    "regexp4 = r'\\d*[13579]\\D+\\d*[13579]\\D+'\n",
    "\n",
    "print(f'{re.findall(regexp4, subject2)}') # not matching 33, good. Only supposed to match 2 in a row\n",
    "\n",
    "# varying to make sure it works\n",
    "subject3 = 'oddballs 1235 22 69 33 20 14'\n",
    "print(f'{re.findall(regexp4, subject3)}')\n",
    "# should show 69 33. Success\n",
    "\n",
    "subject4 = 'oddballs 1235 22 69 12 33 20 14'\n",
    "print(f'{re.findall(regexp4, subject4)}') # nice. \n",
    "\n",
    "# a regular expression for any word with a vowel in it. \n"
   ]
  },
  {
   "cell_type": "markdown",
   "metadata": {},
   "source": [
    "### Anchors\n",
    "\n",
    "- `^`: Start with\n",
    "- `$`: Ends with\n",
    "- \\b: word boundary"
   ]
  },
  {
   "cell_type": "code",
   "execution_count": 78,
   "metadata": {},
   "outputs": [],
   "source": [
    "# For evens\n",
    "regexp = r\"\\d*[02468]\\b\""
   ]
  },
  {
   "cell_type": "code",
   "execution_count": 74,
   "metadata": {},
   "outputs": [
    {
     "data": {
      "text/plain": [
       "<re.Match object; span=(1, 2), match='b'>"
      ]
     },
     "execution_count": 74,
     "metadata": {},
     "output_type": "execute_result"
    }
   ],
   "source": [
    "regexp = r'b'\n",
    "subject = 'abc 123'\n",
    "\n",
    "re.search(regexp, subject)"
   ]
  },
  {
   "cell_type": "code",
   "execution_count": 77,
   "metadata": {},
   "outputs": [
    {
     "data": {
      "text/plain": [
       "<re.Match object; span=(4, 7), match='123'>"
      ]
     },
     "execution_count": 77,
     "metadata": {},
     "output_type": "execute_result"
    }
   ],
   "source": [
    "regexp = r'\\d+$'\n",
    "subject = 'abc 123'\n",
    "\n",
    "re.search(regexp, subject)"
   ]
  },
  {
   "cell_type": "code",
   "execution_count": 83,
   "metadata": {},
   "outputs": [
    {
     "data": {
      "text/plain": [
       "<re.Match object; span=(6, 7), match='3'>"
      ]
     },
     "execution_count": 83,
     "metadata": {},
     "output_type": "execute_result"
    }
   ],
   "source": [
    "# any character before the end of the screen\n",
    "regexp = r'.$'\n",
    "subject = 'abc 123'\n",
    "\n",
    "re.search(regexp, subject)\n",
    "# both give a 3. The search includes the span. \n",
    "#re.findall(regexp, subject)"
   ]
  },
  {
   "cell_type": "code",
   "execution_count": 88,
   "metadata": {},
   "outputs": [
    {
     "name": "stdout",
     "output_type": "stream",
     "text": [
      "<re.Match object; span=(2, 3), match='c'>\n",
      "['c', ' ', '3']\n",
      "<re.Match object; span=(0, 1), match='a'>\n",
      "['a', ' ', '1']\n",
      "<re.Match object; span=(0, 1), match='a'>\n",
      "['a', ' ', '1', ' ']\n",
      "<re.Match object; span=(2, 3), match='c'>\n",
      "['c', '!', '3']\n"
     ]
    }
   ],
   "source": [
    "# Find character immediately before a word boundary\n",
    "regexp = r'.\\b'\n",
    "subject = 'abc 123'\n",
    "\n",
    "print(f'{re.search(regexp, subject)}')\n",
    "print(f'{re.findall(regexp, subject)}')\n",
    "\n",
    "\n",
    "regexp = r'\\b.'\n",
    "subject = 'abc 123'\n",
    "\n",
    "print(f'{re.search(regexp, subject)}')\n",
    "print(f'{re.findall(regexp, subject)}')\n",
    "\n",
    "# word boundary: a sequence of alphanumerics where a word begins and ends; including spaces\n",
    "\n",
    "regexp = r'\\b.'\n",
    "subject = 'abc ?! !123 .... %'\n",
    "\n",
    "print(f'{re.search(regexp, subject)}')\n",
    "print(f'{re.findall(regexp, subject)}')\n",
    "\n",
    "regexp = r'.\\b'\n",
    "subject = 'abc ?! !123 .... %'\n",
    "\n",
    "print(f'{re.search(regexp, subject)}')\n",
    "print(f'{re.findall(regexp, subject)}')\n",
    "\n",
    "# confused. "
   ]
  },
  {
   "cell_type": "markdown",
   "metadata": {},
   "source": [
    "<div style=\"background-color: rgba(0, 100, 200, .1); padding: 1em 3em; border-radius: 5px; border: 1px solid black\">\n",
    "    <div style=\"font-weight: bold; font-size: 1.2em; border-bottom: 1px dashed black; padding-bottom: .5em;\">\n",
    "        Mini Exercise\n",
    "    </div>\n",
    "    <p>For this exercise you should make up various subjects and test them with your regular expressions.</p>\n",
    "    <ol>\n",
    "        <li>Write a regular expression that matches if a word starts with a vowel.</li>\n",
    "        <li>Write a regular expression that matches if a word starts with a capital letter.</li>\n",
    "        <li>Write a regular expression that matches if a word ends with a capital letter.</li>        \n",
    "        <li>Write a regular expression that matches if a word starts <b>and</b> ends with a capital letter.</li>\n",
    "    </ol>\n",
    "</div>"
   ]
  },
  {
   "cell_type": "code",
   "execution_count": 126,
   "metadata": {},
   "outputs": [
    {
     "name": "stdout",
     "output_type": "stream",
     "text": [
      "['apple']\n",
      "['Ooh']\n",
      "['TarnatioN']\n",
      "[]\n"
     ]
    }
   ],
   "source": [
    "# starts with a vowel\n",
    "regex = r'^[aeiouAEIOU]\\w+'\n",
    "subject = 'Dog Apple Banana Earth'\n",
    "subject2 = 'apple snapple apple'\n",
    "\n",
    "print(f'{re.findall(regex, subject2)}')\n",
    "\n",
    "# starts with a capital letter\n",
    "regex = r'^[A-Z]\\w+'\n",
    "subject = 'Ooh AH ooh AHAHA haha AHHH'\n",
    "\n",
    "print(f'{re.findall(regex, subject)}')\n",
    "\n",
    "# ends with a capital letter\n",
    "regex = r'\\w+[A-Z]$'\n",
    "subject = 'whaT in TarnatioN'\n",
    "\n",
    "print(f'{re.findall(regex, subject)}')\n",
    "\n",
    "# starts and ends with a capital letter\n",
    "regex = r'^\\w+[A-Z]\\w+$'\n",
    "subject = 'WhaT the HecK'\n",
    "\n",
    "print(f'{re.findall(regex, subject)}')"
   ]
  },
  {
   "cell_type": "code",
   "execution_count": 117,
   "metadata": {},
   "outputs": [
    {
     "data": {
      "text/plain": [
       "<re.Match object; span=(0, 5), match='eagle'>"
      ]
     },
     "execution_count": 117,
     "metadata": {},
     "output_type": "execute_result"
    }
   ],
   "source": [
    "def startswith_vowel(word):\n",
    "    regexp = r'^[aeiouAEIOU]\\w+'\n",
    "    return re.search(regexp, word)\n",
    "\n",
    "startswith_vowel('eagle')"
   ]
  },
  {
   "cell_type": "code",
   "execution_count": 119,
   "metadata": {},
   "outputs": [
    {
     "data": {
      "text/plain": [
       "[('birds,', None),\n",
       " ('organs,', <re.Match object; span=(0, 6), match='organs'>),\n",
       " ('dolphins,', None),\n",
       " ('eagles,', <re.Match object; span=(0, 6), match='eagles'>),\n",
       " ('utah', <re.Match object; span=(0, 4), match='utah'>)]"
      ]
     },
     "execution_count": 119,
     "metadata": {},
     "output_type": "execute_result"
    }
   ],
   "source": [
    "words = 'birds, organs, dolphins, eagles, utah'\n",
    "[(word, startswith_vowel(word)) for word in words.split()]"
   ]
  },
  {
   "cell_type": "code",
   "execution_count": 128,
   "metadata": {},
   "outputs": [
    {
     "data": {
      "text/html": [
       "<div><div id=7fd01b4d-ed53-428a-95a8-ccd436942b58 style=\"display:none; background-color:#9D6CFF; color:white; width:200px; height:30px; padding-left:5px; border-radius:4px; flex-direction:row; justify-content:space-around; align-items:center;\" onmouseover=\"this.style.backgroundColor='#BA9BF8'\" onmouseout=\"this.style.backgroundColor='#9D6CFF'\" onclick=\"window.commands?.execute('create-mitosheet-from-dataframe-output');\">See Full Dataframe in Mito</div> <script> if (window.commands.hasCommand('create-mitosheet-from-dataframe-output')) document.getElementById('7fd01b4d-ed53-428a-95a8-ccd436942b58').style.display = 'flex' </script> <table border=\"1\" class=\"dataframe\">\n",
       "  <thead>\n",
       "    <tr style=\"text-align: right;\">\n",
       "      <th></th>\n",
       "      <th>0</th>\n",
       "      <th>1</th>\n",
       "    </tr>\n",
       "  </thead>\n",
       "  <tbody>\n",
       "    <tr>\n",
       "      <th>0</th>\n",
       "      <td>NaN</td>\n",
       "      <td>NaN</td>\n",
       "    </tr>\n",
       "    <tr>\n",
       "      <th>1</th>\n",
       "      <td>12</td>\n",
       "      <td>3</td>\n",
       "    </tr>\n",
       "    <tr>\n",
       "      <th>2</th>\n",
       "      <td>12</td>\n",
       "      <td>3</td>\n",
       "    </tr>\n",
       "  </tbody>\n",
       "</table></div>"
      ],
      "text/plain": [
       "     0    1\n",
       "0  NaN  NaN\n",
       "1   12    3\n",
       "2   12    3"
      ]
     },
     "execution_count": 128,
     "metadata": {},
     "output_type": "execute_result"
    }
   ],
   "source": [
    "regexp= '.*?(\\d+)'\n",
    "regexp2= '.*?(\\d+)(\\d)$'\n",
    "\n",
    "df = pd.DataFrame()\n",
    "df['word'] = ['abc', 'abc123', '123']\n",
    "df.word.str.extract(regexp)\n",
    "df.word.str.extract(regexp2)"
   ]
  },
  {
   "cell_type": "markdown",
   "metadata": {},
   "source": [
    "### Capture Groups"
   ]
  },
  {
   "cell_type": "code",
   "execution_count": null,
   "metadata": {},
   "outputs": [],
   "source": [
    "regexp = '.*?(\\d+)'\n",
    "s = pd.Series(['abc', 'abc123', '123'])\n",
    "s.str.extract(regexp)"
   ]
  },
  {
   "cell_type": "markdown",
   "metadata": {},
   "source": [
    "## `re.sub`\n",
    "\n",
    "- removing\n",
    "- substitution"
   ]
  },
  {
   "cell_type": "code",
   "execution_count": 129,
   "metadata": {},
   "outputs": [
    {
     "data": {
      "text/plain": [
       "'abc'"
      ]
     },
     "execution_count": 129,
     "metadata": {},
     "output_type": "execute_result"
    }
   ],
   "source": [
    "regexp = r'\\d+'\n",
    "subject = 'abc123'\n",
    "\n",
    "re.sub(regexp, '', subject)"
   ]
  },
  {
   "cell_type": "code",
   "execution_count": 132,
   "metadata": {},
   "outputs": [
    {
     "data": {
      "text/plain": [
       "'abc3'"
      ]
     },
     "execution_count": 132,
     "metadata": {},
     "output_type": "execute_result"
    }
   ],
   "source": [
    "# last digit in a capture group\n",
    "regexp = r'\\d+(\\d)'\n",
    "subject = 'abc123'\n",
    "\n",
    "re.sub(regexp, r'XXX', subject)\n",
    "re.sub(regexp, r'\\1', subject)"
   ]
  },
  {
   "cell_type": "code",
   "execution_count": 134,
   "metadata": {},
   "outputs": [
    {
     "data": {
      "text/plain": [
       "'123abc'"
      ]
     },
     "execution_count": 134,
     "metadata": {},
     "output_type": "execute_result"
    }
   ],
   "source": [
    "regexp = r'([a-z]+)(\\d+)'\n",
    "subject = 'abc123'\n",
    "\n",
    "re.sub(regexp, r'\\2\\1', subject)"
   ]
  },
  {
   "cell_type": "markdown",
   "metadata": {},
   "source": [
    "<div style=\"background-color: rgba(0, 100, 200, .1); padding: 1em 3em; border-radius: 5px; border: 1px solid black\">\n",
    "    <div style=\"font-weight: bold; font-size: 1.2em; border-bottom: 1px dashed black; padding-bottom: .5em;\">\n",
    "        Mini Exercise\n",
    "    </div>\n",
    "    <p>Use the code below to get started on this exercise.</p>\n",
    "    <pre><code>dates = pd.Series(['2020-11-12', '2020-07-13', '2021-01-12'])</code></pre>\n",
    "    <p>Use regular expression substitution to reformat the dates in the format common in the US: m/d/y.</p>\n",
    "</div>"
   ]
  },
  {
   "cell_type": "code",
   "execution_count": 138,
   "metadata": {},
   "outputs": [
    {
     "data": {
      "text/plain": [
       "0    2020 (the year COVID started)-11-12\n",
       "1    2020 (the year COVID started)-07-13\n",
       "2                             2021-01-12\n",
       "dtype: object"
      ]
     },
     "execution_count": 138,
     "metadata": {},
     "output_type": "execute_result"
    }
   ],
   "source": [
    "dates = pd.Series(['2020-11-12', '2020-07-13', '2021-01-12'])\n",
    "dates.str.replace(r'(2020)', r'\\1 (the year COVID started)', regex=True)"
   ]
  },
  {
   "cell_type": "code",
   "execution_count": 139,
   "metadata": {},
   "outputs": [
    {
     "data": {
      "text/plain": [
       "0    11/12/2020\n",
       "1    07/13/2020\n",
       "2    01/12/2021\n",
       "dtype: object"
      ]
     },
     "execution_count": 139,
     "metadata": {},
     "output_type": "execute_result"
    }
   ],
   "source": [
    "dates = pd.Series(['2020-11-12', '2020-07-13', '2021-01-12'])\n",
    "dates.str.replace(r'(\\d{4})-(\\d{2})-(\\d{2})', r'\\2/\\3/\\1', regex=True)"
   ]
  },
  {
   "cell_type": "markdown",
   "metadata": {},
   "source": [
    "## Misc"
   ]
  },
  {
   "cell_type": "markdown",
   "metadata": {},
   "source": [
    "### Pandas Usage\n",
    "\n",
    "- `.str`\n",
    "    - `.extract` Pull capture groups out\n",
    "    - `.count` Count number of occurences\n",
    "    - `.contains` True or False on whether or not there is a match\n",
    "    - `.replace`\n",
    "- extract + concat: common pattern. \n",
    "- named groups"
   ]
  },
  {
   "cell_type": "code",
   "execution_count": 140,
   "metadata": {},
   "outputs": [
    {
     "data": {
      "text/html": [
       "<div><div id=800e3202-5f64-4ea5-9a06-a1f90fb1df3e style=\"display:none; background-color:#9D6CFF; color:white; width:200px; height:30px; padding-left:5px; border-radius:4px; flex-direction:row; justify-content:space-around; align-items:center;\" onmouseover=\"this.style.backgroundColor='#BA9BF8'\" onmouseout=\"this.style.backgroundColor='#9D6CFF'\" onclick=\"window.commands?.execute('create-mitosheet-from-dataframe-output');\">See Full Dataframe in Mito</div> <script> if (window.commands.hasCommand('create-mitosheet-from-dataframe-output')) document.getElementById('800e3202-5f64-4ea5-9a06-a1f90fb1df3e').style.display = 'flex' </script> <table border=\"1\" class=\"dataframe\">\n",
       "  <thead>\n",
       "    <tr style=\"text-align: right;\">\n",
       "      <th></th>\n",
       "      <th>text</th>\n",
       "    </tr>\n",
       "  </thead>\n",
       "  <tbody>\n",
       "    <tr>\n",
       "      <th>0</th>\n",
       "      <td>You should go check out https://regex101.com, it is a great website!</td>\n",
       "    </tr>\n",
       "    <tr>\n",
       "      <th>1</th>\n",
       "      <td>My favorite search engine is https://duckduckgo.com</td>\n",
       "    </tr>\n",
       "    <tr>\n",
       "      <th>2</th>\n",
       "      <td>If you have a question, you can get it answered through http://askjeeves.com, it is great!</td>\n",
       "    </tr>\n",
       "  </tbody>\n",
       "</table></div>"
      ],
      "text/plain": [
       "                                                text\n",
       "0  You should go check out https://regex101.com, ...\n",
       "1  My favorite search engine is https://duckduckg...\n",
       "2  If you have a question, you can get it answere..."
      ]
     },
     "execution_count": 140,
     "metadata": {},
     "output_type": "execute_result"
    }
   ],
   "source": [
    "df = pd.DataFrame()\n",
    "df['text'] = pd.Series([\n",
    "    'You should go check out https://regex101.com, it is a great website!',\n",
    "    'My favorite search engine is https://duckduckgo.com',\n",
    "    'If you have a question, you can get it answered through http://askjeeves.com, it is great!',\n",
    "])\n",
    "df"
   ]
  },
  {
   "cell_type": "code",
   "execution_count": 142,
   "metadata": {},
   "outputs": [
    {
     "data": {
      "text/html": [
       "<div><div id=2c54337a-ebea-4e74-88f1-398a9c89a1ec style=\"display:none; background-color:#9D6CFF; color:white; width:200px; height:30px; padding-left:5px; border-radius:4px; flex-direction:row; justify-content:space-around; align-items:center;\" onmouseover=\"this.style.backgroundColor='#BA9BF8'\" onmouseout=\"this.style.backgroundColor='#9D6CFF'\" onclick=\"window.commands?.execute('create-mitosheet-from-dataframe-output');\">See Full Dataframe in Mito</div> <script> if (window.commands.hasCommand('create-mitosheet-from-dataframe-output')) document.getElementById('2c54337a-ebea-4e74-88f1-398a9c89a1ec').style.display = 'flex' </script> <table border=\"1\" class=\"dataframe\">\n",
       "  <thead>\n",
       "    <tr style=\"text-align: right;\">\n",
       "      <th></th>\n",
       "      <th>0</th>\n",
       "      <th>1</th>\n",
       "      <th>2</th>\n",
       "    </tr>\n",
       "  </thead>\n",
       "  <tbody>\n",
       "    <tr>\n",
       "      <th>0</th>\n",
       "      <td>https</td>\n",
       "      <td>regex101</td>\n",
       "      <td>com</td>\n",
       "    </tr>\n",
       "    <tr>\n",
       "      <th>1</th>\n",
       "      <td>https</td>\n",
       "      <td>duckduckgo</td>\n",
       "      <td>com</td>\n",
       "    </tr>\n",
       "    <tr>\n",
       "      <th>2</th>\n",
       "      <td>http</td>\n",
       "      <td>askjeeves</td>\n",
       "      <td>com</td>\n",
       "    </tr>\n",
       "  </tbody>\n",
       "</table></div>"
      ],
      "text/plain": [
       "       0           1    2\n",
       "0  https    regex101  com\n",
       "1  https  duckduckgo  com\n",
       "2   http   askjeeves  com"
      ]
     },
     "execution_count": 142,
     "metadata": {},
     "output_type": "execute_result"
    }
   ],
   "source": [
    "df.text.str.extract(r'(https?)://(\\w+)\\.(\\w+)')"
   ]
  },
  {
   "cell_type": "code",
   "execution_count": 141,
   "metadata": {},
   "outputs": [
    {
     "data": {
      "text/html": [
       "<div><div id=f93227b8-d377-40dd-911a-3265d38bb67f style=\"display:none; background-color:#9D6CFF; color:white; width:200px; height:30px; padding-left:5px; border-radius:4px; flex-direction:row; justify-content:space-around; align-items:center;\" onmouseover=\"this.style.backgroundColor='#BA9BF8'\" onmouseout=\"this.style.backgroundColor='#9D6CFF'\" onclick=\"window.commands?.execute('create-mitosheet-from-dataframe-output');\">See Full Dataframe in Mito</div> <script> if (window.commands.hasCommand('create-mitosheet-from-dataframe-output')) document.getElementById('f93227b8-d377-40dd-911a-3265d38bb67f').style.display = 'flex' </script> <table border=\"1\" class=\"dataframe\">\n",
       "  <thead>\n",
       "    <tr style=\"text-align: right;\">\n",
       "      <th></th>\n",
       "      <th>text</th>\n",
       "      <th>protocol</th>\n",
       "      <th>base_domain</th>\n",
       "      <th>tld</th>\n",
       "    </tr>\n",
       "  </thead>\n",
       "  <tbody>\n",
       "    <tr>\n",
       "      <th>0</th>\n",
       "      <td>You should go check out https://regex101.com, it is a great website!</td>\n",
       "      <td>https</td>\n",
       "      <td>regex101</td>\n",
       "      <td>com</td>\n",
       "    </tr>\n",
       "    <tr>\n",
       "      <th>1</th>\n",
       "      <td>My favorite search engine is https://duckduckgo.com</td>\n",
       "      <td>https</td>\n",
       "      <td>duckduckgo</td>\n",
       "      <td>com</td>\n",
       "    </tr>\n",
       "    <tr>\n",
       "      <th>2</th>\n",
       "      <td>If you have a question, you can get it answered through http://askjeeves.com, it is great!</td>\n",
       "      <td>http</td>\n",
       "      <td>askjeeves</td>\n",
       "      <td>com</td>\n",
       "    </tr>\n",
       "  </tbody>\n",
       "</table></div>"
      ],
      "text/plain": [
       "                                                text protocol base_domain  tld\n",
       "0  You should go check out https://regex101.com, ...    https    regex101  com\n",
       "1  My favorite search engine is https://duckduckg...    https  duckduckgo  com\n",
       "2  If you have a question, you can get it answere...     http   askjeeves  com"
      ]
     },
     "execution_count": 141,
     "metadata": {},
     "output_type": "execute_result"
    }
   ],
   "source": [
    "url_parts = df.text.str.extract(r'(https?)://(\\w+)\\.(\\w+)')\n",
    "url_parts.columns = ['protocol', 'base_domain', 'tld']\n",
    "pd.concat([df, url_parts], axis=1)"
   ]
  },
  {
   "cell_type": "markdown",
   "metadata": {},
   "source": [
    "### Interactive Regex Tool\n",
    "\n",
    "To install the `hlre` tool:\n",
    "\n",
    "```\n",
    "python -m pip install hlre\n",
    "```\n",
    "\n",
    "[For more documentation and the source](https://github.com/zgulde/hlre)\n",
    "\n",
    "See also [regex101](https://regex101.com) (make sure to select the Python flavor)"
   ]
  },
  {
   "cell_type": "markdown",
   "metadata": {},
   "source": [
    "### Named capture groups"
   ]
  },
  {
   "cell_type": "code",
   "execution_count": 143,
   "metadata": {},
   "outputs": [
    {
     "data": {
      "text/plain": [
       "{'protocol': 'https', 'base_domain': 'regex101', 'tld': 'com'}"
      ]
     },
     "execution_count": 143,
     "metadata": {},
     "output_type": "execute_result"
    }
   ],
   "source": [
    "text = 'You should go check out https://regex101.com, it is a great website!'\n",
    "\n",
    "match = re.search(r'(?P<protocol>https?)://(?P<base_domain>\\w+)\\.(?P<tld>\\w+)', text)\n",
    "match.groupdict()"
   ]
  },
  {
   "cell_type": "code",
   "execution_count": 144,
   "metadata": {},
   "outputs": [
    {
     "data": {
      "text/html": [
       "<div><div id=306a775b-cac0-4e51-9d78-a5d96366c959 style=\"display:none; background-color:#9D6CFF; color:white; width:200px; height:30px; padding-left:5px; border-radius:4px; flex-direction:row; justify-content:space-around; align-items:center;\" onmouseover=\"this.style.backgroundColor='#BA9BF8'\" onmouseout=\"this.style.backgroundColor='#9D6CFF'\" onclick=\"window.commands?.execute('create-mitosheet-from-dataframe-output');\">See Full Dataframe in Mito</div> <script> if (window.commands.hasCommand('create-mitosheet-from-dataframe-output')) document.getElementById('306a775b-cac0-4e51-9d78-a5d96366c959').style.display = 'flex' </script> <table border=\"1\" class=\"dataframe\">\n",
       "  <thead>\n",
       "    <tr style=\"text-align: right;\">\n",
       "      <th></th>\n",
       "      <th>protocol</th>\n",
       "      <th>base_domain</th>\n",
       "      <th>tld</th>\n",
       "    </tr>\n",
       "  </thead>\n",
       "  <tbody>\n",
       "    <tr>\n",
       "      <th>0</th>\n",
       "      <td>https</td>\n",
       "      <td>regex101</td>\n",
       "      <td>com</td>\n",
       "    </tr>\n",
       "    <tr>\n",
       "      <th>1</th>\n",
       "      <td>https</td>\n",
       "      <td>duckduckgo</td>\n",
       "      <td>com</td>\n",
       "    </tr>\n",
       "    <tr>\n",
       "      <th>2</th>\n",
       "      <td>http</td>\n",
       "      <td>askjeeves</td>\n",
       "      <td>com</td>\n",
       "    </tr>\n",
       "  </tbody>\n",
       "</table></div>"
      ],
      "text/plain": [
       "  protocol base_domain  tld\n",
       "0    https    regex101  com\n",
       "1    https  duckduckgo  com\n",
       "2     http   askjeeves  com"
      ]
     },
     "execution_count": 144,
     "metadata": {},
     "output_type": "execute_result"
    }
   ],
   "source": [
    "df.text.str.extract(r'(?P<protocol>https?)://(?P<base_domain>\\w+)\\.(?P<tld>\\w+)')"
   ]
  },
  {
   "cell_type": "markdown",
   "metadata": {},
   "source": [
    "### Verbose regular expressions"
   ]
  },
  {
   "cell_type": "markdown",
   "metadata": {},
   "source": [
    "- `re.VERBOSE`\n",
    "- `(?# this is a comment)`"
   ]
  },
  {
   "cell_type": "code",
   "execution_count": null,
   "metadata": {},
   "outputs": [],
   "source": [
    "text = 'You should go check out https://regex101.com, it is a great website!'\n",
    "\n",
    "regexp = r'''\n",
    "(?P<protocol>https?)\n",
    ":// (?# ignore the :// that seperates protocol from domain)\n",
    "(?P<base_domain>\\w+)\n",
    "\\.\n",
    "(?P<tld>\\w+)\n",
    "'''\n",
    "match = re.search(regexp, text, re.VERBOSE) # whitespace in the regex is ignored\n",
    "match.groupdict()"
   ]
  }
 ],
 "metadata": {
  "kernelspec": {
   "display_name": "Python 3 (ipykernel)",
   "language": "python",
   "name": "python3"
  },
  "language_info": {
   "codemirror_mode": {
    "name": "ipython",
    "version": 3
   },
   "file_extension": ".py",
   "mimetype": "text/x-python",
   "name": "python",
   "nbconvert_exporter": "python",
   "pygments_lexer": "ipython3",
   "version": "3.9.7"
  }
 },
 "nbformat": 4,
 "nbformat_minor": 4
}
